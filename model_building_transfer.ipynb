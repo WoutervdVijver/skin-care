{
 "cells": [
  {
   "cell_type": "code",
   "execution_count": 1,
   "metadata": {},
   "outputs": [],
   "source": [
    "import numpy as np\n",
    "import pandas as pd\n",
    "import tensorflow as tf\n",
    "from tensorflow import keras\n",
    "import matplotlib.pyplot as plt\n",
    "from keras import Sequential\n",
    "from keras import layers\n",
    "import os\n",
    "from keras.preprocessing import image"
   ]
  },
  {
   "cell_type": "code",
   "execution_count": 93,
   "metadata": {},
   "outputs": [
    {
     "name": "stdout",
     "output_type": "stream",
     "text": [
      "Found 2625 files belonging to 7 classes.\n",
      "Found 875 files belonging to 7 classes.\n"
     ]
    }
   ],
   "source": [
    "train_ds = keras.preprocessing.image_dataset_from_directory(\n",
    "  './sampled_classes/train/', \n",
    "  labels='inferred',\n",
    "  label_mode='categorical', \n",
    "  seed=123, \n",
    "  batch_size=32, \n",
    "  image_size=(224, 224)\n",
    ")\n",
    "  \n",
    "val_ds = keras.preprocessing.image_dataset_from_directory(\n",
    "  './sampled_classes/validation/', \n",
    "  labels='inferred',\n",
    "  label_mode='categorical',\n",
    "  seed=123,\n",
    "  image_size=(224, 224),\n",
    "  batch_size=32)\n",
    "\n"
   ]
  },
  {
   "cell_type": "code",
   "execution_count": 47,
   "metadata": {},
   "outputs": [],
   "source": [
    "from keras.applications.vgg19 import VGG19\n",
    "from keras.applications.vgg19 import preprocess_input\n",
    "\n",
    "model_t = VGG19(\n",
    "    include_top=False,\n",
    "    weights=\"imagenet\",\n",
    "    input_shape=(224, 224, 3),\n",
    ")\n",
    "model_t.trainable = False\n",
    "\n",
    "train_ds = train_ds.map(lambda x,y : (preprocess_input(x), y))\n",
    "val_ds = val_ds.map(lambda x,y : (preprocess_input(x), y))"
   ]
  },
  {
   "cell_type": "code",
   "execution_count": 61,
   "metadata": {},
   "outputs": [
    {
     "data": {
      "text/plain": [
       "<KerasTensor: shape=(None, 224, 224, 3) dtype=float32 (created by layer 'input_4')>"
      ]
     },
     "execution_count": 61,
     "metadata": {},
     "output_type": "execute_result"
    }
   ],
   "source": [
    "model_t.input"
   ]
  },
  {
   "cell_type": "code",
   "execution_count": 45,
   "metadata": {},
   "outputs": [],
   "source": [
    "# plt.figure(figsize=(10, 10))\n",
    "# for i, (images, label) in enumerate(train_ds.take(9)):\n",
    "#     ax = plt.subplot(3, 3, i + 1)\n",
    "#     plt.imshow(images[0]/225)\n",
    "    "
   ]
  },
  {
   "cell_type": "code",
   "execution_count": 83,
   "metadata": {},
   "outputs": [],
   "source": [
    "new_model = Sequential([\n",
    "    layers.RandomRotation(factor=1, input_shape=(224, 224, 3)),\n",
    "    model_t,\n",
    "    layers.Flatten(),\n",
    "    layers.Dense(128, activation='relu'),\n",
    "    layers.Dense(7, activation='softmax')\n",
    "])"
   ]
  },
  {
   "cell_type": "code",
   "execution_count": 76,
   "metadata": {},
   "outputs": [],
   "source": [
    "inputs = model_t.input\n",
    "x = layers.RandomRotation(factor=1)(inputs)\n",
    "# x = preprocess_input(x)\n",
    "x = model_t(x, training=False)\n",
    "global_average_layer = layers.GlobalAveragePooling2D()\n",
    "x=global_average_layer(x)\n",
    "x = layers.Dropout(0.2)(x)\n",
    "outputs=layers.Dense(7, activation='softmax')(x)\n",
    "model = keras.Model(inputs, outputs)"
   ]
  },
  {
   "cell_type": "code",
   "execution_count": 77,
   "metadata": {},
   "outputs": [
    {
     "name": "stdout",
     "output_type": "stream",
     "text": [
      "Model: \"model_2\"\n",
      "_________________________________________________________________\n",
      "Layer (type)                 Output Shape              Param #   \n",
      "=================================================================\n",
      "input_4 (InputLayer)         [(None, 224, 224, 3)]     0         \n",
      "_________________________________________________________________\n",
      "random_rotation_4 (RandomRot (None, 224, 224, 3)       0         \n",
      "_________________________________________________________________\n",
      "tf.__operators__.getitem_2 ( (None, 224, 224, 3)       0         \n",
      "_________________________________________________________________\n",
      "tf.nn.bias_add_2 (TFOpLambda (None, 224, 224, 3)       0         \n",
      "_________________________________________________________________\n",
      "vgg19 (Functional)           (None, 7, 7, 512)         20024384  \n",
      "_________________________________________________________________\n",
      "global_average_pooling2d_2 ( (None, 512)               0         \n",
      "_________________________________________________________________\n",
      "dropout_2 (Dropout)          (None, 512)               0         \n",
      "_________________________________________________________________\n",
      "dense_7 (Dense)              (None, 7)                 3591      \n",
      "=================================================================\n",
      "Total params: 20,027,975\n",
      "Trainable params: 3,591\n",
      "Non-trainable params: 20,024,384\n",
      "_________________________________________________________________\n"
     ]
    }
   ],
   "source": [
    "model.summary()"
   ]
  },
  {
   "cell_type": "code",
   "execution_count": 78,
   "metadata": {},
   "outputs": [],
   "source": [
    "model.compile(\n",
    "    optimizer='adam', \n",
    "    loss=keras.metrics.CategoricalCrossentropy(),\n",
    "    metrics=['categorical_accuracy']) "
   ]
  },
  {
   "cell_type": "code",
   "execution_count": 79,
   "metadata": {},
   "outputs": [],
   "source": [
    "from keras import callbacks\n",
    "earlystopping = callbacks.EarlyStopping(monitor =\"val_categorical_accuracy\", \n",
    "                                        mode =\"max\", \n",
    "                                        patience = 5, \n",
    "                                        restore_best_weights = True,\n",
    "                                        verbose=2)"
   ]
  },
  {
   "cell_type": "code",
   "execution_count": 88,
   "metadata": {},
   "outputs": [],
   "source": [
    "for images, labels in train_ds.take(1):\n",
    "    train_X = images\n",
    "    train_y = labels\n",
    "\n",
    "for images, labels in val_ds.take(1):\n",
    "    val_X = images\n",
    "    val_y = labels\n"
   ]
  },
  {
   "cell_type": "code",
   "execution_count": 90,
   "metadata": {},
   "outputs": [
    {
     "name": "stdout",
     "output_type": "stream",
     "text": [
      "Epoch 1/20\n"
     ]
    },
    {
     "ename": "ValueError",
     "evalue": "in user code:\n\n    /Users/wvdvijve/miniconda3/envs/tf/lib/python3.8/site-packages/keras/engine/training.py:853 train_function  *\n        return step_function(self, iterator)\n    /Users/wvdvijve/miniconda3/envs/tf/lib/python3.8/site-packages/keras/engine/training.py:842 step_function  **\n        outputs = model.distribute_strategy.run(run_step, args=(data,))\n    /Users/wvdvijve/miniconda3/envs/tf/lib/python3.8/site-packages/tensorflow/python/distribute/distribute_lib.py:1286 run\n        return self._extended.call_for_each_replica(fn, args=args, kwargs=kwargs)\n    /Users/wvdvijve/miniconda3/envs/tf/lib/python3.8/site-packages/tensorflow/python/distribute/distribute_lib.py:2849 call_for_each_replica\n        return self._call_for_each_replica(fn, args, kwargs)\n    /Users/wvdvijve/miniconda3/envs/tf/lib/python3.8/site-packages/tensorflow/python/distribute/distribute_lib.py:3632 _call_for_each_replica\n        return fn(*args, **kwargs)\n    /Users/wvdvijve/miniconda3/envs/tf/lib/python3.8/site-packages/keras/engine/training.py:835 run_step  **\n        outputs = model.train_step(data)\n    /Users/wvdvijve/miniconda3/envs/tf/lib/python3.8/site-packages/keras/engine/training.py:791 train_step\n        self.optimizer.minimize(loss, self.trainable_variables, tape=tape)\n    /Users/wvdvijve/miniconda3/envs/tf/lib/python3.8/site-packages/keras/optimizer_v2/optimizer_v2.py:522 minimize\n        return self.apply_gradients(grads_and_vars, name=name)\n    /Users/wvdvijve/miniconda3/envs/tf/lib/python3.8/site-packages/keras/optimizer_v2/optimizer_v2.py:622 apply_gradients\n        grads_and_vars = optimizer_utils.filter_empty_gradients(grads_and_vars)\n    /Users/wvdvijve/miniconda3/envs/tf/lib/python3.8/site-packages/keras/optimizer_v2/utils.py:72 filter_empty_gradients\n        raise ValueError(\"No gradients provided for any variable: %s.\" %\n\n    ValueError: No gradients provided for any variable: ['dense_7/kernel:0', 'dense_7/bias:0'].\n",
     "output_type": "error",
     "traceback": [
      "\u001b[0;31m---------------------------------------------------------------------------\u001b[0m",
      "\u001b[0;31mValueError\u001b[0m                                Traceback (most recent call last)",
      "\u001b[1;32m/Users/wvdvijve/Documents/GitHub/becode-projects/skin-care/model_building_transfer.ipynb Cell 12'\u001b[0m in \u001b[0;36m<cell line: 1>\u001b[0;34m()\u001b[0m\n\u001b[0;32m----> <a href='vscode-notebook-cell:/Users/wvdvijve/Documents/GitHub/becode-projects/skin-care/model_building_transfer.ipynb#ch0000010?line=0'>1</a>\u001b[0m history \u001b[39m=\u001b[39m model\u001b[39m.\u001b[39;49mfit(train_X, train_y,\n\u001b[1;32m      <a href='vscode-notebook-cell:/Users/wvdvijve/Documents/GitHub/becode-projects/skin-care/model_building_transfer.ipynb#ch0000010?line=1'>2</a>\u001b[0m     validation_data\u001b[39m=\u001b[39;49m(val_X, val_y),\n\u001b[1;32m      <a href='vscode-notebook-cell:/Users/wvdvijve/Documents/GitHub/becode-projects/skin-care/model_building_transfer.ipynb#ch0000010?line=2'>3</a>\u001b[0m     epochs\u001b[39m=\u001b[39;49m\u001b[39m20\u001b[39;49m,\n\u001b[1;32m      <a href='vscode-notebook-cell:/Users/wvdvijve/Documents/GitHub/becode-projects/skin-care/model_building_transfer.ipynb#ch0000010?line=3'>4</a>\u001b[0m     callbacks\u001b[39m=\u001b[39;49mearlystopping\n\u001b[1;32m      <a href='vscode-notebook-cell:/Users/wvdvijve/Documents/GitHub/becode-projects/skin-care/model_building_transfer.ipynb#ch0000010?line=4'>5</a>\u001b[0m )\n",
      "File \u001b[0;32m~/miniconda3/envs/tf/lib/python3.8/site-packages/keras/engine/training.py:1184\u001b[0m, in \u001b[0;36mModel.fit\u001b[0;34m(self, x, y, batch_size, epochs, verbose, callbacks, validation_split, validation_data, shuffle, class_weight, sample_weight, initial_epoch, steps_per_epoch, validation_steps, validation_batch_size, validation_freq, max_queue_size, workers, use_multiprocessing)\u001b[0m\n\u001b[1;32m   <a href='file:///Users/wvdvijve/miniconda3/envs/tf/lib/python3.8/site-packages/keras/engine/training.py?line=1176'>1177</a>\u001b[0m \u001b[39mwith\u001b[39;00m tf\u001b[39m.\u001b[39mprofiler\u001b[39m.\u001b[39mexperimental\u001b[39m.\u001b[39mTrace(\n\u001b[1;32m   <a href='file:///Users/wvdvijve/miniconda3/envs/tf/lib/python3.8/site-packages/keras/engine/training.py?line=1177'>1178</a>\u001b[0m     \u001b[39m'\u001b[39m\u001b[39mtrain\u001b[39m\u001b[39m'\u001b[39m,\n\u001b[1;32m   <a href='file:///Users/wvdvijve/miniconda3/envs/tf/lib/python3.8/site-packages/keras/engine/training.py?line=1178'>1179</a>\u001b[0m     epoch_num\u001b[39m=\u001b[39mepoch,\n\u001b[1;32m   <a href='file:///Users/wvdvijve/miniconda3/envs/tf/lib/python3.8/site-packages/keras/engine/training.py?line=1179'>1180</a>\u001b[0m     step_num\u001b[39m=\u001b[39mstep,\n\u001b[1;32m   <a href='file:///Users/wvdvijve/miniconda3/envs/tf/lib/python3.8/site-packages/keras/engine/training.py?line=1180'>1181</a>\u001b[0m     batch_size\u001b[39m=\u001b[39mbatch_size,\n\u001b[1;32m   <a href='file:///Users/wvdvijve/miniconda3/envs/tf/lib/python3.8/site-packages/keras/engine/training.py?line=1181'>1182</a>\u001b[0m     _r\u001b[39m=\u001b[39m\u001b[39m1\u001b[39m):\n\u001b[1;32m   <a href='file:///Users/wvdvijve/miniconda3/envs/tf/lib/python3.8/site-packages/keras/engine/training.py?line=1182'>1183</a>\u001b[0m   callbacks\u001b[39m.\u001b[39mon_train_batch_begin(step)\n\u001b[0;32m-> <a href='file:///Users/wvdvijve/miniconda3/envs/tf/lib/python3.8/site-packages/keras/engine/training.py?line=1183'>1184</a>\u001b[0m   tmp_logs \u001b[39m=\u001b[39m \u001b[39mself\u001b[39;49m\u001b[39m.\u001b[39;49mtrain_function(iterator)\n\u001b[1;32m   <a href='file:///Users/wvdvijve/miniconda3/envs/tf/lib/python3.8/site-packages/keras/engine/training.py?line=1184'>1185</a>\u001b[0m   \u001b[39mif\u001b[39;00m data_handler\u001b[39m.\u001b[39mshould_sync:\n\u001b[1;32m   <a href='file:///Users/wvdvijve/miniconda3/envs/tf/lib/python3.8/site-packages/keras/engine/training.py?line=1185'>1186</a>\u001b[0m     context\u001b[39m.\u001b[39masync_wait()\n",
      "File \u001b[0;32m~/miniconda3/envs/tf/lib/python3.8/site-packages/tensorflow/python/eager/def_function.py:885\u001b[0m, in \u001b[0;36mFunction.__call__\u001b[0;34m(self, *args, **kwds)\u001b[0m\n\u001b[1;32m    <a href='file:///Users/wvdvijve/miniconda3/envs/tf/lib/python3.8/site-packages/tensorflow/python/eager/def_function.py?line=881'>882</a>\u001b[0m compiler \u001b[39m=\u001b[39m \u001b[39m\"\u001b[39m\u001b[39mxla\u001b[39m\u001b[39m\"\u001b[39m \u001b[39mif\u001b[39;00m \u001b[39mself\u001b[39m\u001b[39m.\u001b[39m_jit_compile \u001b[39melse\u001b[39;00m \u001b[39m\"\u001b[39m\u001b[39mnonXla\u001b[39m\u001b[39m\"\u001b[39m\n\u001b[1;32m    <a href='file:///Users/wvdvijve/miniconda3/envs/tf/lib/python3.8/site-packages/tensorflow/python/eager/def_function.py?line=883'>884</a>\u001b[0m \u001b[39mwith\u001b[39;00m OptionalXlaContext(\u001b[39mself\u001b[39m\u001b[39m.\u001b[39m_jit_compile):\n\u001b[0;32m--> <a href='file:///Users/wvdvijve/miniconda3/envs/tf/lib/python3.8/site-packages/tensorflow/python/eager/def_function.py?line=884'>885</a>\u001b[0m   result \u001b[39m=\u001b[39m \u001b[39mself\u001b[39;49m\u001b[39m.\u001b[39;49m_call(\u001b[39m*\u001b[39;49margs, \u001b[39m*\u001b[39;49m\u001b[39m*\u001b[39;49mkwds)\n\u001b[1;32m    <a href='file:///Users/wvdvijve/miniconda3/envs/tf/lib/python3.8/site-packages/tensorflow/python/eager/def_function.py?line=886'>887</a>\u001b[0m new_tracing_count \u001b[39m=\u001b[39m \u001b[39mself\u001b[39m\u001b[39m.\u001b[39mexperimental_get_tracing_count()\n\u001b[1;32m    <a href='file:///Users/wvdvijve/miniconda3/envs/tf/lib/python3.8/site-packages/tensorflow/python/eager/def_function.py?line=887'>888</a>\u001b[0m without_tracing \u001b[39m=\u001b[39m (tracing_count \u001b[39m==\u001b[39m new_tracing_count)\n",
      "File \u001b[0;32m~/miniconda3/envs/tf/lib/python3.8/site-packages/tensorflow/python/eager/def_function.py:924\u001b[0m, in \u001b[0;36mFunction._call\u001b[0;34m(self, *args, **kwds)\u001b[0m\n\u001b[1;32m    <a href='file:///Users/wvdvijve/miniconda3/envs/tf/lib/python3.8/site-packages/tensorflow/python/eager/def_function.py?line=920'>921</a>\u001b[0m \u001b[39mself\u001b[39m\u001b[39m.\u001b[39m_lock\u001b[39m.\u001b[39mrelease()\n\u001b[1;32m    <a href='file:///Users/wvdvijve/miniconda3/envs/tf/lib/python3.8/site-packages/tensorflow/python/eager/def_function.py?line=921'>922</a>\u001b[0m \u001b[39m# In this case we have not created variables on the first call. So we can\u001b[39;00m\n\u001b[1;32m    <a href='file:///Users/wvdvijve/miniconda3/envs/tf/lib/python3.8/site-packages/tensorflow/python/eager/def_function.py?line=922'>923</a>\u001b[0m \u001b[39m# run the first trace but we should fail if variables are created.\u001b[39;00m\n\u001b[0;32m--> <a href='file:///Users/wvdvijve/miniconda3/envs/tf/lib/python3.8/site-packages/tensorflow/python/eager/def_function.py?line=923'>924</a>\u001b[0m results \u001b[39m=\u001b[39m \u001b[39mself\u001b[39;49m\u001b[39m.\u001b[39;49m_stateful_fn(\u001b[39m*\u001b[39;49margs, \u001b[39m*\u001b[39;49m\u001b[39m*\u001b[39;49mkwds)\n\u001b[1;32m    <a href='file:///Users/wvdvijve/miniconda3/envs/tf/lib/python3.8/site-packages/tensorflow/python/eager/def_function.py?line=924'>925</a>\u001b[0m \u001b[39mif\u001b[39;00m \u001b[39mself\u001b[39m\u001b[39m.\u001b[39m_created_variables \u001b[39mand\u001b[39;00m \u001b[39mnot\u001b[39;00m ALLOW_DYNAMIC_VARIABLE_CREATION:\n\u001b[1;32m    <a href='file:///Users/wvdvijve/miniconda3/envs/tf/lib/python3.8/site-packages/tensorflow/python/eager/def_function.py?line=925'>926</a>\u001b[0m   \u001b[39mraise\u001b[39;00m \u001b[39mValueError\u001b[39;00m(\u001b[39m\"\u001b[39m\u001b[39mCreating variables on a non-first call to a function\u001b[39m\u001b[39m\"\u001b[39m\n\u001b[1;32m    <a href='file:///Users/wvdvijve/miniconda3/envs/tf/lib/python3.8/site-packages/tensorflow/python/eager/def_function.py?line=926'>927</a>\u001b[0m                    \u001b[39m\"\u001b[39m\u001b[39m decorated with tf.function.\u001b[39m\u001b[39m\"\u001b[39m)\n",
      "File \u001b[0;32m~/miniconda3/envs/tf/lib/python3.8/site-packages/tensorflow/python/eager/function.py:3038\u001b[0m, in \u001b[0;36mFunction.__call__\u001b[0;34m(self, *args, **kwargs)\u001b[0m\n\u001b[1;32m   <a href='file:///Users/wvdvijve/miniconda3/envs/tf/lib/python3.8/site-packages/tensorflow/python/eager/function.py?line=3034'>3035</a>\u001b[0m \u001b[39m\"\"\"Calls a graph function specialized to the inputs.\"\"\"\u001b[39;00m\n\u001b[1;32m   <a href='file:///Users/wvdvijve/miniconda3/envs/tf/lib/python3.8/site-packages/tensorflow/python/eager/function.py?line=3035'>3036</a>\u001b[0m \u001b[39mwith\u001b[39;00m \u001b[39mself\u001b[39m\u001b[39m.\u001b[39m_lock:\n\u001b[1;32m   <a href='file:///Users/wvdvijve/miniconda3/envs/tf/lib/python3.8/site-packages/tensorflow/python/eager/function.py?line=3036'>3037</a>\u001b[0m   (graph_function,\n\u001b[0;32m-> <a href='file:///Users/wvdvijve/miniconda3/envs/tf/lib/python3.8/site-packages/tensorflow/python/eager/function.py?line=3037'>3038</a>\u001b[0m    filtered_flat_args) \u001b[39m=\u001b[39m \u001b[39mself\u001b[39;49m\u001b[39m.\u001b[39;49m_maybe_define_function(args, kwargs)\n\u001b[1;32m   <a href='file:///Users/wvdvijve/miniconda3/envs/tf/lib/python3.8/site-packages/tensorflow/python/eager/function.py?line=3038'>3039</a>\u001b[0m \u001b[39mreturn\u001b[39;00m graph_function\u001b[39m.\u001b[39m_call_flat(\n\u001b[1;32m   <a href='file:///Users/wvdvijve/miniconda3/envs/tf/lib/python3.8/site-packages/tensorflow/python/eager/function.py?line=3039'>3040</a>\u001b[0m     filtered_flat_args, captured_inputs\u001b[39m=\u001b[39mgraph_function\u001b[39m.\u001b[39mcaptured_inputs)\n",
      "File \u001b[0;32m~/miniconda3/envs/tf/lib/python3.8/site-packages/tensorflow/python/eager/function.py:3459\u001b[0m, in \u001b[0;36mFunction._maybe_define_function\u001b[0;34m(self, args, kwargs)\u001b[0m\n\u001b[1;32m   <a href='file:///Users/wvdvijve/miniconda3/envs/tf/lib/python3.8/site-packages/tensorflow/python/eager/function.py?line=3448'>3449</a>\u001b[0m \u001b[39mwith\u001b[39;00m ag_ctx\u001b[39m.\u001b[39mControlStatusCtx(\n\u001b[1;32m   <a href='file:///Users/wvdvijve/miniconda3/envs/tf/lib/python3.8/site-packages/tensorflow/python/eager/function.py?line=3449'>3450</a>\u001b[0m     status\u001b[39m=\u001b[39mag_status, options\u001b[39m=\u001b[39m\u001b[39mself\u001b[39m\u001b[39m.\u001b[39m_autograph_options):\n\u001b[1;32m   <a href='file:///Users/wvdvijve/miniconda3/envs/tf/lib/python3.8/site-packages/tensorflow/python/eager/function.py?line=3450'>3451</a>\u001b[0m \n\u001b[0;32m   (...)\u001b[0m\n\u001b[1;32m   <a href='file:///Users/wvdvijve/miniconda3/envs/tf/lib/python3.8/site-packages/tensorflow/python/eager/function.py?line=3453'>3454</a>\u001b[0m   \u001b[39m# and 2. there's no provided input signature\u001b[39;00m\n\u001b[1;32m   <a href='file:///Users/wvdvijve/miniconda3/envs/tf/lib/python3.8/site-packages/tensorflow/python/eager/function.py?line=3454'>3455</a>\u001b[0m   \u001b[39m# and 3. there's been a cache miss for this calling context\u001b[39;00m\n\u001b[1;32m   <a href='file:///Users/wvdvijve/miniconda3/envs/tf/lib/python3.8/site-packages/tensorflow/python/eager/function.py?line=3455'>3456</a>\u001b[0m   \u001b[39mif\u001b[39;00m (\u001b[39mself\u001b[39m\u001b[39m.\u001b[39m_experimental_relax_shapes \u001b[39mand\u001b[39;00m\n\u001b[1;32m   <a href='file:///Users/wvdvijve/miniconda3/envs/tf/lib/python3.8/site-packages/tensorflow/python/eager/function.py?line=3456'>3457</a>\u001b[0m       \u001b[39mself\u001b[39m\u001b[39m.\u001b[39minput_signature \u001b[39mis\u001b[39;00m \u001b[39mNone\u001b[39;00m \u001b[39mand\u001b[39;00m\n\u001b[1;32m   <a href='file:///Users/wvdvijve/miniconda3/envs/tf/lib/python3.8/site-packages/tensorflow/python/eager/function.py?line=3457'>3458</a>\u001b[0m       call_context_key \u001b[39min\u001b[39;00m \u001b[39mself\u001b[39m\u001b[39m.\u001b[39m_function_cache\u001b[39m.\u001b[39mmissed):\n\u001b[0;32m-> <a href='file:///Users/wvdvijve/miniconda3/envs/tf/lib/python3.8/site-packages/tensorflow/python/eager/function.py?line=3458'>3459</a>\u001b[0m     \u001b[39mreturn\u001b[39;00m \u001b[39mself\u001b[39;49m\u001b[39m.\u001b[39;49m_define_function_with_shape_relaxation(\n\u001b[1;32m   <a href='file:///Users/wvdvijve/miniconda3/envs/tf/lib/python3.8/site-packages/tensorflow/python/eager/function.py?line=3459'>3460</a>\u001b[0m         args, kwargs, flat_args, filtered_flat_args, cache_key_context)\n\u001b[1;32m   <a href='file:///Users/wvdvijve/miniconda3/envs/tf/lib/python3.8/site-packages/tensorflow/python/eager/function.py?line=3461'>3462</a>\u001b[0m   \u001b[39mself\u001b[39m\u001b[39m.\u001b[39m_function_cache\u001b[39m.\u001b[39mmissed\u001b[39m.\u001b[39madd(call_context_key)\n\u001b[1;32m   <a href='file:///Users/wvdvijve/miniconda3/envs/tf/lib/python3.8/site-packages/tensorflow/python/eager/function.py?line=3462'>3463</a>\u001b[0m   graph_function \u001b[39m=\u001b[39m \u001b[39mself\u001b[39m\u001b[39m.\u001b[39m_create_graph_function(args, kwargs)\n",
      "File \u001b[0;32m~/miniconda3/envs/tf/lib/python3.8/site-packages/tensorflow/python/eager/function.py:3381\u001b[0m, in \u001b[0;36mFunction._define_function_with_shape_relaxation\u001b[0;34m(self, args, kwargs, flat_args, filtered_flat_args, cache_key_context)\u001b[0m\n\u001b[1;32m   <a href='file:///Users/wvdvijve/miniconda3/envs/tf/lib/python3.8/site-packages/tensorflow/python/eager/function.py?line=3373'>3374</a>\u001b[0m   (relaxed_arg_specs, relaxed_kwarg_specs) \u001b[39m=\u001b[39m nest\u001b[39m.\u001b[39mpack_sequence_as(\n\u001b[1;32m   <a href='file:///Users/wvdvijve/miniconda3/envs/tf/lib/python3.8/site-packages/tensorflow/python/eager/function.py?line=3374'>3375</a>\u001b[0m       (args, kwargs), relaxed_arg_specs, expand_composites\u001b[39m=\u001b[39m\u001b[39mFalse\u001b[39;00m)\n\u001b[1;32m   <a href='file:///Users/wvdvijve/miniconda3/envs/tf/lib/python3.8/site-packages/tensorflow/python/eager/function.py?line=3375'>3376</a>\u001b[0m   (args, kwargs) \u001b[39m=\u001b[39m nest\u001b[39m.\u001b[39mpack_sequence_as(\n\u001b[1;32m   <a href='file:///Users/wvdvijve/miniconda3/envs/tf/lib/python3.8/site-packages/tensorflow/python/eager/function.py?line=3376'>3377</a>\u001b[0m       (relaxed_arg_specs, relaxed_kwarg_specs),\n\u001b[1;32m   <a href='file:///Users/wvdvijve/miniconda3/envs/tf/lib/python3.8/site-packages/tensorflow/python/eager/function.py?line=3377'>3378</a>\u001b[0m       flat_args,\n\u001b[1;32m   <a href='file:///Users/wvdvijve/miniconda3/envs/tf/lib/python3.8/site-packages/tensorflow/python/eager/function.py?line=3378'>3379</a>\u001b[0m       expand_composites\u001b[39m=\u001b[39m\u001b[39mTrue\u001b[39;00m)\n\u001b[0;32m-> <a href='file:///Users/wvdvijve/miniconda3/envs/tf/lib/python3.8/site-packages/tensorflow/python/eager/function.py?line=3380'>3381</a>\u001b[0m graph_function \u001b[39m=\u001b[39m \u001b[39mself\u001b[39;49m\u001b[39m.\u001b[39;49m_create_graph_function(\n\u001b[1;32m   <a href='file:///Users/wvdvijve/miniconda3/envs/tf/lib/python3.8/site-packages/tensorflow/python/eager/function.py?line=3381'>3382</a>\u001b[0m     args, kwargs, override_flat_arg_shapes\u001b[39m=\u001b[39;49mrelaxed_arg_shapes)\n\u001b[1;32m   <a href='file:///Users/wvdvijve/miniconda3/envs/tf/lib/python3.8/site-packages/tensorflow/python/eager/function.py?line=3382'>3383</a>\u001b[0m \u001b[39mself\u001b[39m\u001b[39m.\u001b[39m_function_cache\u001b[39m.\u001b[39marg_relaxed[rank_only_cache_key] \u001b[39m=\u001b[39m graph_function\n\u001b[1;32m   <a href='file:///Users/wvdvijve/miniconda3/envs/tf/lib/python3.8/site-packages/tensorflow/python/eager/function.py?line=3384'>3385</a>\u001b[0m \u001b[39mreturn\u001b[39;00m (graph_function, [\n\u001b[1;32m   <a href='file:///Users/wvdvijve/miniconda3/envs/tf/lib/python3.8/site-packages/tensorflow/python/eager/function.py?line=3385'>3386</a>\u001b[0m     t \u001b[39mfor\u001b[39;00m t \u001b[39min\u001b[39;00m nest\u001b[39m.\u001b[39mflatten((args, kwargs), expand_composites\u001b[39m=\u001b[39m\u001b[39mTrue\u001b[39;00m)\n\u001b[1;32m   <a href='file:///Users/wvdvijve/miniconda3/envs/tf/lib/python3.8/site-packages/tensorflow/python/eager/function.py?line=3386'>3387</a>\u001b[0m     \u001b[39mif\u001b[39;00m \u001b[39misinstance\u001b[39m(t, (ops\u001b[39m.\u001b[39mTensor,\n\u001b[1;32m   <a href='file:///Users/wvdvijve/miniconda3/envs/tf/lib/python3.8/site-packages/tensorflow/python/eager/function.py?line=3387'>3388</a>\u001b[0m                       resource_variable_ops\u001b[39m.\u001b[39mBaseResourceVariable))\n\u001b[1;32m   <a href='file:///Users/wvdvijve/miniconda3/envs/tf/lib/python3.8/site-packages/tensorflow/python/eager/function.py?line=3388'>3389</a>\u001b[0m ])\n",
      "File \u001b[0;32m~/miniconda3/envs/tf/lib/python3.8/site-packages/tensorflow/python/eager/function.py:3298\u001b[0m, in \u001b[0;36mFunction._create_graph_function\u001b[0;34m(self, args, kwargs, override_flat_arg_shapes)\u001b[0m\n\u001b[1;32m   <a href='file:///Users/wvdvijve/miniconda3/envs/tf/lib/python3.8/site-packages/tensorflow/python/eager/function.py?line=3292'>3293</a>\u001b[0m missing_arg_names \u001b[39m=\u001b[39m [\n\u001b[1;32m   <a href='file:///Users/wvdvijve/miniconda3/envs/tf/lib/python3.8/site-packages/tensorflow/python/eager/function.py?line=3293'>3294</a>\u001b[0m     \u001b[39m\"\u001b[39m\u001b[39m%s\u001b[39;00m\u001b[39m_\u001b[39m\u001b[39m%d\u001b[39;00m\u001b[39m\"\u001b[39m \u001b[39m%\u001b[39m (arg, i) \u001b[39mfor\u001b[39;00m i, arg \u001b[39min\u001b[39;00m \u001b[39menumerate\u001b[39m(missing_arg_names)\n\u001b[1;32m   <a href='file:///Users/wvdvijve/miniconda3/envs/tf/lib/python3.8/site-packages/tensorflow/python/eager/function.py?line=3294'>3295</a>\u001b[0m ]\n\u001b[1;32m   <a href='file:///Users/wvdvijve/miniconda3/envs/tf/lib/python3.8/site-packages/tensorflow/python/eager/function.py?line=3295'>3296</a>\u001b[0m arg_names \u001b[39m=\u001b[39m base_arg_names \u001b[39m+\u001b[39m missing_arg_names\n\u001b[1;32m   <a href='file:///Users/wvdvijve/miniconda3/envs/tf/lib/python3.8/site-packages/tensorflow/python/eager/function.py?line=3296'>3297</a>\u001b[0m graph_function \u001b[39m=\u001b[39m ConcreteFunction(\n\u001b[0;32m-> <a href='file:///Users/wvdvijve/miniconda3/envs/tf/lib/python3.8/site-packages/tensorflow/python/eager/function.py?line=3297'>3298</a>\u001b[0m     func_graph_module\u001b[39m.\u001b[39;49mfunc_graph_from_py_func(\n\u001b[1;32m   <a href='file:///Users/wvdvijve/miniconda3/envs/tf/lib/python3.8/site-packages/tensorflow/python/eager/function.py?line=3298'>3299</a>\u001b[0m         \u001b[39mself\u001b[39;49m\u001b[39m.\u001b[39;49m_name,\n\u001b[1;32m   <a href='file:///Users/wvdvijve/miniconda3/envs/tf/lib/python3.8/site-packages/tensorflow/python/eager/function.py?line=3299'>3300</a>\u001b[0m         \u001b[39mself\u001b[39;49m\u001b[39m.\u001b[39;49m_python_function,\n\u001b[1;32m   <a href='file:///Users/wvdvijve/miniconda3/envs/tf/lib/python3.8/site-packages/tensorflow/python/eager/function.py?line=3300'>3301</a>\u001b[0m         args,\n\u001b[1;32m   <a href='file:///Users/wvdvijve/miniconda3/envs/tf/lib/python3.8/site-packages/tensorflow/python/eager/function.py?line=3301'>3302</a>\u001b[0m         kwargs,\n\u001b[1;32m   <a href='file:///Users/wvdvijve/miniconda3/envs/tf/lib/python3.8/site-packages/tensorflow/python/eager/function.py?line=3302'>3303</a>\u001b[0m         \u001b[39mself\u001b[39;49m\u001b[39m.\u001b[39;49minput_signature,\n\u001b[1;32m   <a href='file:///Users/wvdvijve/miniconda3/envs/tf/lib/python3.8/site-packages/tensorflow/python/eager/function.py?line=3303'>3304</a>\u001b[0m         autograph\u001b[39m=\u001b[39;49m\u001b[39mself\u001b[39;49m\u001b[39m.\u001b[39;49m_autograph,\n\u001b[1;32m   <a href='file:///Users/wvdvijve/miniconda3/envs/tf/lib/python3.8/site-packages/tensorflow/python/eager/function.py?line=3304'>3305</a>\u001b[0m         autograph_options\u001b[39m=\u001b[39;49m\u001b[39mself\u001b[39;49m\u001b[39m.\u001b[39;49m_autograph_options,\n\u001b[1;32m   <a href='file:///Users/wvdvijve/miniconda3/envs/tf/lib/python3.8/site-packages/tensorflow/python/eager/function.py?line=3305'>3306</a>\u001b[0m         arg_names\u001b[39m=\u001b[39;49marg_names,\n\u001b[1;32m   <a href='file:///Users/wvdvijve/miniconda3/envs/tf/lib/python3.8/site-packages/tensorflow/python/eager/function.py?line=3306'>3307</a>\u001b[0m         override_flat_arg_shapes\u001b[39m=\u001b[39;49moverride_flat_arg_shapes,\n\u001b[1;32m   <a href='file:///Users/wvdvijve/miniconda3/envs/tf/lib/python3.8/site-packages/tensorflow/python/eager/function.py?line=3307'>3308</a>\u001b[0m         capture_by_value\u001b[39m=\u001b[39;49m\u001b[39mself\u001b[39;49m\u001b[39m.\u001b[39;49m_capture_by_value),\n\u001b[1;32m   <a href='file:///Users/wvdvijve/miniconda3/envs/tf/lib/python3.8/site-packages/tensorflow/python/eager/function.py?line=3308'>3309</a>\u001b[0m     \u001b[39mself\u001b[39m\u001b[39m.\u001b[39m_function_attributes,\n\u001b[1;32m   <a href='file:///Users/wvdvijve/miniconda3/envs/tf/lib/python3.8/site-packages/tensorflow/python/eager/function.py?line=3309'>3310</a>\u001b[0m     function_spec\u001b[39m=\u001b[39m\u001b[39mself\u001b[39m\u001b[39m.\u001b[39mfunction_spec,\n\u001b[1;32m   <a href='file:///Users/wvdvijve/miniconda3/envs/tf/lib/python3.8/site-packages/tensorflow/python/eager/function.py?line=3310'>3311</a>\u001b[0m     \u001b[39m# Tell the ConcreteFunction to clean up its graph once it goes out of\u001b[39;00m\n\u001b[1;32m   <a href='file:///Users/wvdvijve/miniconda3/envs/tf/lib/python3.8/site-packages/tensorflow/python/eager/function.py?line=3311'>3312</a>\u001b[0m     \u001b[39m# scope. This is not the default behavior since it gets used in some\u001b[39;00m\n\u001b[1;32m   <a href='file:///Users/wvdvijve/miniconda3/envs/tf/lib/python3.8/site-packages/tensorflow/python/eager/function.py?line=3312'>3313</a>\u001b[0m     \u001b[39m# places (like Keras) where the FuncGraph lives longer than the\u001b[39;00m\n\u001b[1;32m   <a href='file:///Users/wvdvijve/miniconda3/envs/tf/lib/python3.8/site-packages/tensorflow/python/eager/function.py?line=3313'>3314</a>\u001b[0m     \u001b[39m# ConcreteFunction.\u001b[39;00m\n\u001b[1;32m   <a href='file:///Users/wvdvijve/miniconda3/envs/tf/lib/python3.8/site-packages/tensorflow/python/eager/function.py?line=3314'>3315</a>\u001b[0m     shared_func_graph\u001b[39m=\u001b[39m\u001b[39mFalse\u001b[39;00m)\n\u001b[1;32m   <a href='file:///Users/wvdvijve/miniconda3/envs/tf/lib/python3.8/site-packages/tensorflow/python/eager/function.py?line=3315'>3316</a>\u001b[0m \u001b[39mreturn\u001b[39;00m graph_function\n",
      "File \u001b[0;32m~/miniconda3/envs/tf/lib/python3.8/site-packages/tensorflow/python/framework/func_graph.py:1007\u001b[0m, in \u001b[0;36mfunc_graph_from_py_func\u001b[0;34m(name, python_func, args, kwargs, signature, func_graph, autograph, autograph_options, add_control_dependencies, arg_names, op_return_value, collections, capture_by_value, override_flat_arg_shapes, acd_record_initial_resource_uses)\u001b[0m\n\u001b[1;32m   <a href='file:///Users/wvdvijve/miniconda3/envs/tf/lib/python3.8/site-packages/tensorflow/python/framework/func_graph.py?line=1003'>1004</a>\u001b[0m \u001b[39melse\u001b[39;00m:\n\u001b[1;32m   <a href='file:///Users/wvdvijve/miniconda3/envs/tf/lib/python3.8/site-packages/tensorflow/python/framework/func_graph.py?line=1004'>1005</a>\u001b[0m   _, original_func \u001b[39m=\u001b[39m tf_decorator\u001b[39m.\u001b[39munwrap(python_func)\n\u001b[0;32m-> <a href='file:///Users/wvdvijve/miniconda3/envs/tf/lib/python3.8/site-packages/tensorflow/python/framework/func_graph.py?line=1006'>1007</a>\u001b[0m func_outputs \u001b[39m=\u001b[39m python_func(\u001b[39m*\u001b[39;49mfunc_args, \u001b[39m*\u001b[39;49m\u001b[39m*\u001b[39;49mfunc_kwargs)\n\u001b[1;32m   <a href='file:///Users/wvdvijve/miniconda3/envs/tf/lib/python3.8/site-packages/tensorflow/python/framework/func_graph.py?line=1008'>1009</a>\u001b[0m \u001b[39m# invariant: `func_outputs` contains only Tensors, CompositeTensors,\u001b[39;00m\n\u001b[1;32m   <a href='file:///Users/wvdvijve/miniconda3/envs/tf/lib/python3.8/site-packages/tensorflow/python/framework/func_graph.py?line=1009'>1010</a>\u001b[0m \u001b[39m# TensorArrays and `None`s.\u001b[39;00m\n\u001b[1;32m   <a href='file:///Users/wvdvijve/miniconda3/envs/tf/lib/python3.8/site-packages/tensorflow/python/framework/func_graph.py?line=1010'>1011</a>\u001b[0m func_outputs \u001b[39m=\u001b[39m nest\u001b[39m.\u001b[39mmap_structure(convert, func_outputs,\n\u001b[1;32m   <a href='file:///Users/wvdvijve/miniconda3/envs/tf/lib/python3.8/site-packages/tensorflow/python/framework/func_graph.py?line=1011'>1012</a>\u001b[0m                                   expand_composites\u001b[39m=\u001b[39m\u001b[39mTrue\u001b[39;00m)\n",
      "File \u001b[0;32m~/miniconda3/envs/tf/lib/python3.8/site-packages/tensorflow/python/eager/def_function.py:668\u001b[0m, in \u001b[0;36mFunction._defun_with_scope.<locals>.wrapped_fn\u001b[0;34m(*args, **kwds)\u001b[0m\n\u001b[1;32m    <a href='file:///Users/wvdvijve/miniconda3/envs/tf/lib/python3.8/site-packages/tensorflow/python/eager/def_function.py?line=663'>664</a>\u001b[0m \u001b[39mwith\u001b[39;00m default_graph\u001b[39m.\u001b[39m_variable_creator_scope(scope, priority\u001b[39m=\u001b[39m\u001b[39m50\u001b[39m):  \u001b[39m# pylint: disable=protected-access\u001b[39;00m\n\u001b[1;32m    <a href='file:///Users/wvdvijve/miniconda3/envs/tf/lib/python3.8/site-packages/tensorflow/python/eager/def_function.py?line=664'>665</a>\u001b[0m   \u001b[39m# __wrapped__ allows AutoGraph to swap in a converted function. We give\u001b[39;00m\n\u001b[1;32m    <a href='file:///Users/wvdvijve/miniconda3/envs/tf/lib/python3.8/site-packages/tensorflow/python/eager/def_function.py?line=665'>666</a>\u001b[0m   \u001b[39m# the function a weak reference to itself to avoid a reference cycle.\u001b[39;00m\n\u001b[1;32m    <a href='file:///Users/wvdvijve/miniconda3/envs/tf/lib/python3.8/site-packages/tensorflow/python/eager/def_function.py?line=666'>667</a>\u001b[0m   \u001b[39mwith\u001b[39;00m OptionalXlaContext(compile_with_xla):\n\u001b[0;32m--> <a href='file:///Users/wvdvijve/miniconda3/envs/tf/lib/python3.8/site-packages/tensorflow/python/eager/def_function.py?line=667'>668</a>\u001b[0m     out \u001b[39m=\u001b[39m weak_wrapped_fn()\u001b[39m.\u001b[39;49m__wrapped__(\u001b[39m*\u001b[39;49margs, \u001b[39m*\u001b[39;49m\u001b[39m*\u001b[39;49mkwds)\n\u001b[1;32m    <a href='file:///Users/wvdvijve/miniconda3/envs/tf/lib/python3.8/site-packages/tensorflow/python/eager/def_function.py?line=668'>669</a>\u001b[0m   \u001b[39mreturn\u001b[39;00m out\n",
      "File \u001b[0;32m~/miniconda3/envs/tf/lib/python3.8/site-packages/tensorflow/python/framework/func_graph.py:994\u001b[0m, in \u001b[0;36mfunc_graph_from_py_func.<locals>.wrapper\u001b[0;34m(*args, **kwargs)\u001b[0m\n\u001b[1;32m    <a href='file:///Users/wvdvijve/miniconda3/envs/tf/lib/python3.8/site-packages/tensorflow/python/framework/func_graph.py?line=991'>992</a>\u001b[0m \u001b[39mexcept\u001b[39;00m \u001b[39mException\u001b[39;00m \u001b[39mas\u001b[39;00m e:  \u001b[39m# pylint:disable=broad-except\u001b[39;00m\n\u001b[1;32m    <a href='file:///Users/wvdvijve/miniconda3/envs/tf/lib/python3.8/site-packages/tensorflow/python/framework/func_graph.py?line=992'>993</a>\u001b[0m   \u001b[39mif\u001b[39;00m \u001b[39mhasattr\u001b[39m(e, \u001b[39m\"\u001b[39m\u001b[39mag_error_metadata\u001b[39m\u001b[39m\"\u001b[39m):\n\u001b[0;32m--> <a href='file:///Users/wvdvijve/miniconda3/envs/tf/lib/python3.8/site-packages/tensorflow/python/framework/func_graph.py?line=993'>994</a>\u001b[0m     \u001b[39mraise\u001b[39;00m e\u001b[39m.\u001b[39mag_error_metadata\u001b[39m.\u001b[39mto_exception(e)\n\u001b[1;32m    <a href='file:///Users/wvdvijve/miniconda3/envs/tf/lib/python3.8/site-packages/tensorflow/python/framework/func_graph.py?line=994'>995</a>\u001b[0m   \u001b[39melse\u001b[39;00m:\n\u001b[1;32m    <a href='file:///Users/wvdvijve/miniconda3/envs/tf/lib/python3.8/site-packages/tensorflow/python/framework/func_graph.py?line=995'>996</a>\u001b[0m     \u001b[39mraise\u001b[39;00m\n",
      "\u001b[0;31mValueError\u001b[0m: in user code:\n\n    /Users/wvdvijve/miniconda3/envs/tf/lib/python3.8/site-packages/keras/engine/training.py:853 train_function  *\n        return step_function(self, iterator)\n    /Users/wvdvijve/miniconda3/envs/tf/lib/python3.8/site-packages/keras/engine/training.py:842 step_function  **\n        outputs = model.distribute_strategy.run(run_step, args=(data,))\n    /Users/wvdvijve/miniconda3/envs/tf/lib/python3.8/site-packages/tensorflow/python/distribute/distribute_lib.py:1286 run\n        return self._extended.call_for_each_replica(fn, args=args, kwargs=kwargs)\n    /Users/wvdvijve/miniconda3/envs/tf/lib/python3.8/site-packages/tensorflow/python/distribute/distribute_lib.py:2849 call_for_each_replica\n        return self._call_for_each_replica(fn, args, kwargs)\n    /Users/wvdvijve/miniconda3/envs/tf/lib/python3.8/site-packages/tensorflow/python/distribute/distribute_lib.py:3632 _call_for_each_replica\n        return fn(*args, **kwargs)\n    /Users/wvdvijve/miniconda3/envs/tf/lib/python3.8/site-packages/keras/engine/training.py:835 run_step  **\n        outputs = model.train_step(data)\n    /Users/wvdvijve/miniconda3/envs/tf/lib/python3.8/site-packages/keras/engine/training.py:791 train_step\n        self.optimizer.minimize(loss, self.trainable_variables, tape=tape)\n    /Users/wvdvijve/miniconda3/envs/tf/lib/python3.8/site-packages/keras/optimizer_v2/optimizer_v2.py:522 minimize\n        return self.apply_gradients(grads_and_vars, name=name)\n    /Users/wvdvijve/miniconda3/envs/tf/lib/python3.8/site-packages/keras/optimizer_v2/optimizer_v2.py:622 apply_gradients\n        grads_and_vars = optimizer_utils.filter_empty_gradients(grads_and_vars)\n    /Users/wvdvijve/miniconda3/envs/tf/lib/python3.8/site-packages/keras/optimizer_v2/utils.py:72 filter_empty_gradients\n        raise ValueError(\"No gradients provided for any variable: %s.\" %\n\n    ValueError: No gradients provided for any variable: ['dense_7/kernel:0', 'dense_7/bias:0'].\n"
     ]
    }
   ],
   "source": [
    "history = model.fit(train_ds,\n",
    "    validation_data=val_ds,\n",
    "    epochs=20,\n",
    "    callbacks=earlystopping\n",
    ")"
   ]
  },
  {
   "cell_type": "code",
   "execution_count": null,
   "metadata": {},
   "outputs": [],
   "source": []
  },
  {
   "cell_type": "markdown",
   "metadata": {},
   "source": [
    "# Poging 2"
   ]
  },
  {
   "cell_type": "code",
   "execution_count": 91,
   "metadata": {},
   "outputs": [
    {
     "name": "stdout",
     "output_type": "stream",
     "text": [
      "Downloading data from https://storage.googleapis.com/tensorflow/keras-applications/mobilenet_v2/mobilenet_v2_weights_tf_dim_ordering_tf_kernels_1.0_224_no_top.h5\n",
      "9412608/9406464 [==============================] - 1s 0us/step\n",
      "9420800/9406464 [==============================] - 1s 0us/step\n"
     ]
    }
   ],
   "source": [
    "# Import your chosen model!\n",
    "from tensorflow.keras.applications.mobilenet_v2 import MobileNetV2\n",
    "\n",
    "# Make a model object. \n",
    "# Make sure you exclude the top part. set the input shape of the model to 224x224 pixels, with 3 color channels.\n",
    "model = MobileNetV2(weights='imagenet', include_top=False, input_shape=(224,224,3))\n",
    "\n",
    "# Freeze the imported layers so they cannot be retrained.\n",
    "for layer in model.layers:\n",
    "    layer.trainable = False"
   ]
  },
  {
   "cell_type": "code",
   "execution_count": 98,
   "metadata": {},
   "outputs": [],
   "source": [
    "from keras import Sequential\n",
    "from keras.layers import Dense\n",
    "from keras.layers import Flatten\n",
    "from keras.layers import Dropout\n",
    "new_model = Sequential()\n",
    "new_model.add(model)\n",
    "new_model.add(Flatten())\n",
    "new_model.add(Dense(64, activation='relu'))\n",
    "new_model.add(Dropout(0.5))\n",
    "new_model.add(Dense(7, activation='sigmoid'))\n",
    "\n",
    "# Summarize."
   ]
  },
  {
   "cell_type": "code",
   "execution_count": 94,
   "metadata": {},
   "outputs": [],
   "source": [
    "from keras.applications.mobilenet_v2 import preprocess_input\n",
    "train_ds = train_ds.map(lambda x,y : (preprocess_input(x), y))\n",
    "val_ds = val_ds.map(lambda x,y : (preprocess_input(x), y))"
   ]
  },
  {
   "cell_type": "code",
   "execution_count": 99,
   "metadata": {},
   "outputs": [],
   "source": [
    "new_model.compile(\n",
    "    optimizer='adam', \n",
    "    loss=keras.metrics.CategoricalCrossentropy(),\n",
    "    metrics=['categorical_accuracy']) "
   ]
  },
  {
   "cell_type": "code",
   "execution_count": 100,
   "metadata": {},
   "outputs": [
    {
     "name": "stdout",
     "output_type": "stream",
     "text": [
      "Epoch 1/2\n"
     ]
    },
    {
     "ename": "ValueError",
     "evalue": "in user code:\n\n    /Users/wvdvijve/miniconda3/envs/tf/lib/python3.8/site-packages/keras/engine/training.py:853 train_function  *\n        return step_function(self, iterator)\n    /Users/wvdvijve/miniconda3/envs/tf/lib/python3.8/site-packages/keras/engine/training.py:842 step_function  **\n        outputs = model.distribute_strategy.run(run_step, args=(data,))\n    /Users/wvdvijve/miniconda3/envs/tf/lib/python3.8/site-packages/tensorflow/python/distribute/distribute_lib.py:1286 run\n        return self._extended.call_for_each_replica(fn, args=args, kwargs=kwargs)\n    /Users/wvdvijve/miniconda3/envs/tf/lib/python3.8/site-packages/tensorflow/python/distribute/distribute_lib.py:2849 call_for_each_replica\n        return self._call_for_each_replica(fn, args, kwargs)\n    /Users/wvdvijve/miniconda3/envs/tf/lib/python3.8/site-packages/tensorflow/python/distribute/distribute_lib.py:3632 _call_for_each_replica\n        return fn(*args, **kwargs)\n    /Users/wvdvijve/miniconda3/envs/tf/lib/python3.8/site-packages/keras/engine/training.py:835 run_step  **\n        outputs = model.train_step(data)\n    /Users/wvdvijve/miniconda3/envs/tf/lib/python3.8/site-packages/keras/engine/training.py:791 train_step\n        self.optimizer.minimize(loss, self.trainable_variables, tape=tape)\n    /Users/wvdvijve/miniconda3/envs/tf/lib/python3.8/site-packages/keras/optimizer_v2/optimizer_v2.py:522 minimize\n        return self.apply_gradients(grads_and_vars, name=name)\n    /Users/wvdvijve/miniconda3/envs/tf/lib/python3.8/site-packages/keras/optimizer_v2/optimizer_v2.py:622 apply_gradients\n        grads_and_vars = optimizer_utils.filter_empty_gradients(grads_and_vars)\n    /Users/wvdvijve/miniconda3/envs/tf/lib/python3.8/site-packages/keras/optimizer_v2/utils.py:72 filter_empty_gradients\n        raise ValueError(\"No gradients provided for any variable: %s.\" %\n\n    ValueError: No gradients provided for any variable: ['dense_12/kernel:0', 'dense_12/bias:0', 'dense_13/kernel:0', 'dense_13/bias:0'].\n",
     "output_type": "error",
     "traceback": [
      "\u001b[0;31m---------------------------------------------------------------------------\u001b[0m",
      "\u001b[0;31mValueError\u001b[0m                                Traceback (most recent call last)",
      "\u001b[1;32m/Users/wvdvijve/Documents/GitHub/becode-projects/skin-care/model_building_transfer.ipynb Cell 19'\u001b[0m in \u001b[0;36m<cell line: 1>\u001b[0;34m()\u001b[0m\n\u001b[0;32m----> <a href='vscode-notebook-cell:/Users/wvdvijve/Documents/GitHub/becode-projects/skin-care/model_building_transfer.ipynb#ch0000024?line=0'>1</a>\u001b[0m history \u001b[39m=\u001b[39m new_model\u001b[39m.\u001b[39;49mfit(train_ds,\n\u001b[1;32m      <a href='vscode-notebook-cell:/Users/wvdvijve/Documents/GitHub/becode-projects/skin-care/model_building_transfer.ipynb#ch0000024?line=1'>2</a>\u001b[0m     validation_data\u001b[39m=\u001b[39;49mval_ds,\n\u001b[1;32m      <a href='vscode-notebook-cell:/Users/wvdvijve/Documents/GitHub/becode-projects/skin-care/model_building_transfer.ipynb#ch0000024?line=2'>3</a>\u001b[0m     epochs\u001b[39m=\u001b[39;49m\u001b[39m2\u001b[39;49m,\n\u001b[1;32m      <a href='vscode-notebook-cell:/Users/wvdvijve/Documents/GitHub/becode-projects/skin-care/model_building_transfer.ipynb#ch0000024?line=3'>4</a>\u001b[0m     callbacks\u001b[39m=\u001b[39;49mearlystopping\n\u001b[1;32m      <a href='vscode-notebook-cell:/Users/wvdvijve/Documents/GitHub/becode-projects/skin-care/model_building_transfer.ipynb#ch0000024?line=4'>5</a>\u001b[0m )\n",
      "File \u001b[0;32m~/miniconda3/envs/tf/lib/python3.8/site-packages/keras/engine/training.py:1184\u001b[0m, in \u001b[0;36mModel.fit\u001b[0;34m(self, x, y, batch_size, epochs, verbose, callbacks, validation_split, validation_data, shuffle, class_weight, sample_weight, initial_epoch, steps_per_epoch, validation_steps, validation_batch_size, validation_freq, max_queue_size, workers, use_multiprocessing)\u001b[0m\n\u001b[1;32m   <a href='file:///Users/wvdvijve/miniconda3/envs/tf/lib/python3.8/site-packages/keras/engine/training.py?line=1176'>1177</a>\u001b[0m \u001b[39mwith\u001b[39;00m tf\u001b[39m.\u001b[39mprofiler\u001b[39m.\u001b[39mexperimental\u001b[39m.\u001b[39mTrace(\n\u001b[1;32m   <a href='file:///Users/wvdvijve/miniconda3/envs/tf/lib/python3.8/site-packages/keras/engine/training.py?line=1177'>1178</a>\u001b[0m     \u001b[39m'\u001b[39m\u001b[39mtrain\u001b[39m\u001b[39m'\u001b[39m,\n\u001b[1;32m   <a href='file:///Users/wvdvijve/miniconda3/envs/tf/lib/python3.8/site-packages/keras/engine/training.py?line=1178'>1179</a>\u001b[0m     epoch_num\u001b[39m=\u001b[39mepoch,\n\u001b[1;32m   <a href='file:///Users/wvdvijve/miniconda3/envs/tf/lib/python3.8/site-packages/keras/engine/training.py?line=1179'>1180</a>\u001b[0m     step_num\u001b[39m=\u001b[39mstep,\n\u001b[1;32m   <a href='file:///Users/wvdvijve/miniconda3/envs/tf/lib/python3.8/site-packages/keras/engine/training.py?line=1180'>1181</a>\u001b[0m     batch_size\u001b[39m=\u001b[39mbatch_size,\n\u001b[1;32m   <a href='file:///Users/wvdvijve/miniconda3/envs/tf/lib/python3.8/site-packages/keras/engine/training.py?line=1181'>1182</a>\u001b[0m     _r\u001b[39m=\u001b[39m\u001b[39m1\u001b[39m):\n\u001b[1;32m   <a href='file:///Users/wvdvijve/miniconda3/envs/tf/lib/python3.8/site-packages/keras/engine/training.py?line=1182'>1183</a>\u001b[0m   callbacks\u001b[39m.\u001b[39mon_train_batch_begin(step)\n\u001b[0;32m-> <a href='file:///Users/wvdvijve/miniconda3/envs/tf/lib/python3.8/site-packages/keras/engine/training.py?line=1183'>1184</a>\u001b[0m   tmp_logs \u001b[39m=\u001b[39m \u001b[39mself\u001b[39;49m\u001b[39m.\u001b[39;49mtrain_function(iterator)\n\u001b[1;32m   <a href='file:///Users/wvdvijve/miniconda3/envs/tf/lib/python3.8/site-packages/keras/engine/training.py?line=1184'>1185</a>\u001b[0m   \u001b[39mif\u001b[39;00m data_handler\u001b[39m.\u001b[39mshould_sync:\n\u001b[1;32m   <a href='file:///Users/wvdvijve/miniconda3/envs/tf/lib/python3.8/site-packages/keras/engine/training.py?line=1185'>1186</a>\u001b[0m     context\u001b[39m.\u001b[39masync_wait()\n",
      "File \u001b[0;32m~/miniconda3/envs/tf/lib/python3.8/site-packages/tensorflow/python/eager/def_function.py:885\u001b[0m, in \u001b[0;36mFunction.__call__\u001b[0;34m(self, *args, **kwds)\u001b[0m\n\u001b[1;32m    <a href='file:///Users/wvdvijve/miniconda3/envs/tf/lib/python3.8/site-packages/tensorflow/python/eager/def_function.py?line=881'>882</a>\u001b[0m compiler \u001b[39m=\u001b[39m \u001b[39m\"\u001b[39m\u001b[39mxla\u001b[39m\u001b[39m\"\u001b[39m \u001b[39mif\u001b[39;00m \u001b[39mself\u001b[39m\u001b[39m.\u001b[39m_jit_compile \u001b[39melse\u001b[39;00m \u001b[39m\"\u001b[39m\u001b[39mnonXla\u001b[39m\u001b[39m\"\u001b[39m\n\u001b[1;32m    <a href='file:///Users/wvdvijve/miniconda3/envs/tf/lib/python3.8/site-packages/tensorflow/python/eager/def_function.py?line=883'>884</a>\u001b[0m \u001b[39mwith\u001b[39;00m OptionalXlaContext(\u001b[39mself\u001b[39m\u001b[39m.\u001b[39m_jit_compile):\n\u001b[0;32m--> <a href='file:///Users/wvdvijve/miniconda3/envs/tf/lib/python3.8/site-packages/tensorflow/python/eager/def_function.py?line=884'>885</a>\u001b[0m   result \u001b[39m=\u001b[39m \u001b[39mself\u001b[39;49m\u001b[39m.\u001b[39;49m_call(\u001b[39m*\u001b[39;49margs, \u001b[39m*\u001b[39;49m\u001b[39m*\u001b[39;49mkwds)\n\u001b[1;32m    <a href='file:///Users/wvdvijve/miniconda3/envs/tf/lib/python3.8/site-packages/tensorflow/python/eager/def_function.py?line=886'>887</a>\u001b[0m new_tracing_count \u001b[39m=\u001b[39m \u001b[39mself\u001b[39m\u001b[39m.\u001b[39mexperimental_get_tracing_count()\n\u001b[1;32m    <a href='file:///Users/wvdvijve/miniconda3/envs/tf/lib/python3.8/site-packages/tensorflow/python/eager/def_function.py?line=887'>888</a>\u001b[0m without_tracing \u001b[39m=\u001b[39m (tracing_count \u001b[39m==\u001b[39m new_tracing_count)\n",
      "File \u001b[0;32m~/miniconda3/envs/tf/lib/python3.8/site-packages/tensorflow/python/eager/def_function.py:933\u001b[0m, in \u001b[0;36mFunction._call\u001b[0;34m(self, *args, **kwds)\u001b[0m\n\u001b[1;32m    <a href='file:///Users/wvdvijve/miniconda3/envs/tf/lib/python3.8/site-packages/tensorflow/python/eager/def_function.py?line=929'>930</a>\u001b[0m \u001b[39mtry\u001b[39;00m:\n\u001b[1;32m    <a href='file:///Users/wvdvijve/miniconda3/envs/tf/lib/python3.8/site-packages/tensorflow/python/eager/def_function.py?line=930'>931</a>\u001b[0m   \u001b[39m# This is the first call of __call__, so we have to initialize.\u001b[39;00m\n\u001b[1;32m    <a href='file:///Users/wvdvijve/miniconda3/envs/tf/lib/python3.8/site-packages/tensorflow/python/eager/def_function.py?line=931'>932</a>\u001b[0m   initializers \u001b[39m=\u001b[39m []\n\u001b[0;32m--> <a href='file:///Users/wvdvijve/miniconda3/envs/tf/lib/python3.8/site-packages/tensorflow/python/eager/def_function.py?line=932'>933</a>\u001b[0m   \u001b[39mself\u001b[39;49m\u001b[39m.\u001b[39;49m_initialize(args, kwds, add_initializers_to\u001b[39m=\u001b[39;49minitializers)\n\u001b[1;32m    <a href='file:///Users/wvdvijve/miniconda3/envs/tf/lib/python3.8/site-packages/tensorflow/python/eager/def_function.py?line=933'>934</a>\u001b[0m \u001b[39mfinally\u001b[39;00m:\n\u001b[1;32m    <a href='file:///Users/wvdvijve/miniconda3/envs/tf/lib/python3.8/site-packages/tensorflow/python/eager/def_function.py?line=934'>935</a>\u001b[0m   \u001b[39m# At this point we know that the initialization is complete (or less\u001b[39;00m\n\u001b[1;32m    <a href='file:///Users/wvdvijve/miniconda3/envs/tf/lib/python3.8/site-packages/tensorflow/python/eager/def_function.py?line=935'>936</a>\u001b[0m   \u001b[39m# interestingly an exception was raised) so we no longer need a lock.\u001b[39;00m\n\u001b[1;32m    <a href='file:///Users/wvdvijve/miniconda3/envs/tf/lib/python3.8/site-packages/tensorflow/python/eager/def_function.py?line=936'>937</a>\u001b[0m   \u001b[39mself\u001b[39m\u001b[39m.\u001b[39m_lock\u001b[39m.\u001b[39mrelease()\n",
      "File \u001b[0;32m~/miniconda3/envs/tf/lib/python3.8/site-packages/tensorflow/python/eager/def_function.py:759\u001b[0m, in \u001b[0;36mFunction._initialize\u001b[0;34m(self, args, kwds, add_initializers_to)\u001b[0m\n\u001b[1;32m    <a href='file:///Users/wvdvijve/miniconda3/envs/tf/lib/python3.8/site-packages/tensorflow/python/eager/def_function.py?line=755'>756</a>\u001b[0m \u001b[39mself\u001b[39m\u001b[39m.\u001b[39m_lifted_initializer_graph \u001b[39m=\u001b[39m lifted_initializer_graph\n\u001b[1;32m    <a href='file:///Users/wvdvijve/miniconda3/envs/tf/lib/python3.8/site-packages/tensorflow/python/eager/def_function.py?line=756'>757</a>\u001b[0m \u001b[39mself\u001b[39m\u001b[39m.\u001b[39m_graph_deleter \u001b[39m=\u001b[39m FunctionDeleter(\u001b[39mself\u001b[39m\u001b[39m.\u001b[39m_lifted_initializer_graph)\n\u001b[1;32m    <a href='file:///Users/wvdvijve/miniconda3/envs/tf/lib/python3.8/site-packages/tensorflow/python/eager/def_function.py?line=757'>758</a>\u001b[0m \u001b[39mself\u001b[39m\u001b[39m.\u001b[39m_concrete_stateful_fn \u001b[39m=\u001b[39m (\n\u001b[0;32m--> <a href='file:///Users/wvdvijve/miniconda3/envs/tf/lib/python3.8/site-packages/tensorflow/python/eager/def_function.py?line=758'>759</a>\u001b[0m     \u001b[39mself\u001b[39;49m\u001b[39m.\u001b[39;49m_stateful_fn\u001b[39m.\u001b[39;49m_get_concrete_function_internal_garbage_collected(  \u001b[39m# pylint: disable=protected-access\u001b[39;49;00m\n\u001b[1;32m    <a href='file:///Users/wvdvijve/miniconda3/envs/tf/lib/python3.8/site-packages/tensorflow/python/eager/def_function.py?line=759'>760</a>\u001b[0m         \u001b[39m*\u001b[39;49margs, \u001b[39m*\u001b[39;49m\u001b[39m*\u001b[39;49mkwds))\n\u001b[1;32m    <a href='file:///Users/wvdvijve/miniconda3/envs/tf/lib/python3.8/site-packages/tensorflow/python/eager/def_function.py?line=761'>762</a>\u001b[0m \u001b[39mdef\u001b[39;00m \u001b[39minvalid_creator_scope\u001b[39m(\u001b[39m*\u001b[39munused_args, \u001b[39m*\u001b[39m\u001b[39m*\u001b[39munused_kwds):\n\u001b[1;32m    <a href='file:///Users/wvdvijve/miniconda3/envs/tf/lib/python3.8/site-packages/tensorflow/python/eager/def_function.py?line=762'>763</a>\u001b[0m   \u001b[39m\"\"\"Disables variable creation.\"\"\"\u001b[39;00m\n",
      "File \u001b[0;32m~/miniconda3/envs/tf/lib/python3.8/site-packages/tensorflow/python/eager/function.py:3066\u001b[0m, in \u001b[0;36mFunction._get_concrete_function_internal_garbage_collected\u001b[0;34m(self, *args, **kwargs)\u001b[0m\n\u001b[1;32m   <a href='file:///Users/wvdvijve/miniconda3/envs/tf/lib/python3.8/site-packages/tensorflow/python/eager/function.py?line=3063'>3064</a>\u001b[0m   args, kwargs \u001b[39m=\u001b[39m \u001b[39mNone\u001b[39;00m, \u001b[39mNone\u001b[39;00m\n\u001b[1;32m   <a href='file:///Users/wvdvijve/miniconda3/envs/tf/lib/python3.8/site-packages/tensorflow/python/eager/function.py?line=3064'>3065</a>\u001b[0m \u001b[39mwith\u001b[39;00m \u001b[39mself\u001b[39m\u001b[39m.\u001b[39m_lock:\n\u001b[0;32m-> <a href='file:///Users/wvdvijve/miniconda3/envs/tf/lib/python3.8/site-packages/tensorflow/python/eager/function.py?line=3065'>3066</a>\u001b[0m   graph_function, _ \u001b[39m=\u001b[39m \u001b[39mself\u001b[39;49m\u001b[39m.\u001b[39;49m_maybe_define_function(args, kwargs)\n\u001b[1;32m   <a href='file:///Users/wvdvijve/miniconda3/envs/tf/lib/python3.8/site-packages/tensorflow/python/eager/function.py?line=3066'>3067</a>\u001b[0m \u001b[39mreturn\u001b[39;00m graph_function\n",
      "File \u001b[0;32m~/miniconda3/envs/tf/lib/python3.8/site-packages/tensorflow/python/eager/function.py:3463\u001b[0m, in \u001b[0;36mFunction._maybe_define_function\u001b[0;34m(self, args, kwargs)\u001b[0m\n\u001b[1;32m   <a href='file:///Users/wvdvijve/miniconda3/envs/tf/lib/python3.8/site-packages/tensorflow/python/eager/function.py?line=3458'>3459</a>\u001b[0m   \u001b[39mreturn\u001b[39;00m \u001b[39mself\u001b[39m\u001b[39m.\u001b[39m_define_function_with_shape_relaxation(\n\u001b[1;32m   <a href='file:///Users/wvdvijve/miniconda3/envs/tf/lib/python3.8/site-packages/tensorflow/python/eager/function.py?line=3459'>3460</a>\u001b[0m       args, kwargs, flat_args, filtered_flat_args, cache_key_context)\n\u001b[1;32m   <a href='file:///Users/wvdvijve/miniconda3/envs/tf/lib/python3.8/site-packages/tensorflow/python/eager/function.py?line=3461'>3462</a>\u001b[0m \u001b[39mself\u001b[39m\u001b[39m.\u001b[39m_function_cache\u001b[39m.\u001b[39mmissed\u001b[39m.\u001b[39madd(call_context_key)\n\u001b[0;32m-> <a href='file:///Users/wvdvijve/miniconda3/envs/tf/lib/python3.8/site-packages/tensorflow/python/eager/function.py?line=3462'>3463</a>\u001b[0m graph_function \u001b[39m=\u001b[39m \u001b[39mself\u001b[39;49m\u001b[39m.\u001b[39;49m_create_graph_function(args, kwargs)\n\u001b[1;32m   <a href='file:///Users/wvdvijve/miniconda3/envs/tf/lib/python3.8/site-packages/tensorflow/python/eager/function.py?line=3463'>3464</a>\u001b[0m \u001b[39mself\u001b[39m\u001b[39m.\u001b[39m_function_cache\u001b[39m.\u001b[39mprimary[cache_key] \u001b[39m=\u001b[39m graph_function\n\u001b[1;32m   <a href='file:///Users/wvdvijve/miniconda3/envs/tf/lib/python3.8/site-packages/tensorflow/python/eager/function.py?line=3465'>3466</a>\u001b[0m \u001b[39mreturn\u001b[39;00m graph_function, filtered_flat_args\n",
      "File \u001b[0;32m~/miniconda3/envs/tf/lib/python3.8/site-packages/tensorflow/python/eager/function.py:3298\u001b[0m, in \u001b[0;36mFunction._create_graph_function\u001b[0;34m(self, args, kwargs, override_flat_arg_shapes)\u001b[0m\n\u001b[1;32m   <a href='file:///Users/wvdvijve/miniconda3/envs/tf/lib/python3.8/site-packages/tensorflow/python/eager/function.py?line=3292'>3293</a>\u001b[0m missing_arg_names \u001b[39m=\u001b[39m [\n\u001b[1;32m   <a href='file:///Users/wvdvijve/miniconda3/envs/tf/lib/python3.8/site-packages/tensorflow/python/eager/function.py?line=3293'>3294</a>\u001b[0m     \u001b[39m\"\u001b[39m\u001b[39m%s\u001b[39;00m\u001b[39m_\u001b[39m\u001b[39m%d\u001b[39;00m\u001b[39m\"\u001b[39m \u001b[39m%\u001b[39m (arg, i) \u001b[39mfor\u001b[39;00m i, arg \u001b[39min\u001b[39;00m \u001b[39menumerate\u001b[39m(missing_arg_names)\n\u001b[1;32m   <a href='file:///Users/wvdvijve/miniconda3/envs/tf/lib/python3.8/site-packages/tensorflow/python/eager/function.py?line=3294'>3295</a>\u001b[0m ]\n\u001b[1;32m   <a href='file:///Users/wvdvijve/miniconda3/envs/tf/lib/python3.8/site-packages/tensorflow/python/eager/function.py?line=3295'>3296</a>\u001b[0m arg_names \u001b[39m=\u001b[39m base_arg_names \u001b[39m+\u001b[39m missing_arg_names\n\u001b[1;32m   <a href='file:///Users/wvdvijve/miniconda3/envs/tf/lib/python3.8/site-packages/tensorflow/python/eager/function.py?line=3296'>3297</a>\u001b[0m graph_function \u001b[39m=\u001b[39m ConcreteFunction(\n\u001b[0;32m-> <a href='file:///Users/wvdvijve/miniconda3/envs/tf/lib/python3.8/site-packages/tensorflow/python/eager/function.py?line=3297'>3298</a>\u001b[0m     func_graph_module\u001b[39m.\u001b[39;49mfunc_graph_from_py_func(\n\u001b[1;32m   <a href='file:///Users/wvdvijve/miniconda3/envs/tf/lib/python3.8/site-packages/tensorflow/python/eager/function.py?line=3298'>3299</a>\u001b[0m         \u001b[39mself\u001b[39;49m\u001b[39m.\u001b[39;49m_name,\n\u001b[1;32m   <a href='file:///Users/wvdvijve/miniconda3/envs/tf/lib/python3.8/site-packages/tensorflow/python/eager/function.py?line=3299'>3300</a>\u001b[0m         \u001b[39mself\u001b[39;49m\u001b[39m.\u001b[39;49m_python_function,\n\u001b[1;32m   <a href='file:///Users/wvdvijve/miniconda3/envs/tf/lib/python3.8/site-packages/tensorflow/python/eager/function.py?line=3300'>3301</a>\u001b[0m         args,\n\u001b[1;32m   <a href='file:///Users/wvdvijve/miniconda3/envs/tf/lib/python3.8/site-packages/tensorflow/python/eager/function.py?line=3301'>3302</a>\u001b[0m         kwargs,\n\u001b[1;32m   <a href='file:///Users/wvdvijve/miniconda3/envs/tf/lib/python3.8/site-packages/tensorflow/python/eager/function.py?line=3302'>3303</a>\u001b[0m         \u001b[39mself\u001b[39;49m\u001b[39m.\u001b[39;49minput_signature,\n\u001b[1;32m   <a href='file:///Users/wvdvijve/miniconda3/envs/tf/lib/python3.8/site-packages/tensorflow/python/eager/function.py?line=3303'>3304</a>\u001b[0m         autograph\u001b[39m=\u001b[39;49m\u001b[39mself\u001b[39;49m\u001b[39m.\u001b[39;49m_autograph,\n\u001b[1;32m   <a href='file:///Users/wvdvijve/miniconda3/envs/tf/lib/python3.8/site-packages/tensorflow/python/eager/function.py?line=3304'>3305</a>\u001b[0m         autograph_options\u001b[39m=\u001b[39;49m\u001b[39mself\u001b[39;49m\u001b[39m.\u001b[39;49m_autograph_options,\n\u001b[1;32m   <a href='file:///Users/wvdvijve/miniconda3/envs/tf/lib/python3.8/site-packages/tensorflow/python/eager/function.py?line=3305'>3306</a>\u001b[0m         arg_names\u001b[39m=\u001b[39;49marg_names,\n\u001b[1;32m   <a href='file:///Users/wvdvijve/miniconda3/envs/tf/lib/python3.8/site-packages/tensorflow/python/eager/function.py?line=3306'>3307</a>\u001b[0m         override_flat_arg_shapes\u001b[39m=\u001b[39;49moverride_flat_arg_shapes,\n\u001b[1;32m   <a href='file:///Users/wvdvijve/miniconda3/envs/tf/lib/python3.8/site-packages/tensorflow/python/eager/function.py?line=3307'>3308</a>\u001b[0m         capture_by_value\u001b[39m=\u001b[39;49m\u001b[39mself\u001b[39;49m\u001b[39m.\u001b[39;49m_capture_by_value),\n\u001b[1;32m   <a href='file:///Users/wvdvijve/miniconda3/envs/tf/lib/python3.8/site-packages/tensorflow/python/eager/function.py?line=3308'>3309</a>\u001b[0m     \u001b[39mself\u001b[39m\u001b[39m.\u001b[39m_function_attributes,\n\u001b[1;32m   <a href='file:///Users/wvdvijve/miniconda3/envs/tf/lib/python3.8/site-packages/tensorflow/python/eager/function.py?line=3309'>3310</a>\u001b[0m     function_spec\u001b[39m=\u001b[39m\u001b[39mself\u001b[39m\u001b[39m.\u001b[39mfunction_spec,\n\u001b[1;32m   <a href='file:///Users/wvdvijve/miniconda3/envs/tf/lib/python3.8/site-packages/tensorflow/python/eager/function.py?line=3310'>3311</a>\u001b[0m     \u001b[39m# Tell the ConcreteFunction to clean up its graph once it goes out of\u001b[39;00m\n\u001b[1;32m   <a href='file:///Users/wvdvijve/miniconda3/envs/tf/lib/python3.8/site-packages/tensorflow/python/eager/function.py?line=3311'>3312</a>\u001b[0m     \u001b[39m# scope. This is not the default behavior since it gets used in some\u001b[39;00m\n\u001b[1;32m   <a href='file:///Users/wvdvijve/miniconda3/envs/tf/lib/python3.8/site-packages/tensorflow/python/eager/function.py?line=3312'>3313</a>\u001b[0m     \u001b[39m# places (like Keras) where the FuncGraph lives longer than the\u001b[39;00m\n\u001b[1;32m   <a href='file:///Users/wvdvijve/miniconda3/envs/tf/lib/python3.8/site-packages/tensorflow/python/eager/function.py?line=3313'>3314</a>\u001b[0m     \u001b[39m# ConcreteFunction.\u001b[39;00m\n\u001b[1;32m   <a href='file:///Users/wvdvijve/miniconda3/envs/tf/lib/python3.8/site-packages/tensorflow/python/eager/function.py?line=3314'>3315</a>\u001b[0m     shared_func_graph\u001b[39m=\u001b[39m\u001b[39mFalse\u001b[39;00m)\n\u001b[1;32m   <a href='file:///Users/wvdvijve/miniconda3/envs/tf/lib/python3.8/site-packages/tensorflow/python/eager/function.py?line=3315'>3316</a>\u001b[0m \u001b[39mreturn\u001b[39;00m graph_function\n",
      "File \u001b[0;32m~/miniconda3/envs/tf/lib/python3.8/site-packages/tensorflow/python/framework/func_graph.py:1007\u001b[0m, in \u001b[0;36mfunc_graph_from_py_func\u001b[0;34m(name, python_func, args, kwargs, signature, func_graph, autograph, autograph_options, add_control_dependencies, arg_names, op_return_value, collections, capture_by_value, override_flat_arg_shapes, acd_record_initial_resource_uses)\u001b[0m\n\u001b[1;32m   <a href='file:///Users/wvdvijve/miniconda3/envs/tf/lib/python3.8/site-packages/tensorflow/python/framework/func_graph.py?line=1003'>1004</a>\u001b[0m \u001b[39melse\u001b[39;00m:\n\u001b[1;32m   <a href='file:///Users/wvdvijve/miniconda3/envs/tf/lib/python3.8/site-packages/tensorflow/python/framework/func_graph.py?line=1004'>1005</a>\u001b[0m   _, original_func \u001b[39m=\u001b[39m tf_decorator\u001b[39m.\u001b[39munwrap(python_func)\n\u001b[0;32m-> <a href='file:///Users/wvdvijve/miniconda3/envs/tf/lib/python3.8/site-packages/tensorflow/python/framework/func_graph.py?line=1006'>1007</a>\u001b[0m func_outputs \u001b[39m=\u001b[39m python_func(\u001b[39m*\u001b[39;49mfunc_args, \u001b[39m*\u001b[39;49m\u001b[39m*\u001b[39;49mfunc_kwargs)\n\u001b[1;32m   <a href='file:///Users/wvdvijve/miniconda3/envs/tf/lib/python3.8/site-packages/tensorflow/python/framework/func_graph.py?line=1008'>1009</a>\u001b[0m \u001b[39m# invariant: `func_outputs` contains only Tensors, CompositeTensors,\u001b[39;00m\n\u001b[1;32m   <a href='file:///Users/wvdvijve/miniconda3/envs/tf/lib/python3.8/site-packages/tensorflow/python/framework/func_graph.py?line=1009'>1010</a>\u001b[0m \u001b[39m# TensorArrays and `None`s.\u001b[39;00m\n\u001b[1;32m   <a href='file:///Users/wvdvijve/miniconda3/envs/tf/lib/python3.8/site-packages/tensorflow/python/framework/func_graph.py?line=1010'>1011</a>\u001b[0m func_outputs \u001b[39m=\u001b[39m nest\u001b[39m.\u001b[39mmap_structure(convert, func_outputs,\n\u001b[1;32m   <a href='file:///Users/wvdvijve/miniconda3/envs/tf/lib/python3.8/site-packages/tensorflow/python/framework/func_graph.py?line=1011'>1012</a>\u001b[0m                                   expand_composites\u001b[39m=\u001b[39m\u001b[39mTrue\u001b[39;00m)\n",
      "File \u001b[0;32m~/miniconda3/envs/tf/lib/python3.8/site-packages/tensorflow/python/eager/def_function.py:668\u001b[0m, in \u001b[0;36mFunction._defun_with_scope.<locals>.wrapped_fn\u001b[0;34m(*args, **kwds)\u001b[0m\n\u001b[1;32m    <a href='file:///Users/wvdvijve/miniconda3/envs/tf/lib/python3.8/site-packages/tensorflow/python/eager/def_function.py?line=663'>664</a>\u001b[0m \u001b[39mwith\u001b[39;00m default_graph\u001b[39m.\u001b[39m_variable_creator_scope(scope, priority\u001b[39m=\u001b[39m\u001b[39m50\u001b[39m):  \u001b[39m# pylint: disable=protected-access\u001b[39;00m\n\u001b[1;32m    <a href='file:///Users/wvdvijve/miniconda3/envs/tf/lib/python3.8/site-packages/tensorflow/python/eager/def_function.py?line=664'>665</a>\u001b[0m   \u001b[39m# __wrapped__ allows AutoGraph to swap in a converted function. We give\u001b[39;00m\n\u001b[1;32m    <a href='file:///Users/wvdvijve/miniconda3/envs/tf/lib/python3.8/site-packages/tensorflow/python/eager/def_function.py?line=665'>666</a>\u001b[0m   \u001b[39m# the function a weak reference to itself to avoid a reference cycle.\u001b[39;00m\n\u001b[1;32m    <a href='file:///Users/wvdvijve/miniconda3/envs/tf/lib/python3.8/site-packages/tensorflow/python/eager/def_function.py?line=666'>667</a>\u001b[0m   \u001b[39mwith\u001b[39;00m OptionalXlaContext(compile_with_xla):\n\u001b[0;32m--> <a href='file:///Users/wvdvijve/miniconda3/envs/tf/lib/python3.8/site-packages/tensorflow/python/eager/def_function.py?line=667'>668</a>\u001b[0m     out \u001b[39m=\u001b[39m weak_wrapped_fn()\u001b[39m.\u001b[39;49m__wrapped__(\u001b[39m*\u001b[39;49margs, \u001b[39m*\u001b[39;49m\u001b[39m*\u001b[39;49mkwds)\n\u001b[1;32m    <a href='file:///Users/wvdvijve/miniconda3/envs/tf/lib/python3.8/site-packages/tensorflow/python/eager/def_function.py?line=668'>669</a>\u001b[0m   \u001b[39mreturn\u001b[39;00m out\n",
      "File \u001b[0;32m~/miniconda3/envs/tf/lib/python3.8/site-packages/tensorflow/python/framework/func_graph.py:994\u001b[0m, in \u001b[0;36mfunc_graph_from_py_func.<locals>.wrapper\u001b[0;34m(*args, **kwargs)\u001b[0m\n\u001b[1;32m    <a href='file:///Users/wvdvijve/miniconda3/envs/tf/lib/python3.8/site-packages/tensorflow/python/framework/func_graph.py?line=991'>992</a>\u001b[0m \u001b[39mexcept\u001b[39;00m \u001b[39mException\u001b[39;00m \u001b[39mas\u001b[39;00m e:  \u001b[39m# pylint:disable=broad-except\u001b[39;00m\n\u001b[1;32m    <a href='file:///Users/wvdvijve/miniconda3/envs/tf/lib/python3.8/site-packages/tensorflow/python/framework/func_graph.py?line=992'>993</a>\u001b[0m   \u001b[39mif\u001b[39;00m \u001b[39mhasattr\u001b[39m(e, \u001b[39m\"\u001b[39m\u001b[39mag_error_metadata\u001b[39m\u001b[39m\"\u001b[39m):\n\u001b[0;32m--> <a href='file:///Users/wvdvijve/miniconda3/envs/tf/lib/python3.8/site-packages/tensorflow/python/framework/func_graph.py?line=993'>994</a>\u001b[0m     \u001b[39mraise\u001b[39;00m e\u001b[39m.\u001b[39mag_error_metadata\u001b[39m.\u001b[39mto_exception(e)\n\u001b[1;32m    <a href='file:///Users/wvdvijve/miniconda3/envs/tf/lib/python3.8/site-packages/tensorflow/python/framework/func_graph.py?line=994'>995</a>\u001b[0m   \u001b[39melse\u001b[39;00m:\n\u001b[1;32m    <a href='file:///Users/wvdvijve/miniconda3/envs/tf/lib/python3.8/site-packages/tensorflow/python/framework/func_graph.py?line=995'>996</a>\u001b[0m     \u001b[39mraise\u001b[39;00m\n",
      "\u001b[0;31mValueError\u001b[0m: in user code:\n\n    /Users/wvdvijve/miniconda3/envs/tf/lib/python3.8/site-packages/keras/engine/training.py:853 train_function  *\n        return step_function(self, iterator)\n    /Users/wvdvijve/miniconda3/envs/tf/lib/python3.8/site-packages/keras/engine/training.py:842 step_function  **\n        outputs = model.distribute_strategy.run(run_step, args=(data,))\n    /Users/wvdvijve/miniconda3/envs/tf/lib/python3.8/site-packages/tensorflow/python/distribute/distribute_lib.py:1286 run\n        return self._extended.call_for_each_replica(fn, args=args, kwargs=kwargs)\n    /Users/wvdvijve/miniconda3/envs/tf/lib/python3.8/site-packages/tensorflow/python/distribute/distribute_lib.py:2849 call_for_each_replica\n        return self._call_for_each_replica(fn, args, kwargs)\n    /Users/wvdvijve/miniconda3/envs/tf/lib/python3.8/site-packages/tensorflow/python/distribute/distribute_lib.py:3632 _call_for_each_replica\n        return fn(*args, **kwargs)\n    /Users/wvdvijve/miniconda3/envs/tf/lib/python3.8/site-packages/keras/engine/training.py:835 run_step  **\n        outputs = model.train_step(data)\n    /Users/wvdvijve/miniconda3/envs/tf/lib/python3.8/site-packages/keras/engine/training.py:791 train_step\n        self.optimizer.minimize(loss, self.trainable_variables, tape=tape)\n    /Users/wvdvijve/miniconda3/envs/tf/lib/python3.8/site-packages/keras/optimizer_v2/optimizer_v2.py:522 minimize\n        return self.apply_gradients(grads_and_vars, name=name)\n    /Users/wvdvijve/miniconda3/envs/tf/lib/python3.8/site-packages/keras/optimizer_v2/optimizer_v2.py:622 apply_gradients\n        grads_and_vars = optimizer_utils.filter_empty_gradients(grads_and_vars)\n    /Users/wvdvijve/miniconda3/envs/tf/lib/python3.8/site-packages/keras/optimizer_v2/utils.py:72 filter_empty_gradients\n        raise ValueError(\"No gradients provided for any variable: %s.\" %\n\n    ValueError: No gradients provided for any variable: ['dense_12/kernel:0', 'dense_12/bias:0', 'dense_13/kernel:0', 'dense_13/bias:0'].\n"
     ]
    }
   ],
   "source": [
    "history = new_model.fit(train_ds,\n",
    "    validation_data=val_ds,\n",
    "    epochs=2,\n",
    "    callbacks=earlystopping\n",
    ")"
   ]
  },
  {
   "cell_type": "code",
   "execution_count": null,
   "metadata": {},
   "outputs": [],
   "source": []
  }
 ],
 "metadata": {
  "interpreter": {
   "hash": "85b35dbaecfeb6324bfd2b102a4649f8303ec36695a758fff5bf73890cbd2cad"
  },
  "kernelspec": {
   "display_name": "Python 3.8.13 ('tf')",
   "language": "python",
   "name": "python3"
  },
  "language_info": {
   "codemirror_mode": {
    "name": "ipython",
    "version": 3
   },
   "file_extension": ".py",
   "mimetype": "text/x-python",
   "name": "python",
   "nbconvert_exporter": "python",
   "pygments_lexer": "ipython3",
   "version": "3.8.13"
  },
  "orig_nbformat": 4
 },
 "nbformat": 4,
 "nbformat_minor": 2
}
