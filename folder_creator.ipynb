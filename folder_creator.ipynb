{
 "cells": [
  {
   "cell_type": "code",
   "execution_count": 1,
   "metadata": {},
   "outputs": [],
   "source": [
    "import os \n",
    "import pandas as pd\n",
    "import shutil"
   ]
  },
  {
   "cell_type": "markdown",
   "metadata": {},
   "source": [
    "# Explore data"
   ]
  },
  {
   "cell_type": "code",
   "execution_count": 2,
   "metadata": {},
   "outputs": [],
   "source": [
    "df = pd.read_csv('./data/HAM10000_metadata.csv')"
   ]
  },
  {
   "cell_type": "code",
   "execution_count": 3,
   "metadata": {},
   "outputs": [
    {
     "data": {
      "text/html": [
       "<div>\n",
       "<style scoped>\n",
       "    .dataframe tbody tr th:only-of-type {\n",
       "        vertical-align: middle;\n",
       "    }\n",
       "\n",
       "    .dataframe tbody tr th {\n",
       "        vertical-align: top;\n",
       "    }\n",
       "\n",
       "    .dataframe thead th {\n",
       "        text-align: right;\n",
       "    }\n",
       "</style>\n",
       "<table border=\"1\" class=\"dataframe\">\n",
       "  <thead>\n",
       "    <tr style=\"text-align: right;\">\n",
       "      <th></th>\n",
       "      <th>lesion_id</th>\n",
       "      <th>image_id</th>\n",
       "      <th>dx</th>\n",
       "      <th>dx_type</th>\n",
       "      <th>age</th>\n",
       "      <th>sex</th>\n",
       "      <th>localization</th>\n",
       "    </tr>\n",
       "  </thead>\n",
       "  <tbody>\n",
       "    <tr>\n",
       "      <th>0</th>\n",
       "      <td>HAM_0000118</td>\n",
       "      <td>ISIC_0027419</td>\n",
       "      <td>bkl</td>\n",
       "      <td>histo</td>\n",
       "      <td>80.0</td>\n",
       "      <td>male</td>\n",
       "      <td>scalp</td>\n",
       "    </tr>\n",
       "    <tr>\n",
       "      <th>1</th>\n",
       "      <td>HAM_0000118</td>\n",
       "      <td>ISIC_0025030</td>\n",
       "      <td>bkl</td>\n",
       "      <td>histo</td>\n",
       "      <td>80.0</td>\n",
       "      <td>male</td>\n",
       "      <td>scalp</td>\n",
       "    </tr>\n",
       "    <tr>\n",
       "      <th>2</th>\n",
       "      <td>HAM_0002730</td>\n",
       "      <td>ISIC_0026769</td>\n",
       "      <td>bkl</td>\n",
       "      <td>histo</td>\n",
       "      <td>80.0</td>\n",
       "      <td>male</td>\n",
       "      <td>scalp</td>\n",
       "    </tr>\n",
       "    <tr>\n",
       "      <th>3</th>\n",
       "      <td>HAM_0002730</td>\n",
       "      <td>ISIC_0025661</td>\n",
       "      <td>bkl</td>\n",
       "      <td>histo</td>\n",
       "      <td>80.0</td>\n",
       "      <td>male</td>\n",
       "      <td>scalp</td>\n",
       "    </tr>\n",
       "    <tr>\n",
       "      <th>4</th>\n",
       "      <td>HAM_0001466</td>\n",
       "      <td>ISIC_0031633</td>\n",
       "      <td>bkl</td>\n",
       "      <td>histo</td>\n",
       "      <td>75.0</td>\n",
       "      <td>male</td>\n",
       "      <td>ear</td>\n",
       "    </tr>\n",
       "  </tbody>\n",
       "</table>\n",
       "</div>"
      ],
      "text/plain": [
       "     lesion_id      image_id   dx dx_type   age   sex localization\n",
       "0  HAM_0000118  ISIC_0027419  bkl   histo  80.0  male        scalp\n",
       "1  HAM_0000118  ISIC_0025030  bkl   histo  80.0  male        scalp\n",
       "2  HAM_0002730  ISIC_0026769  bkl   histo  80.0  male        scalp\n",
       "3  HAM_0002730  ISIC_0025661  bkl   histo  80.0  male        scalp\n",
       "4  HAM_0001466  ISIC_0031633  bkl   histo  75.0  male          ear"
      ]
     },
     "execution_count": 3,
     "metadata": {},
     "output_type": "execute_result"
    }
   ],
   "source": [
    "df.head()"
   ]
  },
  {
   "cell_type": "code",
   "execution_count": 4,
   "metadata": {},
   "outputs": [
    {
     "data": {
      "text/plain": [
       "['bkl', 'nv', 'df', 'mel', 'vasc', 'bcc', 'akiec']"
      ]
     },
     "execution_count": 4,
     "metadata": {},
     "output_type": "execute_result"
    }
   ],
   "source": [
    "cls = list(df['dx'].unique())\n",
    "cls"
   ]
  },
  {
   "cell_type": "code",
   "execution_count": 5,
   "metadata": {},
   "outputs": [
    {
     "name": "stdout",
     "output_type": "stream",
     "text": [
      "bkl: 1099\n",
      "nv: 6705\n",
      "df: 115\n",
      "mel: 1113\n",
      "vasc: 142\n",
      "bcc: 514\n",
      "akiec: 327\n"
     ]
    }
   ],
   "source": [
    "for cl in cls:\n",
    "    l = df[df['dx']==cl].shape[0]\n",
    "    print(f'{cl}: {l}')"
   ]
  },
  {
   "cell_type": "markdown",
   "metadata": {},
   "source": [
    "# Create directory of original files"
   ]
  },
  {
   "cell_type": "code",
   "execution_count": 6,
   "metadata": {},
   "outputs": [],
   "source": [
    "os.makedirs('./classes', exist_ok=True)"
   ]
  },
  {
   "cell_type": "code",
   "execution_count": 7,
   "metadata": {},
   "outputs": [],
   "source": [
    "for cl in cls:\n",
    "    os.makedirs(f'./classes/{cl}', exist_ok=True)"
   ]
  },
  {
   "cell_type": "code",
   "execution_count": 10,
   "metadata": {},
   "outputs": [],
   "source": [
    "df_2 = df.set_index('image_id')\n",
    "for img in os.listdir('./data/HAM10000_images_part_1'):\n",
    "    cl = df_2.loc[img.rstrip('.jpg'), 'dx']\n",
    "    shutil.copy(f'./data/HAM10000_images_part_1/{img}', f'./classes/{cl}/{img}')\n",
    "for img in os.listdir('./data/HAM10000_images_part_2'):\n",
    "    cl = df_2.loc[img.rstrip('.jpg'), 'dx']\n",
    "    shutil.copy(f'./data/HAM10000_images_part_2/{img}', f'./classes/{cl}/{img}')"
   ]
  },
  {
   "cell_type": "markdown",
   "metadata": {},
   "source": [
    "# balancing the classes"
   ]
  },
  {
   "cell_type": "code",
   "execution_count": 8,
   "metadata": {},
   "outputs": [],
   "source": [
    "from sklearn.utils import resample\n",
    "from sklearn.model_selection import train_test_split\n"
   ]
  },
  {
   "cell_type": "code",
   "execution_count": 19,
   "metadata": {},
   "outputs": [],
   "source": [
    "X_train, X_test = train_test_split(df, train_size=0.8, stratify=df['dx'], random_state=76)\n",
    "\n",
    "X_val, X_test = train_test_split(X_test, train_size=0.5, random_state=76, stratify=X_test['dx'])"
   ]
  },
  {
   "cell_type": "code",
   "execution_count": 20,
   "metadata": {},
   "outputs": [
    {
     "name": "stdout",
     "output_type": "stream",
     "text": [
      "(8012, 7)\n",
      "(1001, 7)\n",
      "(1002, 7)\n"
     ]
    }
   ],
   "source": [
    "print(X_train.shape)\n",
    "print(X_val.shape)\n",
    "print(X_test.shape)"
   ]
  },
  {
   "cell_type": "code",
   "execution_count": 25,
   "metadata": {},
   "outputs": [],
   "source": [
    "\n",
    "S_train = pd.DataFrame(columns=df.columns)\n",
    "S_val = pd.DataFrame(columns=df.columns)\n",
    "for cl in cls:\n",
    "    n_samples_train = 5364\n",
    "    n_samples_val = 670\n",
    "    frame = X_train[X_train['dx']==cl]\n",
    "    n_train = frame.shape[0]\n",
    "    while n_samples_train > n_train:\n",
    "        S_train = pd.concat([S_train, frame])\n",
    "        n_samples_train -= n_train\n",
    "    S_train = pd.concat([S_train, resample(frame, replace=False, n_samples=n_samples_train)])\n",
    "\n",
    "    frame_val = X_val[X_val['dx']==cl]\n",
    "    n_val = frame_val.shape[0]\n",
    "    while n_samples_val > n_val:\n",
    "        S_val = pd.concat([S_val, frame_val])\n",
    "        n_samples_val -= n_val\n",
    "    S_val = pd.concat([S_val, resample(frame_val, replace=False, n_samples=n_samples_val)])"
   ]
  },
  {
   "cell_type": "code",
   "execution_count": 21,
   "metadata": {},
   "outputs": [
    {
     "name": "stdout",
     "output_type": "stream",
     "text": [
      "bkl: 879\n",
      "nv: 5364\n",
      "df: 92\n",
      "mel: 890\n",
      "vasc: 114\n",
      "bcc: 411\n",
      "akiec: 262\n"
     ]
    }
   ],
   "source": [
    "for cl in cls:\n",
    "    l = X_train[X_train['dx']==cl].shape[0]\n",
    "    print(f'{cl}: {l}')"
   ]
  },
  {
   "cell_type": "code",
   "execution_count": 22,
   "metadata": {},
   "outputs": [
    {
     "name": "stdout",
     "output_type": "stream",
     "text": [
      "bkl: 110\n",
      "nv: 670\n",
      "df: 12\n",
      "mel: 111\n",
      "vasc: 14\n",
      "bcc: 51\n",
      "akiec: 33\n"
     ]
    }
   ],
   "source": [
    "for cl in cls:\n",
    "    l = X_val[X_val['dx']==cl].shape[0]\n",
    "    print(f'{cl}: {l}')"
   ]
  },
  {
   "cell_type": "markdown",
   "metadata": {},
   "source": [
    "## Putting classes into directories"
   ]
  },
  {
   "cell_type": "code",
   "execution_count": 13,
   "metadata": {},
   "outputs": [],
   "source": [
    "def create_directory(train_test, frame):\n",
    "    left = []\n",
    "    cls = df['dx'].unique()\n",
    "    for cl in cls:\n",
    "        shutil.rmtree(f'./sampled_classes/{train_test}/{cl}', ignore_errors=True)\n",
    "        os.makedirs(f'./sampled_classes/{train_test}/{cl}', exist_ok=True)\n",
    "    i = 0\n",
    "    for img, cl in zip(frame['image_id'], frame['dx']):\n",
    "        if img+'.jpg' in os.listdir('./data/HAM10000_images_part_1'):\n",
    "            shutil.copy(f'./data/HAM10000_images_part_1/{img}.jpg', f'./sampled_classes/{train_test}/{cl}/{img}_{str(i)}.jpg')\n",
    "        elif img+'.jpg' in os.listdir('./data/HAM10000_images_part_2'):\n",
    "            shutil.copy(f'./data/HAM10000_images_part_2/{img}.jpg', f'./sampled_classes/{train_test}/{cl}/{img}_{str(i)}.jpg')\n",
    "        else:\n",
    "            left.append(img)\n",
    "        i += 1\n",
    "    if len(left) == 0:\n",
    "        print('Everything alright')\n",
    "    else:\n",
    "        return left"
   ]
  },
  {
   "cell_type": "code",
   "execution_count": 26,
   "metadata": {},
   "outputs": [
    {
     "name": "stdout",
     "output_type": "stream",
     "text": [
      "Everything alright\n",
      "Everything alright\n",
      "Everything alright\n"
     ]
    }
   ],
   "source": [
    "shutil.rmtree('./sampled_classes')\n",
    "\n",
    "os.makedirs('./sampled_classes/train', exist_ok=True)\n",
    "os.makedirs('./sampled_classes/test', exist_ok=True)\n",
    "os.makedirs('./sampled_classes/validation', exist_ok=True)\n",
    "\n",
    "create_directory('train', S_train)\n",
    "create_directory('validation', S_val)\n",
    "create_directory('test', X_test)"
   ]
  },
  {
   "cell_type": "markdown",
   "metadata": {},
   "source": [
    "# Data augmentation"
   ]
  },
  {
   "cell_type": "code",
   "execution_count": 19,
   "metadata": {},
   "outputs": [],
   "source": [
    "import Augmentor"
   ]
  },
  {
   "cell_type": "code",
   "execution_count": 20,
   "metadata": {},
   "outputs": [
    {
     "name": "stdout",
     "output_type": "stream",
     "text": [
      "Initialised with 327 image(s) found.\n",
      "Output directory set to ./classes/akiec\\output."
     ]
    }
   ],
   "source": [
    "p = Augmentor.Pipeline('./classes/akiec')"
   ]
  },
  {
   "cell_type": "code",
   "execution_count": 22,
   "metadata": {},
   "outputs": [
    {
     "ename": "ValueError",
     "evalue": "The max_left_rotation argument must be between 0 and 25.",
     "output_type": "error",
     "traceback": [
      "\u001b[1;31m---------------------------------------------------------------------------\u001b[0m",
      "\u001b[1;31mValueError\u001b[0m                                Traceback (most recent call last)",
      "\u001b[1;32mc:\\Users\\Wouter\\Documents\\Machine learning\\NN\\skin-care\\folder_creator.ipynb Cell 26'\u001b[0m in \u001b[0;36m<cell line: 1>\u001b[1;34m()\u001b[0m\n\u001b[1;32m----> <a href='vscode-notebook-cell:/c%3A/Users/Wouter/Documents/Machine%20learning/NN/skin-care/folder_creator.ipynb#ch0000028?line=0'>1</a>\u001b[0m p\u001b[39m.\u001b[39;49mrotate(probability\u001b[39m=\u001b[39;49m\u001b[39m1.\u001b[39;49m, max_left_rotation\u001b[39m=\u001b[39;49m\u001b[39m180\u001b[39;49m, max_right_rotation\u001b[39m=\u001b[39;49m\u001b[39m180\u001b[39;49m)\n",
      "File \u001b[1;32mc:\\Users\\Wouter\\miniconda3\\envs\\tf\\lib\\site-packages\\Augmentor\\Pipeline.py:959\u001b[0m, in \u001b[0;36mPipeline.rotate\u001b[1;34m(self, probability, max_left_rotation, max_right_rotation)\u001b[0m\n\u001b[0;32m    <a href='file:///c%3A/Users/Wouter/miniconda3/envs/tf/lib/site-packages/Augmentor/Pipeline.py?line=956'>957</a>\u001b[0m     \u001b[39mraise\u001b[39;00m \u001b[39mValueError\u001b[39;00m(Pipeline\u001b[39m.\u001b[39m_probability_error_text)\n\u001b[0;32m    <a href='file:///c%3A/Users/Wouter/miniconda3/envs/tf/lib/site-packages/Augmentor/Pipeline.py?line=957'>958</a>\u001b[0m \u001b[39mif\u001b[39;00m \u001b[39mnot\u001b[39;00m \u001b[39m0\u001b[39m \u001b[39m<\u001b[39m\u001b[39m=\u001b[39m max_left_rotation \u001b[39m<\u001b[39m\u001b[39m=\u001b[39m \u001b[39m25\u001b[39m:\n\u001b[1;32m--> <a href='file:///c%3A/Users/Wouter/miniconda3/envs/tf/lib/site-packages/Augmentor/Pipeline.py?line=958'>959</a>\u001b[0m     \u001b[39mraise\u001b[39;00m \u001b[39mValueError\u001b[39;00m(\u001b[39m\"\u001b[39m\u001b[39mThe max_left_rotation argument must be between 0 and 25.\u001b[39m\u001b[39m\"\u001b[39m)\n\u001b[0;32m    <a href='file:///c%3A/Users/Wouter/miniconda3/envs/tf/lib/site-packages/Augmentor/Pipeline.py?line=959'>960</a>\u001b[0m \u001b[39mif\u001b[39;00m \u001b[39mnot\u001b[39;00m \u001b[39m0\u001b[39m \u001b[39m<\u001b[39m\u001b[39m=\u001b[39m max_right_rotation \u001b[39m<\u001b[39m\u001b[39m=\u001b[39m \u001b[39m25\u001b[39m:\n\u001b[0;32m    <a href='file:///c%3A/Users/Wouter/miniconda3/envs/tf/lib/site-packages/Augmentor/Pipeline.py?line=960'>961</a>\u001b[0m     \u001b[39mraise\u001b[39;00m \u001b[39mValueError\u001b[39;00m(\u001b[39m\"\u001b[39m\u001b[39mThe max_right_rotation argument must be between 0 and 25.\u001b[39m\u001b[39m\"\u001b[39m)\n",
      "\u001b[1;31mValueError\u001b[0m: The max_left_rotation argument must be between 0 and 25."
     ]
    }
   ],
   "source": [
    "p.rotate(probability=1., max_left_rotation=180, max_right_rotation=180)"
   ]
  },
  {
   "cell_type": "code",
   "execution_count": null,
   "metadata": {},
   "outputs": [],
   "source": []
  }
 ],
 "metadata": {
  "interpreter": {
   "hash": "9e6f06e0f80fa84da2f0207aa38f0ab07771889ab2ef7e40f66d74864a33e800"
  },
  "kernelspec": {
   "display_name": "Python 3.9.12",
   "language": "python",
   "name": "python3"
  },
  "language_info": {
   "codemirror_mode": {
    "name": "ipython",
    "version": 3
   },
   "file_extension": ".py",
   "mimetype": "text/x-python",
   "name": "python",
   "nbconvert_exporter": "python",
   "pygments_lexer": "ipython3",
   "version": "3.9.12"
  },
  "orig_nbformat": 4
 },
 "nbformat": 4,
 "nbformat_minor": 2
}
