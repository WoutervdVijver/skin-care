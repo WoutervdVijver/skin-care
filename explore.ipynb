{
 "cells": [
  {
   "cell_type": "code",
   "execution_count": 1,
   "metadata": {},
   "outputs": [],
   "source": [
    "import pandas as pd\n",
    "import numpy as np\n",
    "import os\n",
    "import shutil\n",
    "import matplotlib.pyplot as plt\n",
    "import cv2"
   ]
  },
  {
   "cell_type": "code",
   "execution_count": 35,
   "metadata": {},
   "outputs": [],
   "source": [
    "df = pd.read_csv('./data/HAM10000_metadata.csv')"
   ]
  },
  {
   "cell_type": "code",
   "execution_count": 36,
   "metadata": {},
   "outputs": [
    {
     "data": {
      "text/html": [
       "<div>\n",
       "<style scoped>\n",
       "    .dataframe tbody tr th:only-of-type {\n",
       "        vertical-align: middle;\n",
       "    }\n",
       "\n",
       "    .dataframe tbody tr th {\n",
       "        vertical-align: top;\n",
       "    }\n",
       "\n",
       "    .dataframe thead th {\n",
       "        text-align: right;\n",
       "    }\n",
       "</style>\n",
       "<table border=\"1\" class=\"dataframe\">\n",
       "  <thead>\n",
       "    <tr style=\"text-align: right;\">\n",
       "      <th></th>\n",
       "      <th>lesion_id</th>\n",
       "      <th>image_id</th>\n",
       "      <th>dx</th>\n",
       "      <th>dx_type</th>\n",
       "      <th>age</th>\n",
       "      <th>sex</th>\n",
       "      <th>localization</th>\n",
       "    </tr>\n",
       "  </thead>\n",
       "  <tbody>\n",
       "    <tr>\n",
       "      <th>0</th>\n",
       "      <td>HAM_0000118</td>\n",
       "      <td>ISIC_0027419</td>\n",
       "      <td>bkl</td>\n",
       "      <td>histo</td>\n",
       "      <td>80.0</td>\n",
       "      <td>male</td>\n",
       "      <td>scalp</td>\n",
       "    </tr>\n",
       "    <tr>\n",
       "      <th>1</th>\n",
       "      <td>HAM_0000118</td>\n",
       "      <td>ISIC_0025030</td>\n",
       "      <td>bkl</td>\n",
       "      <td>histo</td>\n",
       "      <td>80.0</td>\n",
       "      <td>male</td>\n",
       "      <td>scalp</td>\n",
       "    </tr>\n",
       "    <tr>\n",
       "      <th>2</th>\n",
       "      <td>HAM_0002730</td>\n",
       "      <td>ISIC_0026769</td>\n",
       "      <td>bkl</td>\n",
       "      <td>histo</td>\n",
       "      <td>80.0</td>\n",
       "      <td>male</td>\n",
       "      <td>scalp</td>\n",
       "    </tr>\n",
       "    <tr>\n",
       "      <th>3</th>\n",
       "      <td>HAM_0002730</td>\n",
       "      <td>ISIC_0025661</td>\n",
       "      <td>bkl</td>\n",
       "      <td>histo</td>\n",
       "      <td>80.0</td>\n",
       "      <td>male</td>\n",
       "      <td>scalp</td>\n",
       "    </tr>\n",
       "    <tr>\n",
       "      <th>4</th>\n",
       "      <td>HAM_0001466</td>\n",
       "      <td>ISIC_0031633</td>\n",
       "      <td>bkl</td>\n",
       "      <td>histo</td>\n",
       "      <td>75.0</td>\n",
       "      <td>male</td>\n",
       "      <td>ear</td>\n",
       "    </tr>\n",
       "  </tbody>\n",
       "</table>\n",
       "</div>"
      ],
      "text/plain": [
       "     lesion_id      image_id   dx dx_type   age   sex localization\n",
       "0  HAM_0000118  ISIC_0027419  bkl   histo  80.0  male        scalp\n",
       "1  HAM_0000118  ISIC_0025030  bkl   histo  80.0  male        scalp\n",
       "2  HAM_0002730  ISIC_0026769  bkl   histo  80.0  male        scalp\n",
       "3  HAM_0002730  ISIC_0025661  bkl   histo  80.0  male        scalp\n",
       "4  HAM_0001466  ISIC_0031633  bkl   histo  75.0  male          ear"
      ]
     },
     "execution_count": 36,
     "metadata": {},
     "output_type": "execute_result"
    }
   ],
   "source": [
    "df.head()"
   ]
  },
  {
   "cell_type": "code",
   "execution_count": 37,
   "metadata": {},
   "outputs": [
    {
     "data": {
      "text/plain": [
       "array(['histo', 'consensus', 'confocal', 'follow_up'], dtype=object)"
      ]
     },
     "execution_count": 37,
     "metadata": {},
     "output_type": "execute_result"
    }
   ],
   "source": [
    "df['dx_type'].unique()"
   ]
  },
  {
   "cell_type": "code",
   "execution_count": 70,
   "metadata": {},
   "outputs": [
    {
     "data": {
      "text/plain": [
       "array(['bkl', 'nv', 'df', 'mel', 'vasc', 'bcc', 'akiec'], dtype=object)"
      ]
     },
     "execution_count": 70,
     "metadata": {},
     "output_type": "execute_result"
    }
   ],
   "source": [
    "dx = df['dx'].unique()\n",
    "dx"
   ]
  },
  {
   "cell_type": "code",
   "execution_count": 39,
   "metadata": {},
   "outputs": [
    {
     "data": {
      "text/plain": [
       "array(['scalp', 'ear', 'face', 'back', 'trunk', 'chest',\n",
       "       'upper extremity', 'abdomen', 'unknown', 'lower extremity',\n",
       "       'genital', 'neck', 'hand', 'foot', 'acral'], dtype=object)"
      ]
     },
     "execution_count": 39,
     "metadata": {},
     "output_type": "execute_result"
    }
   ],
   "source": [
    "df['localization'].unique()"
   ]
  },
  {
   "cell_type": "code",
   "execution_count": 38,
   "metadata": {},
   "outputs": [],
   "source": [
    "list_img = os.listdir('./data/HAM10000_images_part_1')\n",
    "list_img_2 = os.listdir('./data/HAM10000_images_part_2')\n",
    "for img in list_img:\n",
    "    cls = df.loc[img.rstrip('.jpg'), 'dx']\n",
    "    shutil.copy(f'./data/HAM10000_images_part_1/{img}', f'./classes/{cls}/{img}')\n",
    "for img in list_img_2:\n",
    "    cls = df.loc[img.rstrip('.jpg'), 'dx']\n",
    "    shutil.copy(f'./data/HAM10000_images_part_2/{img}', f'./classes/{cls}/{img}')"
   ]
  },
  {
   "cell_type": "code",
   "execution_count": 45,
   "metadata": {},
   "outputs": [],
   "source": [
    "def show_image(string):\n",
    "    if string + '.jpg' in list_img:\n",
    "        img_1 = cv2.imread(f'data/HAM10000_images_part_1/{string}.jpg', cv2.IMREAD_COLOR)\n",
    "        img = cv2.cvtColor(img_1, cv2.COLOR_BGR2RGB)\n",
    "    elif string + '.jpg' in list_img_2:\n",
    "        img_1 = cv2.imread(f'data/HAM10000_images_part_2/{string}.jpg', cv2.IMREAD_COLOR)\n",
    "        img = cv2.cvtColor(img_1, cv2.COLOR_BGR2RGB)\n",
    "    else:\n",
    "        return 'string not in library'\n",
    "    plt.imshow(img)"
   ]
  },
  {
   "cell_type": "code",
   "execution_count": 83,
   "metadata": {},
   "outputs": [
    {
     "name": "stdout",
     "output_type": "stream",
     "text": [
      "bkl: 6.1\n",
      "nv: 1.0\n",
      "df: 58.3\n",
      "mel: 6.02\n",
      "vasc: 47.22\n",
      "bcc: 13.04\n",
      "akiec: 20.5\n"
     ]
    }
   ],
   "source": [
    "for d in dx:\n",
    "    ratio = np.round(len(df[df['dx']=='nv'])/len(df[df['dx']==d]),2)\n",
    "    print(f'{d}: {ratio}')"
   ]
  },
  {
   "cell_type": "markdown",
   "metadata": {},
   "source": [
    "split and new directories"
   ]
  },
  {
   "cell_type": "code",
   "execution_count": 151,
   "metadata": {},
   "outputs": [],
   "source": [
    "from sklearn.utils import resample\n"
   ]
  },
  {
   "cell_type": "code",
   "execution_count": 204,
   "metadata": {},
   "outputs": [],
   "source": [
    "from sklearn.model_selection import train_test_split\n",
    "\n",
    "X_train, X_test = train_test_split(df, train_size=0.8, stratify=df['dx'], random_state=76)"
   ]
  },
  {
   "cell_type": "code",
   "execution_count": 193,
   "metadata": {},
   "outputs": [],
   "source": [
    "# os.mkdir('./sampled_classes/train')\n",
    "# os.mkdir('./sampled_classes/test')\n",
    "# os.mkdir('./sampled_classes/validation')"
   ]
  },
  {
   "cell_type": "code",
   "execution_count": 205,
   "metadata": {},
   "outputs": [],
   "source": [
    "df_sampled = pd.DataFrame(columns=df.columns)\n",
    "for d in dx:\n",
    "    df_sampled = pd.concat([df_sampled, resample(X_train[X_train['dx']==d], replace=True, n_samples=500)])\n",
    "\n",
    "X_train, X_val = train_test_split(df_sampled, train_size=0.75, random_state=76, stratify=df_sampled['dx'])"
   ]
  },
  {
   "cell_type": "code",
   "execution_count": 195,
   "metadata": {},
   "outputs": [],
   "source": [
    "def create_directory(train_test, frame):\n",
    "    left = []\n",
    "    for cls in dx:\n",
    "        shutil.rmtree(f'./sampled_classes/{train_test}/{cls}', ignore_errors=True)\n",
    "        os.mkdir(f'./sampled_classes/{train_test}/{cls}')\n",
    "    i = 0\n",
    "    for img, cls in zip(frame['image_id'], frame['dx']):\n",
    "        if img+'.jpg' in list_img:\n",
    "            shutil.copy(f'./data/HAM10000_images_part_1/{img}.jpg', f'./sampled_classes/{train_test}/{cls}/{img}_{str(i)}.jpg')\n",
    "        elif img+'.jpg' in list_img_2:\n",
    "            shutil.copy(f'./data/HAM10000_images_part_2/{img}.jpg', f'./sampled_classes/{train_test}/{cls}/{img}_{str(i)}.jpg')\n",
    "        else:\n",
    "            left.append(img)\n",
    "        i += 1\n",
    "    if len(left) == 0:\n",
    "        return 'Everything alright'\n",
    "    else:\n",
    "        return left"
   ]
  },
  {
   "cell_type": "code",
   "execution_count": 206,
   "metadata": {},
   "outputs": [
    {
     "data": {
      "text/plain": [
       "'Everything alright'"
      ]
     },
     "execution_count": 206,
     "metadata": {},
     "output_type": "execute_result"
    }
   ],
   "source": [
    "create_directory('train', X_train)\n",
    "create_directory('validation', X_val)\n",
    "# create_directory('test', X_test)"
   ]
  },
  {
   "cell_type": "code",
   "execution_count": 207,
   "metadata": {},
   "outputs": [
    {
     "name": "stdout",
     "output_type": "stream",
     "text": [
      "bkl 375\n",
      "nv 375\n",
      "df 375\n",
      "mel 375\n",
      "vasc 375\n",
      "bcc 375\n",
      "akiec 375\n"
     ]
    }
   ],
   "source": [
    "for d in dx:\n",
    "    print(d, len(os.listdir(f'./sampled_classes/train/{d}')))"
   ]
  },
  {
   "cell_type": "code",
   "execution_count": 208,
   "metadata": {},
   "outputs": [
    {
     "name": "stdout",
     "output_type": "stream",
     "text": [
      "bkl 125\n",
      "nv 125\n",
      "df 125\n",
      "mel 125\n",
      "vasc 125\n",
      "bcc 125\n",
      "akiec 125\n"
     ]
    }
   ],
   "source": [
    "for d in dx:\n",
    "    print(d, len(os.listdir(f'./sampled_classes/validation/{d}')))"
   ]
  },
  {
   "cell_type": "code",
   "execution_count": 175,
   "metadata": {},
   "outputs": [],
   "source": [
    "lst_df = list(df['image_id'])"
   ]
  },
  {
   "cell_type": "code",
   "execution_count": 180,
   "metadata": {},
   "outputs": [],
   "source": [
    "total_list = list_img + list_img_2\n",
    "total_list = [x.rstrip('.jpg') for x in  total_list]"
   ]
  },
  {
   "cell_type": "code",
   "execution_count": 182,
   "metadata": {},
   "outputs": [],
   "source": [
    "set_1 = set(lst_df)\n",
    "set_2 = set(total_list)"
   ]
  },
  {
   "cell_type": "code",
   "execution_count": 183,
   "metadata": {},
   "outputs": [
    {
     "data": {
      "text/plain": [
       "set()"
      ]
     },
     "execution_count": 183,
     "metadata": {},
     "output_type": "execute_result"
    }
   ],
   "source": [
    "set_1.difference(set_2)"
   ]
  },
  {
   "cell_type": "code",
   "execution_count": 184,
   "metadata": {},
   "outputs": [
    {
     "data": {
      "text/plain": [
       "set()"
      ]
     },
     "execution_count": 184,
     "metadata": {},
     "output_type": "execute_result"
    }
   ],
   "source": [
    "set_2.difference(set_1)"
   ]
  },
  {
   "cell_type": "code",
   "execution_count": 185,
   "metadata": {},
   "outputs": [
    {
     "data": {
      "text/plain": [
       "True"
      ]
     },
     "execution_count": 185,
     "metadata": {},
     "output_type": "execute_result"
    }
   ],
   "source": [
    "set_1 == set_2"
   ]
  },
  {
   "cell_type": "code",
   "execution_count": null,
   "metadata": {},
   "outputs": [],
   "source": []
  }
 ],
 "metadata": {
  "interpreter": {
   "hash": "35c267216a8a9a5de802732b368407c9e859165faf5cda25a6a24bab33258039"
  },
  "kernelspec": {
   "display_name": "Python 3.8.8 64-bit ('3.8.8')",
   "language": "python",
   "name": "python3"
  },
  "language_info": {
   "codemirror_mode": {
    "name": "ipython",
    "version": 3
   },
   "file_extension": ".py",
   "mimetype": "text/x-python",
   "name": "python",
   "nbconvert_exporter": "python",
   "pygments_lexer": "ipython3",
   "version": "3.8.8"
  },
  "orig_nbformat": 4
 },
 "nbformat": 4,
 "nbformat_minor": 2
}
