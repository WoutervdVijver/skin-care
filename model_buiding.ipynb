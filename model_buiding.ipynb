{
 "cells": [
  {
   "cell_type": "code",
   "execution_count": 3,
   "metadata": {},
   "outputs": [],
   "source": [
    "import numpy as np\n",
    "import pandas as pd\n",
    "import tensorflow as tf\n",
    "from tensorflow import keras\n",
    "import matplotlib.pyplot as plt\n",
    "from keras import Sequential\n",
    "from keras import layers\n",
    "import os\n",
    "from keras.preprocessing import image"
   ]
  },
  {
   "cell_type": "markdown",
   "metadata": {},
   "source": [
    "## Resampled model"
   ]
  },
  {
   "cell_type": "code",
   "execution_count": 15,
   "metadata": {},
   "outputs": [
    {
     "name": "stdout",
     "output_type": "stream",
     "text": [
      "Found 525 images belonging to 7 classes.\n",
      "Found 175 images belonging to 7 classes.\n"
     ]
    }
   ],
   "source": [
    "from keras.preprocessing.image import ImageDataGenerator\n",
    "\n",
    "# datagen = ImageDataGenerator(\n",
    "#     rotation_range = 360\n",
    "# )\n",
    "\n",
    "\n",
    "\n",
    "# train_generator = datagen.flow_from_directory(\n",
    "#         'sampled_classes/train/',\n",
    "#         target_size=(180, 180),\n",
    "#         batch_size=32,\n",
    "#         class_mode='categorical')\n",
    "\n",
    "\n",
    "# val_generator = datagen.flow_from_directory(\n",
    "#         'sampled_classes/validation/',\n",
    "#         target_size=(180, 180),\n",
    "#         batch_size=32,\n",
    "#         class_mode='categorical')"
   ]
  },
  {
   "cell_type": "code",
   "execution_count": 4,
   "metadata": {},
   "outputs": [
    {
     "name": "stdout",
     "output_type": "stream",
     "text": [
      "Found 2625 files belonging to 7 classes.\n"
     ]
    },
    {
     "name": "stderr",
     "output_type": "stream",
     "text": [
      "2022-05-20 10:28:45.180693: I tensorflow/core/platform/cpu_feature_guard.cc:142] This TensorFlow binary is optimized with oneAPI Deep Neural Network Library (oneDNN) to use the following CPU instructions in performance-critical operations:  SSE4.1 SSE4.2 AVX AVX2 FMA\n",
      "To enable them in other operations, rebuild TensorFlow with the appropriate compiler flags.\n"
     ]
    },
    {
     "name": "stdout",
     "output_type": "stream",
     "text": [
      "Found 875 files belonging to 7 classes.\n"
     ]
    }
   ],
   "source": [
    "train_ds = keras.preprocessing.image_dataset_from_directory(\n",
    "  './sampled_classes/train/', \n",
    "  labels='inferred',\n",
    "  label_mode='categorical', \n",
    "  seed=123, \n",
    "  batch_size=32, \n",
    "  image_size=(180, 180)\n",
    ")\n",
    "  \n",
    "val_ds = keras.preprocessing.image_dataset_from_directory(\n",
    "  './sampled_classes/validation/', \n",
    "  labels='inferred',\n",
    "  label_mode='categorical',\n",
    "  seed=123,\n",
    "  image_size=(180, 180),\n",
    "  batch_size=32)"
   ]
  },
  {
   "cell_type": "code",
   "execution_count": 5,
   "metadata": {},
   "outputs": [],
   "source": [
    "model = Sequential([\n",
    "    layers.RandomRotation(factor=1, input_shape=(180, 180, 3)),\n",
    "    layers.Rescaling(1./255),\n",
    "    layers.Conv2D(16, 3, padding='same', activation='relu'),\n",
    "    layers.MaxPooling2D(),\n",
    "    layers.Conv2D(32, 3, padding='same', activation='relu'),\n",
    "    layers.MaxPooling2D(),\n",
    "    layers.Flatten(),\n",
    "    layers.Dense(7, activation='softmax'),\n",
    "])"
   ]
  },
  {
   "cell_type": "code",
   "execution_count": 6,
   "metadata": {},
   "outputs": [],
   "source": [
    "model.compile(\n",
    "    optimizer='adam',\n",
    "    loss = keras.losses.CategoricalCrossentropy(),\n",
    "    metrics=['categorical_accuracy']\n",
    ")"
   ]
  },
  {
   "cell_type": "code",
   "execution_count": 7,
   "metadata": {},
   "outputs": [],
   "source": [
    "from keras import callbacks\n",
    "earlystopping = callbacks.EarlyStopping(monitor =\"val_categorical_accuracy\", \n",
    "                                        mode =\"max\", \n",
    "                                        patience = 8, \n",
    "                                        restore_best_weights = True,\n",
    "                                        verbose=2)"
   ]
  },
  {
   "cell_type": "code",
   "execution_count": 8,
   "metadata": {},
   "outputs": [
    {
     "name": "stdout",
     "output_type": "stream",
     "text": [
      "Epoch 1/36\n"
     ]
    },
    {
     "name": "stderr",
     "output_type": "stream",
     "text": [
      "2022-05-20 10:29:02.681850: I tensorflow/compiler/mlir/mlir_graph_optimization_pass.cc:185] None of the MLIR Optimization Passes are enabled (registered 2)\n"
     ]
    },
    {
     "name": "stdout",
     "output_type": "stream",
     "text": [
      "83/83 [==============================] - 131s 2s/step - loss: 1.9742 - categorical_accuracy: 0.2030 - val_loss: 1.8387 - val_categorical_accuracy: 0.2834\n",
      "Epoch 2/36\n",
      "83/83 [==============================] - 139s 2s/step - loss: 1.6899 - categorical_accuracy: 0.3398 - val_loss: 1.5691 - val_categorical_accuracy: 0.3977\n",
      "Epoch 3/36\n",
      "83/83 [==============================] - 120s 1s/step - loss: 1.5286 - categorical_accuracy: 0.4019 - val_loss: 1.4555 - val_categorical_accuracy: 0.4286\n",
      "Epoch 4/36\n",
      "83/83 [==============================] - 133s 2s/step - loss: 1.4394 - categorical_accuracy: 0.4370 - val_loss: 1.3745 - val_categorical_accuracy: 0.4526\n",
      "Epoch 5/36\n",
      "83/83 [==============================] - 91s 1s/step - loss: 1.3954 - categorical_accuracy: 0.4434 - val_loss: 1.3892 - val_categorical_accuracy: 0.4811\n",
      "Epoch 6/36\n",
      "83/83 [==============================] - 85s 1s/step - loss: 1.3674 - categorical_accuracy: 0.4670 - val_loss: 1.3463 - val_categorical_accuracy: 0.4709\n",
      "Epoch 7/36\n",
      "83/83 [==============================] - 103s 1s/step - loss: 1.3350 - categorical_accuracy: 0.4712 - val_loss: 1.3316 - val_categorical_accuracy: 0.4937\n",
      "Epoch 8/36\n",
      "83/83 [==============================] - 114s 1s/step - loss: 1.3120 - categorical_accuracy: 0.4823 - val_loss: 1.3217 - val_categorical_accuracy: 0.4960\n",
      "Epoch 9/36\n",
      "83/83 [==============================] - 95s 1s/step - loss: 1.3109 - categorical_accuracy: 0.4789 - val_loss: 1.3434 - val_categorical_accuracy: 0.4777\n",
      "Epoch 10/36\n",
      "83/83 [==============================] - 150s 2s/step - loss: 1.2444 - categorical_accuracy: 0.5017 - val_loss: 1.2860 - val_categorical_accuracy: 0.4949\n",
      "Epoch 11/36\n",
      "83/83 [==============================] - 133s 2s/step - loss: 1.2580 - categorical_accuracy: 0.5051 - val_loss: 1.2740 - val_categorical_accuracy: 0.5166\n",
      "Epoch 12/36\n",
      "83/83 [==============================] - 187s 2s/step - loss: 1.2463 - categorical_accuracy: 0.5109 - val_loss: 1.2097 - val_categorical_accuracy: 0.5474\n",
      "Epoch 13/36\n",
      "83/83 [==============================] - 94s 1s/step - loss: 1.1980 - categorical_accuracy: 0.5291 - val_loss: 1.1974 - val_categorical_accuracy: 0.5303\n",
      "Epoch 14/36\n",
      "83/83 [==============================] - 126s 1s/step - loss: 1.2279 - categorical_accuracy: 0.5078 - val_loss: 1.2837 - val_categorical_accuracy: 0.4857\n",
      "Epoch 15/36\n",
      "83/83 [==============================] - 109s 1s/step - loss: 1.1881 - categorical_accuracy: 0.5440 - val_loss: 1.1936 - val_categorical_accuracy: 0.5451\n",
      "Epoch 16/36\n",
      "83/83 [==============================] - 101s 1s/step - loss: 1.1424 - categorical_accuracy: 0.5562 - val_loss: 1.2472 - val_categorical_accuracy: 0.5029\n",
      "Epoch 17/36\n",
      "83/83 [==============================] - 99s 1s/step - loss: 1.2340 - categorical_accuracy: 0.5139 - val_loss: 1.3246 - val_categorical_accuracy: 0.4983\n",
      "Epoch 18/36\n",
      "83/83 [==============================] - 74s 870ms/step - loss: 1.2552 - categorical_accuracy: 0.4960 - val_loss: 1.1950 - val_categorical_accuracy: 0.5063\n",
      "Epoch 19/36\n",
      "83/83 [==============================] - 65s 769ms/step - loss: 1.1295 - categorical_accuracy: 0.5482 - val_loss: 1.1782 - val_categorical_accuracy: 0.5703\n",
      "Epoch 20/36\n",
      "83/83 [==============================] - 69s 817ms/step - loss: 1.1423 - categorical_accuracy: 0.5558 - val_loss: 1.1862 - val_categorical_accuracy: 0.5497\n",
      "Epoch 21/36\n",
      "83/83 [==============================] - 68s 806ms/step - loss: 1.0963 - categorical_accuracy: 0.5688 - val_loss: 1.4627 - val_categorical_accuracy: 0.4651\n",
      "Epoch 22/36\n",
      "83/83 [==============================] - 65s 778ms/step - loss: 1.1525 - categorical_accuracy: 0.5627 - val_loss: 1.2450 - val_categorical_accuracy: 0.5280\n",
      "Epoch 23/36\n",
      "83/83 [==============================] - 66s 782ms/step - loss: 1.0853 - categorical_accuracy: 0.5787 - val_loss: 1.1189 - val_categorical_accuracy: 0.5874\n",
      "Epoch 24/36\n",
      "83/83 [==============================] - 89s 1s/step - loss: 1.1965 - categorical_accuracy: 0.5421 - val_loss: 1.1444 - val_categorical_accuracy: 0.5851\n",
      "Epoch 25/36\n",
      "83/83 [==============================] - 93s 1s/step - loss: 1.0521 - categorical_accuracy: 0.5954 - val_loss: 1.1269 - val_categorical_accuracy: 0.5463\n",
      "Epoch 26/36\n",
      "83/83 [==============================] - 87s 1s/step - loss: 1.0232 - categorical_accuracy: 0.6042 - val_loss: 1.0899 - val_categorical_accuracy: 0.5657\n",
      "Epoch 27/36\n",
      "83/83 [==============================] - 89s 1s/step - loss: 1.0134 - categorical_accuracy: 0.6179 - val_loss: 1.1292 - val_categorical_accuracy: 0.5611\n",
      "Epoch 28/36\n",
      "83/83 [==============================] - 97s 1s/step - loss: 1.0355 - categorical_accuracy: 0.6011 - val_loss: 1.1273 - val_categorical_accuracy: 0.5280\n",
      "Epoch 29/36\n",
      "83/83 [==============================] - 96s 1s/step - loss: 1.0041 - categorical_accuracy: 0.6179 - val_loss: 1.2107 - val_categorical_accuracy: 0.5509\n",
      "Epoch 30/36\n",
      "83/83 [==============================] - 115s 1s/step - loss: 1.0093 - categorical_accuracy: 0.6168 - val_loss: 1.0836 - val_categorical_accuracy: 0.5531\n",
      "Epoch 31/36\n",
      "83/83 [==============================] - 91s 1s/step - loss: 1.0059 - categorical_accuracy: 0.6179 - val_loss: 1.1093 - val_categorical_accuracy: 0.5589\n",
      "Restoring model weights from the end of the best epoch.\n",
      "Epoch 00031: early stopping\n"
     ]
    }
   ],
   "source": [
    "history = model.fit(\n",
    "    train_ds,\n",
    "    validation_data=val_ds,\n",
    "    epochs=36,\n",
    "    callbacks=earlystopping\n",
    ")"
   ]
  },
  {
   "cell_type": "code",
   "execution_count": 9,
   "metadata": {},
   "outputs": [
    {
     "name": "stderr",
     "output_type": "stream",
     "text": [
      "2022-05-20 11:24:40.206537: W tensorflow/python/util/util.cc:348] Sets are not currently considered sequences, but this may change in the future, so consider avoiding using them.\n"
     ]
    },
    {
     "name": "stdout",
     "output_type": "stream",
     "text": [
      "INFO:tensorflow:Assets written to: ./models/model/assets\n"
     ]
    }
   ],
   "source": [
    "model.save(\n",
    "    './models/model',\n",
    "    overwrite=True,\n",
    "    include_optimizer=True,\n",
    "    save_format=None,\n",
    "    signatures=None,\n",
    "    options=None,\n",
    "    save_traces=True,\n",
    ")\n"
   ]
  },
  {
   "cell_type": "markdown",
   "metadata": {},
   "source": [
    "### evaluation"
   ]
  },
  {
   "cell_type": "markdown",
   "metadata": {},
   "source": [
    "#### loss curve"
   ]
  },
  {
   "cell_type": "code",
   "execution_count": 10,
   "metadata": {},
   "outputs": [],
   "source": [
    "def plot_acc(history, epochs):\n",
    "    acc = history.history['categorical_accuracy']\n",
    "    val_acc = history.history['val_categorical_accuracy']\n",
    "\n",
    "    loss = history.history['loss']\n",
    "    val_loss = history.history['val_loss']\n",
    "\n",
    "    epochs_range = range(epochs)\n",
    "\n",
    "    plt.figure(figsize=(8, 8))\n",
    "    plt.subplot(1, 2, 1)\n",
    "    plt.plot(epochs_range, acc, label='Training Accuracy')\n",
    "    plt.plot(epochs_range, val_acc, label='Validation Accuracy')\n",
    "    plt.legend(loc='lower right')\n",
    "    plt.title('Training and Validation Accuracy')\n",
    "\n",
    "    plt.subplot(1, 2, 2)\n",
    "    plt.plot(epochs_range, loss, label='Training Loss')\n",
    "    plt.plot(epochs_range, val_loss, label='Validation Loss')\n",
    "    plt.legend(loc='upper right')\n",
    "    plt.title('Training and Validation Loss')\n",
    "    plt.show()"
   ]
  },
  {
   "cell_type": "code",
   "execution_count": 11,
   "metadata": {},
   "outputs": [
    {
     "data": {
      "image/png": "[encoded data removed]",
      "text/plain": [
       "<Figure size 576x576 with 2 Axes>"
      ]
     },
     "metadata": {
      "needs_background": "light"
     },
     "output_type": "display_data"
    }
   ],
   "source": [
    "plot_acc(history, 31)"
   ]
  },
  {
   "cell_type": "markdown",
   "metadata": {},
   "source": [
    "#### confusion matrix"
   ]
  },
  {
   "cell_type": "code",
   "execution_count": 35,
   "metadata": {},
   "outputs": [],
   "source": [
    "y_true = []\n",
    "y_pred = []\n",
    "for images, labels in val_ds:\n",
    "    y_pred.append(np.argmax(model.predict(images), axis=1))\n",
    "    y_true.append(np.argmax(labels,axis=1))\n"
   ]
  },
  {
   "cell_type": "code",
   "execution_count": 36,
   "metadata": {},
   "outputs": [],
   "source": [
    "y_true = np.hstack(y_true)\n",
    "y_pred = np.hstack(y_pred)\n",
    "# print(y_true)\n",
    "# print(y_pred)"
   ]
  },
  {
   "cell_type": "code",
   "execution_count": 28,
   "metadata": {},
   "outputs": [
    {
     "data": {
      "text/plain": [
       "1.0"
      ]
     },
     "execution_count": 28,
     "metadata": {},
     "output_type": "execute_result"
    }
   ],
   "source": [
    "m = keras.metrics.CategoricalAccuracy()\n",
    "m.update_state(y_true, y_pred)\n",
    "m.result().numpy()"
   ]
  },
  {
   "cell_type": "code",
   "execution_count": 25,
   "metadata": {},
   "outputs": [],
   "source": [
    "# list(map(lambda x: cls[x], pred_2))"
   ]
  },
  {
   "cell_type": "code",
   "execution_count": 26,
   "metadata": {},
   "outputs": [],
   "source": [
    "from sklearn.metrics import confusion_matrix"
   ]
  },
  {
   "cell_type": "code",
   "execution_count": 37,
   "metadata": {},
   "outputs": [
    {
     "data": {
      "text/plain": [
       "array([[ 54,  17,   6,  39,   4,   5,   0],\n",
       "       [ 30,  65,   1,  23,   1,   1,   4],\n",
       "       [ 23,  10,  38,  13,  17,  19,   5],\n",
       "       [ 17,   6,   0,  97,   2,   3,   0],\n",
       "       [  7,  11,  14,   6,  66,  17,   4],\n",
       "       [  4,   3,  12,   7,  16,  82,   1],\n",
       "       [  0,   9,   0,   4,   0,   0, 112]])"
      ]
     },
     "execution_count": 37,
     "metadata": {},
     "output_type": "execute_result"
    }
   ],
   "source": [
    "conf = confusion_matrix(y_true, y_pred)\n",
    "conf"
   ]
  },
  {
   "cell_type": "code",
   "execution_count": 38,
   "metadata": {},
   "outputs": [
    {
     "data": {
      "text/plain": [
       "0.5874285714285714"
      ]
     },
     "execution_count": 38,
     "metadata": {},
     "output_type": "execute_result"
    }
   ],
   "source": [
    "diag = 0\n",
    "for i in range(7):\n",
    "    diag += conf[i][i]\n",
    "diag/conf.sum()"
   ]
  },
  {
   "cell_type": "code",
   "execution_count": 39,
   "metadata": {},
   "outputs": [
    {
     "name": "stdout",
     "output_type": "stream",
     "text": [
      "              precision    recall  f1-score   support\n",
      "\n",
      "           0       0.40      0.43      0.42       125\n",
      "           1       0.54      0.52      0.53       125\n",
      "           2       0.54      0.30      0.39       125\n",
      "           3       0.51      0.78      0.62       125\n",
      "           4       0.62      0.53      0.57       125\n",
      "           5       0.65      0.66      0.65       125\n",
      "           6       0.89      0.90      0.89       125\n",
      "\n",
      "    accuracy                           0.59       875\n",
      "   macro avg       0.59      0.59      0.58       875\n",
      "weighted avg       0.59      0.59      0.58       875\n",
      "\n"
     ]
    }
   ],
   "source": [
    "from sklearn.metrics import classification_report\n",
    "\n",
    "print(classification_report(y_true, y_pred))"
   ]
  },
  {
   "cell_type": "markdown",
   "metadata": {},
   "source": [
    "#### Prediction"
   ]
  },
  {
   "cell_type": "code",
   "execution_count": 42,
   "metadata": {},
   "outputs": [],
   "source": [
    "cls = train_ds.class_names"
   ]
  },
  {
   "cell_type": "code",
   "execution_count": null,
   "metadata": {},
   "outputs": [],
   "source": []
  },
  {
   "cell_type": "code",
   "execution_count": 40,
   "metadata": {},
   "outputs": [],
   "source": [
    "img = keras.utils.load_img(\n",
    "    './uploads/1.1.jpg',\n",
    "    target_size=(180,180)\n",
    ")\n",
    "img = keras.preprocessing.image.img_to_array(img)\n",
    "img = np.array([img])"
   ]
  },
  {
   "cell_type": "code",
   "execution_count": 43,
   "metadata": {},
   "outputs": [
    {
     "data": {
      "text/plain": [
       "'bcc'"
      ]
     },
     "execution_count": 43,
     "metadata": {},
     "output_type": "execute_result"
    }
   ],
   "source": [
    "cls[np.argmax(model.predict(img))]"
   ]
  },
  {
   "cell_type": "code",
   "execution_count": 45,
   "metadata": {},
   "outputs": [
    {
     "data": {
      "text/plain": [
       "array([[0.02, 0.65, 0.28, 0.01, 0.01, 0.03, 0.01]], dtype=float32)"
      ]
     },
     "execution_count": 45,
     "metadata": {},
     "output_type": "execute_result"
    }
   ],
   "source": [
    "np.round(model.predict(img),2)"
   ]
  },
  {
   "cell_type": "code",
   "execution_count": null,
   "metadata": {},
   "outputs": [],
   "source": []
  }
 ],
 "metadata": {
  "interpreter": {
   "hash": "85b35dbaecfeb6324bfd2b102a4649f8303ec36695a758fff5bf73890cbd2cad"
  },
  "kernelspec": {
   "display_name": "Python 3.8.13 ('tf')",
   "language": "python",
   "name": "python3"
  },
  "language_info": {
   "codemirror_mode": {
    "name": "ipython",
    "version": 3
   },
   "file_extension": ".py",
   "mimetype": "text/x-python",
   "name": "python",
   "nbconvert_exporter": "python",
   "pygments_lexer": "ipython3",
   "version": "3.8.13"
  },
  "orig_nbformat": 4
 },
 "nbformat": 4,
 "nbformat_minor": 2
}
