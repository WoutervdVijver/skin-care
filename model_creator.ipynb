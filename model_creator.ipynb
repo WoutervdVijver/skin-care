{
 "cells": [
  {
   "cell_type": "code",
   "execution_count": 18,
   "metadata": {},
   "outputs": [],
   "source": [
    "import matplotlib.pyplot as plt\n",
    "import numpy as np\n",
    "import os\n",
    "import tensorflow as tf\n",
    "from tensorflow import keras\n",
    "from keras.models import Sequential\n",
    "from keras import layers\n",
    "from keras.callbacks import EarlyStopping\n",
    "from keras.preprocessing import image\n",
    "\n",
    "from sklearn.metrics import confusion_matrix, classification_report\n",
    "from sklearn.metrics import ConfusionMatrixDisplay"
   ]
  },
  {
   "cell_type": "markdown",
   "metadata": {},
   "source": [
    "# Data loading"
   ]
  },
  {
   "cell_type": "code",
   "execution_count": 2,
   "metadata": {},
   "outputs": [],
   "source": [
    "batch_size = 32\n",
    "im_size = (224,224)"
   ]
  },
  {
   "cell_type": "code",
   "execution_count": 28,
   "metadata": {},
   "outputs": [
    {
     "name": "stdout",
     "output_type": "stream",
     "text": [
      "Found 37548 files belonging to 7 classes.\n",
      "Found 4690 files belonging to 7 classes.\n"
     ]
    }
   ],
   "source": [
    "# train and validation set are created from the directory sampled_classes\n",
    "\n",
    "train_ds = keras.preprocessing.image_dataset_from_directory(\n",
    "  './sampled_classes/train/', \n",
    "  labels='inferred',\n",
    "  label_mode='categorical', \n",
    "  seed=123, \n",
    "  batch_size=batch_size, \n",
    "  image_size=im_size\n",
    ")\n",
    "\n",
    "val_ds = keras.preprocessing.image_dataset_from_directory(\n",
    "  './sampled_classes/validation/', \n",
    "  labels='inferred',\n",
    "  label_mode='categorical', \n",
    "  seed=123, \n",
    "  batch_size=batch_size, \n",
    "  image_size=im_size\n",
    ")"
   ]
  },
  {
   "cell_type": "code",
   "execution_count": 29,
   "metadata": {},
   "outputs": [
    {
     "data": {
      "text/plain": [
       "['akiec', 'bcc', 'bkl', 'df', 'mel', 'nv', 'vasc']"
      ]
     },
     "execution_count": 29,
     "metadata": {},
     "output_type": "execute_result"
    }
   ],
   "source": [
    "# list of classes\n",
    "\n",
    "cls = train_ds.class_names\n",
    "cls"
   ]
  },
  {
   "cell_type": "code",
   "execution_count": 15,
   "metadata": {},
   "outputs": [],
   "source": [
    "def history_plot(history):\n",
    "    '''\n",
    "    Function that plots the loss and accuracy curves of the training and validation sets\n",
    "    '''\n",
    "    acc = history.history['accuracy']\n",
    "    val_acc = history.history['val_accuracy']\n",
    "\n",
    "    loss = history.history['loss']\n",
    "    val_loss = history.history['val_loss']\n",
    "\n",
    "    epochs_range = range(history.epoch[-1]+1)\n",
    "\n",
    "    plt.figure(figsize=(8, 8))\n",
    "    plt.subplot(1, 2, 1)\n",
    "    plt.plot(epochs_range, acc, label='Training Accuracy')\n",
    "    plt.plot(epochs_range, val_acc, label='Validation Accuracy')\n",
    "    plt.legend(loc='lower right')\n",
    "    plt.title('Training and Validation Accuracy')\n",
    "\n",
    "    plt.subplot(1, 2, 2)\n",
    "    plt.plot(epochs_range, loss, label='Training Loss')\n",
    "    plt.plot(epochs_range, val_loss, label='Validation Loss')\n",
    "    plt.legend(loc='upper right')\n",
    "    plt.title('Training and Validation Loss')\n",
    "    plt.show()\n",
    "\n"
   ]
  },
  {
   "cell_type": "code",
   "execution_count": 95,
   "metadata": {},
   "outputs": [
    {
     "name": "stdout",
     "output_type": "stream",
     "text": [
      "Found 1002 files belonging to 7 classes.\n"
     ]
    }
   ],
   "source": [
    "test_ds = keras.preprocessing.image_dataset_from_directory(\n",
    "  './sampled_classes/test/', \n",
    "  labels='inferred',\n",
    "  label_mode='categorical', \n",
    "  seed=123, \n",
    "  batch_size=batch_size, \n",
    "  image_size=im_size\n",
    ")"
   ]
  },
  {
   "cell_type": "markdown",
   "metadata": {},
   "source": [
    "# Transfer learning"
   ]
  },
  {
   "cell_type": "code",
   "execution_count": 22,
   "metadata": {},
   "outputs": [],
   "source": [
    "from keras.applications.resnet import ResNet50, preprocess_input, decode_predictions"
   ]
  },
  {
   "cell_type": "code",
   "execution_count": 67,
   "metadata": {},
   "outputs": [
    {
     "name": "stdout",
     "output_type": "stream",
     "text": [
      "Downloading data from https://storage.googleapis.com/tensorflow/keras-applications/vgg19/vgg19_weights_tf_dim_ordering_tf_kernels.h5\n",
      "574710816/574710816 [==============================] - 321s 1us/step\n"
     ]
    }
   ],
   "source": [
    "model_t = ResNet50(\n",
    "    include_top=True,\n",
    "    weights = 'imagenet'\n",
    ")"
   ]
  },
  {
   "cell_type": "code",
   "execution_count": 91,
   "metadata": {},
   "outputs": [],
   "source": [
    "def get_labels(path:str) -> list:\n",
    "    '''\n",
    "    Function that takes the path and retruns a list of predictions of ResNet50\n",
    "\n",
    "    :params path: str that represents the path to the file\n",
    "    '''\n",
    "    original_im = keras.preprocessing.image.load_img(path, target_size = im_size)\n",
    "    image_array = keras.preprocessing.image.img_to_array(original_im)\n",
    "    image_array = image_array.reshape((1, image_array.shape[0], image_array.shape[1], image_array.shape[2]))\n",
    "    prepared_im = preprocess_input(image_array)\n",
    "    pred = model_t.predict(prepared_im)\n",
    "    labels = decode_predictions(pred)\n",
    "    return labels"
   ]
  },
  {
   "cell_type": "code",
   "execution_count": 94,
   "metadata": {},
   "outputs": [
    {
     "name": "stdout",
     "output_type": "stream",
     "text": [
      "1/1 [==============================] - 0s 18ms/step\n",
      "[[('n01776313', 'tick', 0.36347976), ('n01774384', 'black_widow', 0.16375616), ('n02219486', 'ant', 0.14996946), ('n01775062', 'wolf_spider', 0.01841793), ('n01770081', 'harvestman', 0.017559603)]]\n",
      "1/1 [==============================] - 0s 18ms/step\n",
      "[[('n01776313', 'tick', 0.2178584), ('n04525038', 'velvet', 0.08081351), ('n01770393', 'scorpion', 0.025895908), ('n03532672', 'hook', 0.016255876), ('n03804744', 'nail', 0.016241591)]]\n",
      "1/1 [==============================] - 0s 19ms/step\n",
      "[[('n01774384', 'black_widow', 0.1139153), ('n01775062', 'wolf_spider', 0.111394845), ('n01776313', 'tick', 0.08307785), ('n02219486', 'ant', 0.056354478), ('n02231487', 'walking_stick', 0.05534977)]]\n",
      "1/1 [==============================] - 0s 17ms/step\n",
      "[[('n01770081', 'harvestman', 0.9283527), ('n01776313', 'tick', 0.025633568), ('n02233338', 'cockroach', 0.011861203), ('n02168699', 'long-horned_beetle', 0.0099882865), ('n02231487', 'walking_stick', 0.0076780813)]]\n",
      "1/1 [==============================] - 0s 91ms/step\n",
      "[[('n04599235', 'wool', 0.12688242), ('n03980874', 'poncho', 0.07616794), ('n04325704', 'stole', 0.051445976), ('n03775071', 'mitten', 0.048305273), ('n02808304', 'bath_towel', 0.041304566)]]\n",
      "1/1 [==============================] - 0s 22ms/step\n",
      "[[('n01776313', 'tick', 0.05087712), ('n01930112', 'nematode', 0.044141367), ('n04372370', 'switch', 0.03571409), ('n03804744', 'nail', 0.031804875), ('n01774384', 'black_widow', 0.024600774)]]\n",
      "1/1 [==============================] - 0s 19ms/step\n",
      "[[('n01776313', 'tick', 0.45218295), ('n02112137', 'chow', 0.12147277), ('n02112018', 'Pomeranian', 0.04052996), ('n02342885', 'hamster', 0.033271015), ('n02364673', 'guinea_pig', 0.030946733)]]\n",
      "1/1 [==============================] - 0s 20ms/step\n",
      "[[('n01776313', 'tick', 0.4540991), ('n01770081', 'harvestman', 0.034851648), ('n01774384', 'black_widow', 0.032010905), ('n02219486', 'ant', 0.015671954), ('n01775062', 'wolf_spider', 0.01534902)]]\n",
      "1/1 [==============================] - 0s 18ms/step\n",
      "[[('n01776313', 'tick', 0.1097215), ('n03804744', 'nail', 0.04218967), ('n01774384', 'black_widow', 0.04066275), ('n02219486', 'ant', 0.030878823), ('n02264363', 'lacewing', 0.0226336)]]\n",
      "1/1 [==============================] - 0s 18ms/step\n",
      "[[('n01776313', 'tick', 0.19995072), ('n02219486', 'ant', 0.08912127), ('n01930112', 'nematode', 0.042747106), ('n01774384', 'black_widow', 0.026241628), ('n01775062', 'wolf_spider', 0.023334365)]]\n"
     ]
    }
   ],
   "source": [
    "for path in os.listdir('./sampled_classes/test/akiec')[:10]:\n",
    "    print(get_labels(f'./sampled_classes/test/akiec/{path}'))"
   ]
  },
  {
   "cell_type": "markdown",
   "metadata": {},
   "source": [
    "## model"
   ]
  },
  {
   "cell_type": "code",
   "execution_count": 23,
   "metadata": {},
   "outputs": [],
   "source": [
    "model_n = ResNet50(\n",
    "    include_top=False,\n",
    "    weights = 'imagenet'\n",
    ")"
   ]
  },
  {
   "cell_type": "code",
   "execution_count": 24,
   "metadata": {},
   "outputs": [],
   "source": [
    "for l in model_n.layers:\n",
    "    l.trainable=False"
   ]
  },
  {
   "cell_type": "code",
   "execution_count": 25,
   "metadata": {},
   "outputs": [
    {
     "name": "stdout",
     "output_type": "stream",
     "text": [
      "Model: \"resnet50\"\n",
      "__________________________________________________________________________________________________\n",
      " Layer (type)                   Output Shape         Param #     Connected to                     \n",
      "==================================================================================================\n",
      " input_1 (InputLayer)           [(None, None, None,  0           []                               \n",
      "                                 3)]                                                              \n",
      "                                                                                                  \n",
      " conv1_pad (ZeroPadding2D)      (None, None, None,   0           ['input_1[0][0]']                \n",
      "                                3)                                                                \n",
      "                                                                                                  \n",
      " conv1_conv (Conv2D)            (None, None, None,   9472        ['conv1_pad[0][0]']              \n",
      "                                64)                                                               \n",
      "                                                                                                  \n",
      " conv1_bn (BatchNormalization)  (None, None, None,   256         ['conv1_conv[0][0]']             \n",
      "                                64)                                                               \n",
      "                                                                                                  \n",
      " conv1_relu (Activation)        (None, None, None,   0           ['conv1_bn[0][0]']               \n",
      "                                64)                                                               \n",
      "                                                                                                  \n",
      " pool1_pad (ZeroPadding2D)      (None, None, None,   0           ['conv1_relu[0][0]']             \n",
      "                                64)                                                               \n",
      "                                                                                                  \n",
      " pool1_pool (MaxPooling2D)      (None, None, None,   0           ['pool1_pad[0][0]']              \n",
      "                                64)                                                               \n",
      "                                                                                                  \n",
      " conv2_block1_1_conv (Conv2D)   (None, None, None,   4160        ['pool1_pool[0][0]']             \n",
      "                                64)                                                               \n",
      "                                                                                                  \n",
      " conv2_block1_1_bn (BatchNormal  (None, None, None,   256        ['conv2_block1_1_conv[0][0]']    \n",
      " ization)                       64)                                                               \n",
      "                                                                                                  \n",
      " conv2_block1_1_relu (Activatio  (None, None, None,   0          ['conv2_block1_1_bn[0][0]']      \n",
      " n)                             64)                                                               \n",
      "                                                                                                  \n",
      " conv2_block1_2_conv (Conv2D)   (None, None, None,   36928       ['conv2_block1_1_relu[0][0]']    \n",
      "                                64)                                                               \n",
      "                                                                                                  \n",
      " conv2_block1_2_bn (BatchNormal  (None, None, None,   256        ['conv2_block1_2_conv[0][0]']    \n",
      " ization)                       64)                                                               \n",
      "                                                                                                  \n",
      " conv2_block1_2_relu (Activatio  (None, None, None,   0          ['conv2_block1_2_bn[0][0]']      \n",
      " n)                             64)                                                               \n",
      "                                                                                                  \n",
      " conv2_block1_0_conv (Conv2D)   (None, None, None,   16640       ['pool1_pool[0][0]']             \n",
      "                                256)                                                              \n",
      "                                                                                                  \n",
      " conv2_block1_3_conv (Conv2D)   (None, None, None,   16640       ['conv2_block1_2_relu[0][0]']    \n",
      "                                256)                                                              \n",
      "                                                                                                  \n",
      " conv2_block1_0_bn (BatchNormal  (None, None, None,   1024       ['conv2_block1_0_conv[0][0]']    \n",
      " ization)                       256)                                                              \n",
      "                                                                                                  \n",
      " conv2_block1_3_bn (BatchNormal  (None, None, None,   1024       ['conv2_block1_3_conv[0][0]']    \n",
      " ization)                       256)                                                              \n",
      "                                                                                                  \n",
      " conv2_block1_add (Add)         (None, None, None,   0           ['conv2_block1_0_bn[0][0]',      \n",
      "                                256)                              'conv2_block1_3_bn[0][0]']      \n",
      "                                                                                                  \n",
      " conv2_block1_out (Activation)  (None, None, None,   0           ['conv2_block1_add[0][0]']       \n",
      "                                256)                                                              \n",
      "                                                                                                  \n",
      " conv2_block2_1_conv (Conv2D)   (None, None, None,   16448       ['conv2_block1_out[0][0]']       \n",
      "                                64)                                                               \n",
      "                                                                                                  \n",
      " conv2_block2_1_bn (BatchNormal  (None, None, None,   256        ['conv2_block2_1_conv[0][0]']    \n",
      " ization)                       64)                                                               \n",
      "                                                                                                  \n",
      " conv2_block2_1_relu (Activatio  (None, None, None,   0          ['conv2_block2_1_bn[0][0]']      \n",
      " n)                             64)                                                               \n",
      "                                                                                                  \n",
      " conv2_block2_2_conv (Conv2D)   (None, None, None,   36928       ['conv2_block2_1_relu[0][0]']    \n",
      "                                64)                                                               \n",
      "                                                                                                  \n",
      " conv2_block2_2_bn (BatchNormal  (None, None, None,   256        ['conv2_block2_2_conv[0][0]']    \n",
      " ization)                       64)                                                               \n",
      "                                                                                                  \n",
      " conv2_block2_2_relu (Activatio  (None, None, None,   0          ['conv2_block2_2_bn[0][0]']      \n",
      " n)                             64)                                                               \n",
      "                                                                                                  \n",
      " conv2_block2_3_conv (Conv2D)   (None, None, None,   16640       ['conv2_block2_2_relu[0][0]']    \n",
      "                                256)                                                              \n",
      "                                                                                                  \n",
      " conv2_block2_3_bn (BatchNormal  (None, None, None,   1024       ['conv2_block2_3_conv[0][0]']    \n",
      " ization)                       256)                                                              \n",
      "                                                                                                  \n",
      " conv2_block2_add (Add)         (None, None, None,   0           ['conv2_block1_out[0][0]',       \n",
      "                                256)                              'conv2_block2_3_bn[0][0]']      \n",
      "                                                                                                  \n",
      " conv2_block2_out (Activation)  (None, None, None,   0           ['conv2_block2_add[0][0]']       \n",
      "                                256)                                                              \n",
      "                                                                                                  \n",
      " conv2_block3_1_conv (Conv2D)   (None, None, None,   16448       ['conv2_block2_out[0][0]']       \n",
      "                                64)                                                               \n",
      "                                                                                                  \n",
      " conv2_block3_1_bn (BatchNormal  (None, None, None,   256        ['conv2_block3_1_conv[0][0]']    \n",
      " ization)                       64)                                                               \n",
      "                                                                                                  \n",
      " conv2_block3_1_relu (Activatio  (None, None, None,   0          ['conv2_block3_1_bn[0][0]']      \n",
      " n)                             64)                                                               \n",
      "                                                                                                  \n",
      " conv2_block3_2_conv (Conv2D)   (None, None, None,   36928       ['conv2_block3_1_relu[0][0]']    \n",
      "                                64)                                                               \n",
      "                                                                                                  \n",
      " conv2_block3_2_bn (BatchNormal  (None, None, None,   256        ['conv2_block3_2_conv[0][0]']    \n",
      " ization)                       64)                                                               \n",
      "                                                                                                  \n",
      " conv2_block3_2_relu (Activatio  (None, None, None,   0          ['conv2_block3_2_bn[0][0]']      \n",
      " n)                             64)                                                               \n",
      "                                                                                                  \n",
      " conv2_block3_3_conv (Conv2D)   (None, None, None,   16640       ['conv2_block3_2_relu[0][0]']    \n",
      "                                256)                                                              \n",
      "                                                                                                  \n",
      " conv2_block3_3_bn (BatchNormal  (None, None, None,   1024       ['conv2_block3_3_conv[0][0]']    \n",
      " ization)                       256)                                                              \n",
      "                                                                                                  \n",
      " conv2_block3_add (Add)         (None, None, None,   0           ['conv2_block2_out[0][0]',       \n",
      "                                256)                              'conv2_block3_3_bn[0][0]']      \n",
      "                                                                                                  \n",
      " conv2_block3_out (Activation)  (None, None, None,   0           ['conv2_block3_add[0][0]']       \n",
      "                                256)                                                              \n",
      "                                                                                                  \n",
      " conv3_block1_1_conv (Conv2D)   (None, None, None,   32896       ['conv2_block3_out[0][0]']       \n",
      "                                128)                                                              \n",
      "                                                                                                  \n",
      " conv3_block1_1_bn (BatchNormal  (None, None, None,   512        ['conv3_block1_1_conv[0][0]']    \n",
      " ization)                       128)                                                              \n",
      "                                                                                                  \n",
      " conv3_block1_1_relu (Activatio  (None, None, None,   0          ['conv3_block1_1_bn[0][0]']      \n",
      " n)                             128)                                                              \n",
      "                                                                                                  \n",
      " conv3_block1_2_conv (Conv2D)   (None, None, None,   147584      ['conv3_block1_1_relu[0][0]']    \n",
      "                                128)                                                              \n",
      "                                                                                                  \n",
      " conv3_block1_2_bn (BatchNormal  (None, None, None,   512        ['conv3_block1_2_conv[0][0]']    \n",
      " ization)                       128)                                                              \n",
      "                                                                                                  \n",
      " conv3_block1_2_relu (Activatio  (None, None, None,   0          ['conv3_block1_2_bn[0][0]']      \n",
      " n)                             128)                                                              \n",
      "                                                                                                  \n",
      " conv3_block1_0_conv (Conv2D)   (None, None, None,   131584      ['conv2_block3_out[0][0]']       \n",
      "                                512)                                                              \n",
      "                                                                                                  \n",
      " conv3_block1_3_conv (Conv2D)   (None, None, None,   66048       ['conv3_block1_2_relu[0][0]']    \n",
      "                                512)                                                              \n",
      "                                                                                                  \n",
      " conv3_block1_0_bn (BatchNormal  (None, None, None,   2048       ['conv3_block1_0_conv[0][0]']    \n",
      " ization)                       512)                                                              \n",
      "                                                                                                  \n",
      " conv3_block1_3_bn (BatchNormal  (None, None, None,   2048       ['conv3_block1_3_conv[0][0]']    \n",
      " ization)                       512)                                                              \n",
      "                                                                                                  \n",
      " conv3_block1_add (Add)         (None, None, None,   0           ['conv3_block1_0_bn[0][0]',      \n",
      "                                512)                              'conv3_block1_3_bn[0][0]']      \n",
      "                                                                                                  \n",
      " conv3_block1_out (Activation)  (None, None, None,   0           ['conv3_block1_add[0][0]']       \n",
      "                                512)                                                              \n",
      "                                                                                                  \n",
      " conv3_block2_1_conv (Conv2D)   (None, None, None,   65664       ['conv3_block1_out[0][0]']       \n",
      "                                128)                                                              \n",
      "                                                                                                  \n",
      " conv3_block2_1_bn (BatchNormal  (None, None, None,   512        ['conv3_block2_1_conv[0][0]']    \n",
      " ization)                       128)                                                              \n",
      "                                                                                                  \n",
      " conv3_block2_1_relu (Activatio  (None, None, None,   0          ['conv3_block2_1_bn[0][0]']      \n",
      " n)                             128)                                                              \n",
      "                                                                                                  \n",
      " conv3_block2_2_conv (Conv2D)   (None, None, None,   147584      ['conv3_block2_1_relu[0][0]']    \n",
      "                                128)                                                              \n",
      "                                                                                                  \n",
      " conv3_block2_2_bn (BatchNormal  (None, None, None,   512        ['conv3_block2_2_conv[0][0]']    \n",
      " ization)                       128)                                                              \n",
      "                                                                                                  \n",
      " conv3_block2_2_relu (Activatio  (None, None, None,   0          ['conv3_block2_2_bn[0][0]']      \n",
      " n)                             128)                                                              \n",
      "                                                                                                  \n",
      " conv3_block2_3_conv (Conv2D)   (None, None, None,   66048       ['conv3_block2_2_relu[0][0]']    \n",
      "                                512)                                                              \n",
      "                                                                                                  \n",
      " conv3_block2_3_bn (BatchNormal  (None, None, None,   2048       ['conv3_block2_3_conv[0][0]']    \n",
      " ization)                       512)                                                              \n",
      "                                                                                                  \n",
      " conv3_block2_add (Add)         (None, None, None,   0           ['conv3_block1_out[0][0]',       \n",
      "                                512)                              'conv3_block2_3_bn[0][0]']      \n",
      "                                                                                                  \n",
      " conv3_block2_out (Activation)  (None, None, None,   0           ['conv3_block2_add[0][0]']       \n",
      "                                512)                                                              \n",
      "                                                                                                  \n",
      " conv3_block3_1_conv (Conv2D)   (None, None, None,   65664       ['conv3_block2_out[0][0]']       \n",
      "                                128)                                                              \n",
      "                                                                                                  \n",
      " conv3_block3_1_bn (BatchNormal  (None, None, None,   512        ['conv3_block3_1_conv[0][0]']    \n",
      " ization)                       128)                                                              \n",
      "                                                                                                  \n",
      " conv3_block3_1_relu (Activatio  (None, None, None,   0          ['conv3_block3_1_bn[0][0]']      \n",
      " n)                             128)                                                              \n",
      "                                                                                                  \n",
      " conv3_block3_2_conv (Conv2D)   (None, None, None,   147584      ['conv3_block3_1_relu[0][0]']    \n",
      "                                128)                                                              \n",
      "                                                                                                  \n",
      " conv3_block3_2_bn (BatchNormal  (None, None, None,   512        ['conv3_block3_2_conv[0][0]']    \n",
      " ization)                       128)                                                              \n",
      "                                                                                                  \n",
      " conv3_block3_2_relu (Activatio  (None, None, None,   0          ['conv3_block3_2_bn[0][0]']      \n",
      " n)                             128)                                                              \n",
      "                                                                                                  \n",
      " conv3_block3_3_conv (Conv2D)   (None, None, None,   66048       ['conv3_block3_2_relu[0][0]']    \n",
      "                                512)                                                              \n",
      "                                                                                                  \n",
      " conv3_block3_3_bn (BatchNormal  (None, None, None,   2048       ['conv3_block3_3_conv[0][0]']    \n",
      " ization)                       512)                                                              \n",
      "                                                                                                  \n",
      " conv3_block3_add (Add)         (None, None, None,   0           ['conv3_block2_out[0][0]',       \n",
      "                                512)                              'conv3_block3_3_bn[0][0]']      \n",
      "                                                                                                  \n",
      " conv3_block3_out (Activation)  (None, None, None,   0           ['conv3_block3_add[0][0]']       \n",
      "                                512)                                                              \n",
      "                                                                                                  \n",
      " conv3_block4_1_conv (Conv2D)   (None, None, None,   65664       ['conv3_block3_out[0][0]']       \n",
      "                                128)                                                              \n",
      "                                                                                                  \n",
      " conv3_block4_1_bn (BatchNormal  (None, None, None,   512        ['conv3_block4_1_conv[0][0]']    \n",
      " ization)                       128)                                                              \n",
      "                                                                                                  \n",
      " conv3_block4_1_relu (Activatio  (None, None, None,   0          ['conv3_block4_1_bn[0][0]']      \n",
      " n)                             128)                                                              \n",
      "                                                                                                  \n",
      " conv3_block4_2_conv (Conv2D)   (None, None, None,   147584      ['conv3_block4_1_relu[0][0]']    \n",
      "                                128)                                                              \n",
      "                                                                                                  \n",
      " conv3_block4_2_bn (BatchNormal  (None, None, None,   512        ['conv3_block4_2_conv[0][0]']    \n",
      " ization)                       128)                                                              \n",
      "                                                                                                  \n",
      " conv3_block4_2_relu (Activatio  (None, None, None,   0          ['conv3_block4_2_bn[0][0]']      \n",
      " n)                             128)                                                              \n",
      "                                                                                                  \n",
      " conv3_block4_3_conv (Conv2D)   (None, None, None,   66048       ['conv3_block4_2_relu[0][0]']    \n",
      "                                512)                                                              \n",
      "                                                                                                  \n",
      " conv3_block4_3_bn (BatchNormal  (None, None, None,   2048       ['conv3_block4_3_conv[0][0]']    \n",
      " ization)                       512)                                                              \n",
      "                                                                                                  \n",
      " conv3_block4_add (Add)         (None, None, None,   0           ['conv3_block3_out[0][0]',       \n",
      "                                512)                              'conv3_block4_3_bn[0][0]']      \n",
      "                                                                                                  \n",
      " conv3_block4_out (Activation)  (None, None, None,   0           ['conv3_block4_add[0][0]']       \n",
      "                                512)                                                              \n",
      "                                                                                                  \n",
      " conv4_block1_1_conv (Conv2D)   (None, None, None,   131328      ['conv3_block4_out[0][0]']       \n",
      "                                256)                                                              \n",
      "                                                                                                  \n",
      " conv4_block1_1_bn (BatchNormal  (None, None, None,   1024       ['conv4_block1_1_conv[0][0]']    \n",
      " ization)                       256)                                                              \n",
      "                                                                                                  \n",
      " conv4_block1_1_relu (Activatio  (None, None, None,   0          ['conv4_block1_1_bn[0][0]']      \n",
      " n)                             256)                                                              \n",
      "                                                                                                  \n",
      " conv4_block1_2_conv (Conv2D)   (None, None, None,   590080      ['conv4_block1_1_relu[0][0]']    \n",
      "                                256)                                                              \n",
      "                                                                                                  \n",
      " conv4_block1_2_bn (BatchNormal  (None, None, None,   1024       ['conv4_block1_2_conv[0][0]']    \n",
      " ization)                       256)                                                              \n",
      "                                                                                                  \n",
      " conv4_block1_2_relu (Activatio  (None, None, None,   0          ['conv4_block1_2_bn[0][0]']      \n",
      " n)                             256)                                                              \n",
      "                                                                                                  \n",
      " conv4_block1_0_conv (Conv2D)   (None, None, None,   525312      ['conv3_block4_out[0][0]']       \n",
      "                                1024)                                                             \n",
      "                                                                                                  \n",
      " conv4_block1_3_conv (Conv2D)   (None, None, None,   263168      ['conv4_block1_2_relu[0][0]']    \n",
      "                                1024)                                                             \n",
      "                                                                                                  \n",
      " conv4_block1_0_bn (BatchNormal  (None, None, None,   4096       ['conv4_block1_0_conv[0][0]']    \n",
      " ization)                       1024)                                                             \n",
      "                                                                                                  \n",
      " conv4_block1_3_bn (BatchNormal  (None, None, None,   4096       ['conv4_block1_3_conv[0][0]']    \n",
      " ization)                       1024)                                                             \n",
      "                                                                                                  \n",
      " conv4_block1_add (Add)         (None, None, None,   0           ['conv4_block1_0_bn[0][0]',      \n",
      "                                1024)                             'conv4_block1_3_bn[0][0]']      \n",
      "                                                                                                  \n",
      " conv4_block1_out (Activation)  (None, None, None,   0           ['conv4_block1_add[0][0]']       \n",
      "                                1024)                                                             \n",
      "                                                                                                  \n",
      " conv4_block2_1_conv (Conv2D)   (None, None, None,   262400      ['conv4_block1_out[0][0]']       \n",
      "                                256)                                                              \n",
      "                                                                                                  \n",
      " conv4_block2_1_bn (BatchNormal  (None, None, None,   1024       ['conv4_block2_1_conv[0][0]']    \n",
      " ization)                       256)                                                              \n",
      "                                                                                                  \n",
      " conv4_block2_1_relu (Activatio  (None, None, None,   0          ['conv4_block2_1_bn[0][0]']      \n",
      " n)                             256)                                                              \n",
      "                                                                                                  \n",
      " conv4_block2_2_conv (Conv2D)   (None, None, None,   590080      ['conv4_block2_1_relu[0][0]']    \n",
      "                                256)                                                              \n",
      "                                                                                                  \n",
      " conv4_block2_2_bn (BatchNormal  (None, None, None,   1024       ['conv4_block2_2_conv[0][0]']    \n",
      " ization)                       256)                                                              \n",
      "                                                                                                  \n",
      " conv4_block2_2_relu (Activatio  (None, None, None,   0          ['conv4_block2_2_bn[0][0]']      \n",
      " n)                             256)                                                              \n",
      "                                                                                                  \n",
      " conv4_block2_3_conv (Conv2D)   (None, None, None,   263168      ['conv4_block2_2_relu[0][0]']    \n",
      "                                1024)                                                             \n",
      "                                                                                                  \n",
      " conv4_block2_3_bn (BatchNormal  (None, None, None,   4096       ['conv4_block2_3_conv[0][0]']    \n",
      " ization)                       1024)                                                             \n",
      "                                                                                                  \n",
      " conv4_block2_add (Add)         (None, None, None,   0           ['conv4_block1_out[0][0]',       \n",
      "                                1024)                             'conv4_block2_3_bn[0][0]']      \n",
      "                                                                                                  \n",
      " conv4_block2_out (Activation)  (None, None, None,   0           ['conv4_block2_add[0][0]']       \n",
      "                                1024)                                                             \n",
      "                                                                                                  \n",
      " conv4_block3_1_conv (Conv2D)   (None, None, None,   262400      ['conv4_block2_out[0][0]']       \n",
      "                                256)                                                              \n",
      "                                                                                                  \n",
      " conv4_block3_1_bn (BatchNormal  (None, None, None,   1024       ['conv4_block3_1_conv[0][0]']    \n",
      " ization)                       256)                                                              \n",
      "                                                                                                  \n",
      " conv4_block3_1_relu (Activatio  (None, None, None,   0          ['conv4_block3_1_bn[0][0]']      \n",
      " n)                             256)                                                              \n",
      "                                                                                                  \n",
      " conv4_block3_2_conv (Conv2D)   (None, None, None,   590080      ['conv4_block3_1_relu[0][0]']    \n",
      "                                256)                                                              \n",
      "                                                                                                  \n",
      " conv4_block3_2_bn (BatchNormal  (None, None, None,   1024       ['conv4_block3_2_conv[0][0]']    \n",
      " ization)                       256)                                                              \n",
      "                                                                                                  \n",
      " conv4_block3_2_relu (Activatio  (None, None, None,   0          ['conv4_block3_2_bn[0][0]']      \n",
      " n)                             256)                                                              \n",
      "                                                                                                  \n",
      " conv4_block3_3_conv (Conv2D)   (None, None, None,   263168      ['conv4_block3_2_relu[0][0]']    \n",
      "                                1024)                                                             \n",
      "                                                                                                  \n",
      " conv4_block3_3_bn (BatchNormal  (None, None, None,   4096       ['conv4_block3_3_conv[0][0]']    \n",
      " ization)                       1024)                                                             \n",
      "                                                                                                  \n",
      " conv4_block3_add (Add)         (None, None, None,   0           ['conv4_block2_out[0][0]',       \n",
      "                                1024)                             'conv4_block3_3_bn[0][0]']      \n",
      "                                                                                                  \n",
      " conv4_block3_out (Activation)  (None, None, None,   0           ['conv4_block3_add[0][0]']       \n",
      "                                1024)                                                             \n",
      "                                                                                                  \n",
      " conv4_block4_1_conv (Conv2D)   (None, None, None,   262400      ['conv4_block3_out[0][0]']       \n",
      "                                256)                                                              \n",
      "                                                                                                  \n",
      " conv4_block4_1_bn (BatchNormal  (None, None, None,   1024       ['conv4_block4_1_conv[0][0]']    \n",
      " ization)                       256)                                                              \n",
      "                                                                                                  \n",
      " conv4_block4_1_relu (Activatio  (None, None, None,   0          ['conv4_block4_1_bn[0][0]']      \n",
      " n)                             256)                                                              \n",
      "                                                                                                  \n",
      " conv4_block4_2_conv (Conv2D)   (None, None, None,   590080      ['conv4_block4_1_relu[0][0]']    \n",
      "                                256)                                                              \n",
      "                                                                                                  \n",
      " conv4_block4_2_bn (BatchNormal  (None, None, None,   1024       ['conv4_block4_2_conv[0][0]']    \n",
      " ization)                       256)                                                              \n",
      "                                                                                                  \n",
      " conv4_block4_2_relu (Activatio  (None, None, None,   0          ['conv4_block4_2_bn[0][0]']      \n",
      " n)                             256)                                                              \n",
      "                                                                                                  \n",
      " conv4_block4_3_conv (Conv2D)   (None, None, None,   263168      ['conv4_block4_2_relu[0][0]']    \n",
      "                                1024)                                                             \n",
      "                                                                                                  \n",
      " conv4_block4_3_bn (BatchNormal  (None, None, None,   4096       ['conv4_block4_3_conv[0][0]']    \n",
      " ization)                       1024)                                                             \n",
      "                                                                                                  \n",
      " conv4_block4_add (Add)         (None, None, None,   0           ['conv4_block3_out[0][0]',       \n",
      "                                1024)                             'conv4_block4_3_bn[0][0]']      \n",
      "                                                                                                  \n",
      " conv4_block4_out (Activation)  (None, None, None,   0           ['conv4_block4_add[0][0]']       \n",
      "                                1024)                                                             \n",
      "                                                                                                  \n",
      " conv4_block5_1_conv (Conv2D)   (None, None, None,   262400      ['conv4_block4_out[0][0]']       \n",
      "                                256)                                                              \n",
      "                                                                                                  \n",
      " conv4_block5_1_bn (BatchNormal  (None, None, None,   1024       ['conv4_block5_1_conv[0][0]']    \n",
      " ization)                       256)                                                              \n",
      "                                                                                                  \n",
      " conv4_block5_1_relu (Activatio  (None, None, None,   0          ['conv4_block5_1_bn[0][0]']      \n",
      " n)                             256)                                                              \n",
      "                                                                                                  \n",
      " conv4_block5_2_conv (Conv2D)   (None, None, None,   590080      ['conv4_block5_1_relu[0][0]']    \n",
      "                                256)                                                              \n",
      "                                                                                                  \n",
      " conv4_block5_2_bn (BatchNormal  (None, None, None,   1024       ['conv4_block5_2_conv[0][0]']    \n",
      " ization)                       256)                                                              \n",
      "                                                                                                  \n",
      " conv4_block5_2_relu (Activatio  (None, None, None,   0          ['conv4_block5_2_bn[0][0]']      \n",
      " n)                             256)                                                              \n",
      "                                                                                                  \n",
      " conv4_block5_3_conv (Conv2D)   (None, None, None,   263168      ['conv4_block5_2_relu[0][0]']    \n",
      "                                1024)                                                             \n",
      "                                                                                                  \n",
      " conv4_block5_3_bn (BatchNormal  (None, None, None,   4096       ['conv4_block5_3_conv[0][0]']    \n",
      " ization)                       1024)                                                             \n",
      "                                                                                                  \n",
      " conv4_block5_add (Add)         (None, None, None,   0           ['conv4_block4_out[0][0]',       \n",
      "                                1024)                             'conv4_block5_3_bn[0][0]']      \n",
      "                                                                                                  \n",
      " conv4_block5_out (Activation)  (None, None, None,   0           ['conv4_block5_add[0][0]']       \n",
      "                                1024)                                                             \n",
      "                                                                                                  \n",
      " conv4_block6_1_conv (Conv2D)   (None, None, None,   262400      ['conv4_block5_out[0][0]']       \n",
      "                                256)                                                              \n",
      "                                                                                                  \n",
      " conv4_block6_1_bn (BatchNormal  (None, None, None,   1024       ['conv4_block6_1_conv[0][0]']    \n",
      " ization)                       256)                                                              \n",
      "                                                                                                  \n",
      " conv4_block6_1_relu (Activatio  (None, None, None,   0          ['conv4_block6_1_bn[0][0]']      \n",
      " n)                             256)                                                              \n",
      "                                                                                                  \n",
      " conv4_block6_2_conv (Conv2D)   (None, None, None,   590080      ['conv4_block6_1_relu[0][0]']    \n",
      "                                256)                                                              \n",
      "                                                                                                  \n",
      " conv4_block6_2_bn (BatchNormal  (None, None, None,   1024       ['conv4_block6_2_conv[0][0]']    \n",
      " ization)                       256)                                                              \n",
      "                                                                                                  \n",
      " conv4_block6_2_relu (Activatio  (None, None, None,   0          ['conv4_block6_2_bn[0][0]']      \n",
      " n)                             256)                                                              \n",
      "                                                                                                  \n",
      " conv4_block6_3_conv (Conv2D)   (None, None, None,   263168      ['conv4_block6_2_relu[0][0]']    \n",
      "                                1024)                                                             \n",
      "                                                                                                  \n",
      " conv4_block6_3_bn (BatchNormal  (None, None, None,   4096       ['conv4_block6_3_conv[0][0]']    \n",
      " ization)                       1024)                                                             \n",
      "                                                                                                  \n",
      " conv4_block6_add (Add)         (None, None, None,   0           ['conv4_block5_out[0][0]',       \n",
      "                                1024)                             'conv4_block6_3_bn[0][0]']      \n",
      "                                                                                                  \n",
      " conv4_block6_out (Activation)  (None, None, None,   0           ['conv4_block6_add[0][0]']       \n",
      "                                1024)                                                             \n",
      "                                                                                                  \n",
      " conv5_block1_1_conv (Conv2D)   (None, None, None,   524800      ['conv4_block6_out[0][0]']       \n",
      "                                512)                                                              \n",
      "                                                                                                  \n",
      " conv5_block1_1_bn (BatchNormal  (None, None, None,   2048       ['conv5_block1_1_conv[0][0]']    \n",
      " ization)                       512)                                                              \n",
      "                                                                                                  \n",
      " conv5_block1_1_relu (Activatio  (None, None, None,   0          ['conv5_block1_1_bn[0][0]']      \n",
      " n)                             512)                                                              \n",
      "                                                                                                  \n",
      " conv5_block1_2_conv (Conv2D)   (None, None, None,   2359808     ['conv5_block1_1_relu[0][0]']    \n",
      "                                512)                                                              \n",
      "                                                                                                  \n",
      " conv5_block1_2_bn (BatchNormal  (None, None, None,   2048       ['conv5_block1_2_conv[0][0]']    \n",
      " ization)                       512)                                                              \n",
      "                                                                                                  \n",
      " conv5_block1_2_relu (Activatio  (None, None, None,   0          ['conv5_block1_2_bn[0][0]']      \n",
      " n)                             512)                                                              \n",
      "                                                                                                  \n",
      " conv5_block1_0_conv (Conv2D)   (None, None, None,   2099200     ['conv4_block6_out[0][0]']       \n",
      "                                2048)                                                             \n",
      "                                                                                                  \n",
      " conv5_block1_3_conv (Conv2D)   (None, None, None,   1050624     ['conv5_block1_2_relu[0][0]']    \n",
      "                                2048)                                                             \n",
      "                                                                                                  \n",
      " conv5_block1_0_bn (BatchNormal  (None, None, None,   8192       ['conv5_block1_0_conv[0][0]']    \n",
      " ization)                       2048)                                                             \n",
      "                                                                                                  \n",
      " conv5_block1_3_bn (BatchNormal  (None, None, None,   8192       ['conv5_block1_3_conv[0][0]']    \n",
      " ization)                       2048)                                                             \n",
      "                                                                                                  \n",
      " conv5_block1_add (Add)         (None, None, None,   0           ['conv5_block1_0_bn[0][0]',      \n",
      "                                2048)                             'conv5_block1_3_bn[0][0]']      \n",
      "                                                                                                  \n",
      " conv5_block1_out (Activation)  (None, None, None,   0           ['conv5_block1_add[0][0]']       \n",
      "                                2048)                                                             \n",
      "                                                                                                  \n",
      " conv5_block2_1_conv (Conv2D)   (None, None, None,   1049088     ['conv5_block1_out[0][0]']       \n",
      "                                512)                                                              \n",
      "                                                                                                  \n",
      " conv5_block2_1_bn (BatchNormal  (None, None, None,   2048       ['conv5_block2_1_conv[0][0]']    \n",
      " ization)                       512)                                                              \n",
      "                                                                                                  \n",
      " conv5_block2_1_relu (Activatio  (None, None, None,   0          ['conv5_block2_1_bn[0][0]']      \n",
      " n)                             512)                                                              \n",
      "                                                                                                  \n",
      " conv5_block2_2_conv (Conv2D)   (None, None, None,   2359808     ['conv5_block2_1_relu[0][0]']    \n",
      "                                512)                                                              \n",
      "                                                                                                  \n",
      " conv5_block2_2_bn (BatchNormal  (None, None, None,   2048       ['conv5_block2_2_conv[0][0]']    \n",
      " ization)                       512)                                                              \n",
      "                                                                                                  \n",
      " conv5_block2_2_relu (Activatio  (None, None, None,   0          ['conv5_block2_2_bn[0][0]']      \n",
      " n)                             512)                                                              \n",
      "                                                                                                  \n",
      " conv5_block2_3_conv (Conv2D)   (None, None, None,   1050624     ['conv5_block2_2_relu[0][0]']    \n",
      "                                2048)                                                             \n",
      "                                                                                                  \n",
      " conv5_block2_3_bn (BatchNormal  (None, None, None,   8192       ['conv5_block2_3_conv[0][0]']    \n",
      " ization)                       2048)                                                             \n",
      "                                                                                                  \n",
      " conv5_block2_add (Add)         (None, None, None,   0           ['conv5_block1_out[0][0]',       \n",
      "                                2048)                             'conv5_block2_3_bn[0][0]']      \n",
      "                                                                                                  \n",
      " conv5_block2_out (Activation)  (None, None, None,   0           ['conv5_block2_add[0][0]']       \n",
      "                                2048)                                                             \n",
      "                                                                                                  \n",
      " conv5_block3_1_conv (Conv2D)   (None, None, None,   1049088     ['conv5_block2_out[0][0]']       \n",
      "                                512)                                                              \n",
      "                                                                                                  \n",
      " conv5_block3_1_bn (BatchNormal  (None, None, None,   2048       ['conv5_block3_1_conv[0][0]']    \n",
      " ization)                       512)                                                              \n",
      "                                                                                                  \n",
      " conv5_block3_1_relu (Activatio  (None, None, None,   0          ['conv5_block3_1_bn[0][0]']      \n",
      " n)                             512)                                                              \n",
      "                                                                                                  \n",
      " conv5_block3_2_conv (Conv2D)   (None, None, None,   2359808     ['conv5_block3_1_relu[0][0]']    \n",
      "                                512)                                                              \n",
      "                                                                                                  \n",
      " conv5_block3_2_bn (BatchNormal  (None, None, None,   2048       ['conv5_block3_2_conv[0][0]']    \n",
      " ization)                       512)                                                              \n",
      "                                                                                                  \n",
      " conv5_block3_2_relu (Activatio  (None, None, None,   0          ['conv5_block3_2_bn[0][0]']      \n",
      " n)                             512)                                                              \n",
      "                                                                                                  \n",
      " conv5_block3_3_conv (Conv2D)   (None, None, None,   1050624     ['conv5_block3_2_relu[0][0]']    \n",
      "                                2048)                                                             \n",
      "                                                                                                  \n",
      " conv5_block3_3_bn (BatchNormal  (None, None, None,   8192       ['conv5_block3_3_conv[0][0]']    \n",
      " ization)                       2048)                                                             \n",
      "                                                                                                  \n",
      " conv5_block3_add (Add)         (None, None, None,   0           ['conv5_block2_out[0][0]',       \n",
      "                                2048)                             'conv5_block3_3_bn[0][0]']      \n",
      "                                                                                                  \n",
      " conv5_block3_out (Activation)  (None, None, None,   0           ['conv5_block3_add[0][0]']       \n",
      "                                2048)                                                             \n",
      "                                                                                                  \n",
      "==================================================================================================\n",
      "Total params: 23,587,712\n",
      "Trainable params: 0\n",
      "Non-trainable params: 23,587,712\n",
      "__________________________________________________________________________________________________\n"
     ]
    }
   ],
   "source": [
    "model_n.summary()"
   ]
  },
  {
   "cell_type": "code",
   "execution_count": 30,
   "metadata": {},
   "outputs": [],
   "source": [
    "new_model = Sequential([\n",
    "    layers.RandomRotation(factor=1, input_shape=(im_size[0], im_size[1], 3)),\n",
    "    layers.RandomFlip(mode='horizontal'),\n",
    "    layers.RandomZoom(0.1),\n",
    "    layers.RandomTranslation(height_factor=0.1, width_factor=0.1),\n",
    "    model_n,\n",
    "    layers.Flatten(),\n",
    "    layers.Dense(128, activation='relu'),\n",
    "    layers.Dropout(0.25),\n",
    "    layers.Dense(7, activation='softmax'),\n",
    "])"
   ]
  },
  {
   "cell_type": "code",
   "execution_count": 41,
   "metadata": {},
   "outputs": [
    {
     "name": "stdout",
     "output_type": "stream",
     "text": [
      "Model: \"sequential_5\"\n",
      "_________________________________________________________________\n",
      " Layer (type)                Output Shape              Param #   \n",
      "=================================================================\n",
      " random_rotation_6 (RandomRo  (None, 224, 224, 3)      0         \n",
      " tation)                                                         \n",
      "                                                                 \n",
      " random_flip_6 (RandomFlip)  (None, 224, 224, 3)       0         \n",
      "                                                                 \n",
      " random_zoom_3 (RandomZoom)  (None, 224, 224, 3)       0         \n",
      "                                                                 \n",
      " random_translation_3 (Rando  (None, 224, 224, 3)      0         \n",
      " mTranslation)                                                   \n",
      "                                                                 \n",
      " resnet50 (Functional)       (None, None, None, 2048)  23587712  \n",
      "                                                                 \n",
      " flatten_5 (Flatten)         (None, 100352)            0         \n",
      "                                                                 \n",
      " dense_13 (Dense)            (None, 128)               12845184  \n",
      "                                                                 \n",
      " dropout_8 (Dropout)         (None, 128)               0         \n",
      "                                                                 \n",
      " dense_14 (Dense)            (None, 7)                 903       \n",
      "                                                                 \n",
      "=================================================================\n",
      "Total params: 36,433,799\n",
      "Trainable params: 12,846,087\n",
      "Non-trainable params: 23,587,712\n",
      "_________________________________________________________________\n"
     ]
    }
   ],
   "source": [
    "new_model.summary()"
   ]
  },
  {
   "cell_type": "code",
   "execution_count": 31,
   "metadata": {},
   "outputs": [],
   "source": [
    "new_model.compile(optimizer='adam',\n",
    "              loss='categorical_crossentropy',\n",
    "              metrics=['accuracy'])"
   ]
  },
  {
   "cell_type": "markdown",
   "metadata": {},
   "source": [
    "## preprocessing data"
   ]
  },
  {
   "cell_type": "code",
   "execution_count": 32,
   "metadata": {},
   "outputs": [],
   "source": [
    "train_ds_p = train_ds.map(lambda x,y : (preprocess_input(x), y))\n",
    "val_ds_p = val_ds.map(lambda x,y : (preprocess_input(x), y))"
   ]
  },
  {
   "cell_type": "markdown",
   "metadata": {},
   "source": [
    "## training"
   ]
  },
  {
   "cell_type": "code",
   "execution_count": 36,
   "metadata": {},
   "outputs": [],
   "source": [
    "earlystopping = EarlyStopping(\n",
    "    monitor = 'val_accuracy',\n",
    "    patience = 32,\n",
    "    restore_best_weights = True,\n",
    "    verbose=2\n",
    ")"
   ]
  },
  {
   "cell_type": "code",
   "execution_count": 38,
   "metadata": {},
   "outputs": [
    {
     "name": "stdout",
     "output_type": "stream",
     "text": [
      "Epoch 1/30\n",
      "219/219 [==============================] - 108s 491ms/step - loss: 1.3155 - accuracy: 0.4553 - val_loss: 1.5054 - val_accuracy: 0.4874\n",
      "Epoch 2/30\n",
      "219/219 [==============================] - 108s 489ms/step - loss: 1.2774 - accuracy: 0.4719 - val_loss: 1.6779 - val_accuracy: 0.4731\n",
      "Epoch 3/30\n",
      "219/219 [==============================] - 108s 490ms/step - loss: 1.2606 - accuracy: 0.4844 - val_loss: 1.5550 - val_accuracy: 0.5280\n",
      "Epoch 4/30\n",
      "219/219 [==============================] - 108s 491ms/step - loss: 1.2426 - accuracy: 0.4983 - val_loss: 1.4591 - val_accuracy: 0.4817\n",
      "Epoch 5/30\n",
      "219/219 [==============================] - 108s 492ms/step - loss: 1.2197 - accuracy: 0.5093 - val_loss: 1.4670 - val_accuracy: 0.5629\n",
      "Epoch 6/30\n",
      "219/219 [==============================] - 108s 490ms/step - loss: 1.2009 - accuracy: 0.5111 - val_loss: 1.7255 - val_accuracy: 0.4857\n",
      "Epoch 7/30\n",
      "219/219 [==============================] - 108s 491ms/step - loss: 1.2158 - accuracy: 0.5090 - val_loss: 1.2738 - val_accuracy: 0.5777\n",
      "Epoch 8/30\n",
      "219/219 [==============================] - 108s 491ms/step - loss: 1.1752 - accuracy: 0.5217 - val_loss: 1.3913 - val_accuracy: 0.5937\n",
      "Epoch 9/30\n",
      "219/219 [==============================] - 108s 493ms/step - loss: 1.1859 - accuracy: 0.5220 - val_loss: 1.5259 - val_accuracy: 0.5434\n",
      "Epoch 10/30\n",
      "219/219 [==============================] - 108s 490ms/step - loss: 1.1704 - accuracy: 0.5347 - val_loss: 1.5657 - val_accuracy: 0.5337\n",
      "Epoch 11/30\n",
      "219/219 [==============================] - 108s 489ms/step - loss: 1.1531 - accuracy: 0.5403 - val_loss: 1.4749 - val_accuracy: 0.5726\n",
      "Epoch 12/30\n",
      "219/219 [==============================] - 107s 488ms/step - loss: 1.1425 - accuracy: 0.5460 - val_loss: 1.4759 - val_accuracy: 0.5457\n",
      "Epoch 13/30\n",
      "219/219 [==============================] - 108s 491ms/step - loss: 1.1280 - accuracy: 0.5577 - val_loss: 1.6581 - val_accuracy: 0.5794\n",
      "Epoch 14/30\n",
      "219/219 [==============================] - 108s 489ms/step - loss: 1.1189 - accuracy: 0.5621 - val_loss: 1.5265 - val_accuracy: 0.5617\n",
      "Epoch 15/30\n",
      "219/219 [==============================] - 107s 488ms/step - loss: 1.1243 - accuracy: 0.5536 - val_loss: 1.6851 - val_accuracy: 0.5600\n",
      "Epoch 16/30\n",
      "219/219 [==============================] - 107s 486ms/step - loss: 1.0871 - accuracy: 0.5719 - val_loss: 1.6194 - val_accuracy: 0.5537\n",
      "Epoch 17/30\n",
      "219/219 [==============================] - 112s 509ms/step - loss: 1.1016 - accuracy: 0.5710 - val_loss: 1.7356 - val_accuracy: 0.5623\n",
      "Epoch 18/30\n",
      "219/219 [==============================] - 113s 512ms/step - loss: 1.0988 - accuracy: 0.5723 - val_loss: 1.6062 - val_accuracy: 0.5457\n",
      "Epoch 19/30\n",
      "219/219 [==============================] - 112s 509ms/step - loss: 1.0843 - accuracy: 0.5761 - val_loss: 1.6569 - val_accuracy: 0.5280\n",
      "Epoch 20/30\n",
      "219/219 [==============================] - 112s 509ms/step - loss: 1.0787 - accuracy: 0.5737 - val_loss: 1.9736 - val_accuracy: 0.5080\n",
      "Epoch 21/30\n",
      "219/219 [==============================] - 112s 509ms/step - loss: 1.0752 - accuracy: 0.5814 - val_loss: 1.7102 - val_accuracy: 0.5331\n",
      "Epoch 22/30\n",
      "219/219 [==============================] - 112s 509ms/step - loss: 1.0663 - accuracy: 0.5853 - val_loss: 1.7037 - val_accuracy: 0.5406\n",
      "Epoch 23/30\n",
      "219/219 [==============================] - 111s 503ms/step - loss: 1.0583 - accuracy: 0.5863 - val_loss: 1.6458 - val_accuracy: 0.5651\n",
      "Epoch 24/30\n",
      "219/219 [==============================] - 109s 496ms/step - loss: 1.0575 - accuracy: 0.5860 - val_loss: 1.6549 - val_accuracy: 0.5989\n",
      "Epoch 25/30\n",
      "219/219 [==============================] - 110s 501ms/step - loss: 1.0529 - accuracy: 0.5944 - val_loss: 1.4475 - val_accuracy: 0.6086\n",
      "Epoch 26/30\n",
      "219/219 [==============================] - 112s 509ms/step - loss: 1.0533 - accuracy: 0.5909 - val_loss: 1.6481 - val_accuracy: 0.5629\n",
      "Epoch 27/30\n",
      "219/219 [==============================] - 112s 510ms/step - loss: 1.0502 - accuracy: 0.6006 - val_loss: 1.5661 - val_accuracy: 0.6074\n",
      "Epoch 28/30\n",
      "219/219 [==============================] - 112s 510ms/step - loss: 1.0469 - accuracy: 0.5966 - val_loss: 1.6696 - val_accuracy: 0.5731\n",
      "Epoch 29/30\n",
      "219/219 [==============================] - 112s 509ms/step - loss: 1.0304 - accuracy: 0.6049 - val_loss: 1.6918 - val_accuracy: 0.5817\n",
      "Epoch 30/30\n",
      "219/219 [==============================] - 110s 498ms/step - loss: 1.0333 - accuracy: 0.6091 - val_loss: 1.9544 - val_accuracy: 0.5531\n"
     ]
    }
   ],
   "source": [
    "history = new_model.fit(\n",
    "    train_ds_p,\n",
    "    validation_data=val_ds_p,\n",
    "    epochs=30,\n",
    "    callbacks=earlystopping\n",
    ")"
   ]
  },
  {
   "cell_type": "markdown",
   "metadata": {},
   "source": [
    "## evaluation"
   ]
  },
  {
   "cell_type": "code",
   "execution_count": 39,
   "metadata": {},
   "outputs": [
    {
     "name": "stdout",
     "output_type": "stream",
     "text": [
      "55/55 [==============================] - 6s 100ms/step - loss: 1.9544 - accuracy: 0.5531\n"
     ]
    },
    {
     "data": {
      "text/plain": [
       "[1.9543960094451904, 0.5531428456306458]"
      ]
     },
     "execution_count": 39,
     "metadata": {},
     "output_type": "execute_result"
    }
   ],
   "source": [
    "new_model.evaluate(val_ds_p)"
   ]
  },
  {
   "cell_type": "code",
   "execution_count": 40,
   "metadata": {},
   "outputs": [
    {
     "data": {
      "image/png": "[encoded data removed]",
      "text/plain": [
       "<Figure size 576x576 with 2 Axes>"
      ]
     },
     "metadata": {
      "needs_background": "light"
     },
     "output_type": "display_data"
    }
   ],
   "source": [
    "history_plot(history)"
   ]
  },
  {
   "cell_type": "code",
   "execution_count": 42,
   "metadata": {},
   "outputs": [
    {
     "name": "stdout",
     "output_type": "stream",
     "text": [
      "1/1 [==============================] - 1s 848ms/step\n",
      "1/1 [==============================] - 0s 63ms/step\n",
      "1/1 [==============================] - 0s 83ms/step\n",
      "1/1 [==============================] - 0s 63ms/step\n",
      "1/1 [==============================] - 0s 64ms/step\n",
      "1/1 [==============================] - 0s 41ms/step\n",
      "1/1 [==============================] - 0s 44ms/step\n",
      "1/1 [==============================] - 0s 52ms/step\n",
      "1/1 [==============================] - 0s 28ms/step\n",
      "1/1 [==============================] - 0s 26ms/step\n",
      "1/1 [==============================] - 0s 44ms/step\n",
      "1/1 [==============================] - 0s 53ms/step\n",
      "1/1 [==============================] - 0s 39ms/step\n",
      "1/1 [==============================] - 0s 52ms/step\n",
      "1/1 [==============================] - 0s 48ms/step\n",
      "1/1 [==============================] - 0s 62ms/step\n",
      "1/1 [==============================] - 0s 30ms/step\n",
      "1/1 [==============================] - 0s 61ms/step\n",
      "1/1 [==============================] - 0s 56ms/step\n",
      "1/1 [==============================] - 0s 55ms/step\n",
      "1/1 [==============================] - 0s 37ms/step\n",
      "1/1 [==============================] - 0s 35ms/step\n",
      "1/1 [==============================] - 0s 40ms/step\n",
      "1/1 [==============================] - 0s 63ms/step\n",
      "1/1 [==============================] - 0s 60ms/step\n",
      "1/1 [==============================] - 0s 30ms/step\n",
      "1/1 [==============================] - 0s 36ms/step\n",
      "1/1 [==============================] - 0s 29ms/step\n",
      "1/1 [==============================] - 0s 49ms/step\n",
      "1/1 [==============================] - 0s 51ms/step\n",
      "1/1 [==============================] - 0s 51ms/step\n",
      "1/1 [==============================] - 0s 51ms/step\n",
      "1/1 [==============================] - 0s 54ms/step\n",
      "1/1 [==============================] - 0s 51ms/step\n",
      "1/1 [==============================] - 0s 33ms/step\n",
      "1/1 [==============================] - 0s 52ms/step\n",
      "1/1 [==============================] - 0s 50ms/step\n",
      "1/1 [==============================] - 0s 67ms/step\n",
      "1/1 [==============================] - 0s 28ms/step\n",
      "1/1 [==============================] - 0s 62ms/step\n",
      "1/1 [==============================] - 0s 60ms/step\n",
      "1/1 [==============================] - 0s 36ms/step\n",
      "1/1 [==============================] - 0s 27ms/step\n",
      "1/1 [==============================] - 0s 28ms/step\n",
      "1/1 [==============================] - 0s 28ms/step\n",
      "1/1 [==============================] - 0s 28ms/step\n",
      "1/1 [==============================] - 0s 27ms/step\n",
      "1/1 [==============================] - 0s 29ms/step\n",
      "1/1 [==============================] - 0s 29ms/step\n",
      "1/1 [==============================] - 0s 27ms/step\n",
      "1/1 [==============================] - 0s 26ms/step\n",
      "1/1 [==============================] - 0s 28ms/step\n",
      "1/1 [==============================] - 0s 31ms/step\n",
      "1/1 [==============================] - 0s 28ms/step\n",
      "1/1 [==============================] - 1s 774ms/step\n"
     ]
    }
   ],
   "source": [
    "y_true = []\n",
    "y_pred = []\n",
    "for images, labels in val_ds_p:\n",
    "    y_true.append(np.argmax(labels, axis=1)) \n",
    "    y_pred.append(np.argmax(new_model.predict(images), axis=1))\n",
    "y_true = np.hstack(y_true) \n",
    "y_pred = np.hstack(y_pred) "
   ]
  },
  {
   "cell_type": "code",
   "execution_count": 44,
   "metadata": {},
   "outputs": [
    {
     "name": "stdout",
     "output_type": "stream",
     "text": [
      "              precision    recall  f1-score   support\n",
      "\n",
      "           0       0.53      0.48      0.50       250\n",
      "           1       0.77      0.47      0.59       250\n",
      "           2       0.38      0.72      0.50       250\n",
      "           3       0.86      0.56      0.67       250\n",
      "           4       0.40      0.52      0.45       250\n",
      "           5       0.54      0.59      0.56       250\n",
      "           6       0.99      0.54      0.70       250\n",
      "\n",
      "    accuracy                           0.55      1750\n",
      "   macro avg       0.64      0.55      0.57      1750\n",
      "weighted avg       0.64      0.55      0.57      1750\n",
      "\n"
     ]
    },
    {
     "data": {
      "text/plain": [
       "array([[119,   0,  98,   9,  12,  12,   0],\n",
       "       [ 62, 118,  43,   5,  20,   2,   0],\n",
       "       [ 13,   1, 179,   0,  48,   9,   0],\n",
       "       [ 24,  13,  24, 139,  37,  13,   0],\n",
       "       [  6,   6,  96,   6, 131,   5,   0],\n",
       "       [  0,   5,  23,   3,  71, 147,   1],\n",
       "       [  0,  10,  10,   0,  10,  85, 135]], dtype=int64)"
      ]
     },
     "execution_count": 44,
     "metadata": {},
     "output_type": "execute_result"
    }
   ],
   "source": [
    "print(classification_report(y_true, y_pred))\n",
    "conf = confusion_matrix(y_true, y_pred)\n",
    "conf"
   ]
  },
  {
   "cell_type": "code",
   "execution_count": 114,
   "metadata": {},
   "outputs": [],
   "source": [
    "for l in new_model.layers[1].layers:\n",
    "    l.trainable=True"
   ]
  },
  {
   "cell_type": "code",
   "execution_count": 115,
   "metadata": {},
   "outputs": [
    {
     "name": "stdout",
     "output_type": "stream",
     "text": [
      "Model: \"sequential_12\"\n",
      "_________________________________________________________________\n",
      " Layer (type)                Output Shape              Param #   \n",
      "=================================================================\n",
      " random_rotation_12 (RandomR  (None, 224, 224, 3)      0         \n",
      " otation)                                                        \n",
      "                                                                 \n",
      " resnet50 (Functional)       (None, None, None, 2048)  23587712  \n",
      "                                                                 \n",
      " flatten_12 (Flatten)        (None, 100352)            0         \n",
      "                                                                 \n",
      " dense_24 (Dense)            (None, 128)               12845184  \n",
      "                                                                 \n",
      " dropout_47 (Dropout)        (None, 128)               0         \n",
      "                                                                 \n",
      " dense_25 (Dense)            (None, 7)                 903       \n",
      "                                                                 \n",
      "=================================================================\n",
      "Total params: 36,433,799\n",
      "Trainable params: 36,380,679\n",
      "Non-trainable params: 53,120\n",
      "_________________________________________________________________\n"
     ]
    }
   ],
   "source": [
    "new_model.summary()"
   ]
  },
  {
   "cell_type": "code",
   "execution_count": 116,
   "metadata": {},
   "outputs": [
    {
     "name": "stdout",
     "output_type": "stream",
     "text": [
      "Epoch 1/50\n",
      "219/219 [==============================] - 36s 163ms/step - loss: 0.9765 - accuracy: 0.6341 - val_loss: 1.3170 - val_accuracy: 0.5680\n",
      "Epoch 2/50\n",
      "219/219 [==============================] - 39s 175ms/step - loss: 0.9233 - accuracy: 0.6427 - val_loss: 1.1933 - val_accuracy: 0.5880\n",
      "Epoch 3/50\n",
      "219/219 [==============================] - 38s 169ms/step - loss: 0.8394 - accuracy: 0.6726 - val_loss: 1.1229 - val_accuracy: 0.6491\n",
      "Epoch 4/50\n",
      "219/219 [==============================] - 37s 167ms/step - loss: 0.7999 - accuracy: 0.6917 - val_loss: 1.3438 - val_accuracy: 0.6194\n",
      "Epoch 5/50\n",
      "219/219 [==============================] - 37s 168ms/step - loss: 0.7731 - accuracy: 0.6929 - val_loss: 1.5319 - val_accuracy: 0.6040\n",
      "Epoch 6/50\n",
      "219/219 [==============================] - 37s 167ms/step - loss: 0.7747 - accuracy: 0.6950 - val_loss: 1.2980 - val_accuracy: 0.5966\n",
      "Epoch 7/50\n",
      "219/219 [==============================] - 37s 166ms/step - loss: 0.7407 - accuracy: 0.7023 - val_loss: 1.3382 - val_accuracy: 0.6451\n",
      "Epoch 8/50\n",
      "219/219 [==============================] - 37s 168ms/step - loss: 0.7329 - accuracy: 0.7116 - val_loss: 1.1112 - val_accuracy: 0.6629\n",
      "Epoch 9/50\n",
      "219/219 [==============================] - 37s 168ms/step - loss: 0.7035 - accuracy: 0.7181 - val_loss: 1.2619 - val_accuracy: 0.6623\n",
      "Epoch 10/50\n",
      "219/219 [==============================] - 37s 168ms/step - loss: 0.7348 - accuracy: 0.7050 - val_loss: 1.4852 - val_accuracy: 0.6377\n",
      "Epoch 11/50\n",
      "219/219 [==============================] - 37s 166ms/step - loss: 0.7099 - accuracy: 0.7210 - val_loss: 1.5761 - val_accuracy: 0.6703\n",
      "Epoch 12/50\n",
      "219/219 [==============================] - 36s 164ms/step - loss: 0.6880 - accuracy: 0.7251 - val_loss: 1.3864 - val_accuracy: 0.6303\n",
      "Epoch 13/50\n",
      "219/219 [==============================] - 36s 163ms/step - loss: 0.6823 - accuracy: 0.7317 - val_loss: 1.2923 - val_accuracy: 0.6371\n",
      "Epoch 14/50\n",
      "219/219 [==============================] - 39s 174ms/step - loss: 0.6943 - accuracy: 0.7249 - val_loss: 1.1475 - val_accuracy: 0.6206\n",
      "Epoch 15/50\n",
      "219/219 [==============================] - 40s 181ms/step - loss: 0.6787 - accuracy: 0.7330 - val_loss: 1.1830 - val_accuracy: 0.6457\n",
      "Epoch 16/50\n",
      "219/219 [==============================] - 40s 180ms/step - loss: 0.6661 - accuracy: 0.7360 - val_loss: 1.3485 - val_accuracy: 0.6737\n",
      "Epoch 17/50\n",
      "219/219 [==============================] - 40s 180ms/step - loss: 0.6613 - accuracy: 0.7374 - val_loss: 1.6518 - val_accuracy: 0.6034\n",
      "Epoch 18/50\n",
      "219/219 [==============================] - 40s 180ms/step - loss: 0.6533 - accuracy: 0.7396 - val_loss: 1.5752 - val_accuracy: 0.6194\n",
      "Epoch 19/50\n",
      "219/219 [==============================] - 40s 180ms/step - loss: 0.6373 - accuracy: 0.7480 - val_loss: 1.6643 - val_accuracy: 0.6326\n",
      "Epoch 20/50\n",
      "219/219 [==============================] - 40s 181ms/step - loss: 0.6454 - accuracy: 0.7334 - val_loss: 1.4473 - val_accuracy: 0.6463\n",
      "Epoch 21/50\n",
      "219/219 [==============================] - 40s 182ms/step - loss: 0.6336 - accuracy: 0.7520 - val_loss: 1.2342 - val_accuracy: 0.6583\n",
      "Epoch 22/50\n",
      "219/219 [==============================] - 40s 181ms/step - loss: 0.6583 - accuracy: 0.7334 - val_loss: 1.2802 - val_accuracy: 0.6863\n",
      "Epoch 23/50\n",
      "219/219 [==============================] - 40s 180ms/step - loss: 0.5991 - accuracy: 0.7544 - val_loss: 2.0606 - val_accuracy: 0.5983\n",
      "Epoch 24/50\n",
      "219/219 [==============================] - 40s 180ms/step - loss: 0.6341 - accuracy: 0.7461 - val_loss: 1.7994 - val_accuracy: 0.6297\n",
      "Epoch 25/50\n",
      "219/219 [==============================] - 40s 181ms/step - loss: 0.5911 - accuracy: 0.7511 - val_loss: 1.5400 - val_accuracy: 0.6417\n",
      "Epoch 26/50\n",
      "219/219 [==============================] - 40s 181ms/step - loss: 0.6070 - accuracy: 0.7553 - val_loss: 1.3128 - val_accuracy: 0.6474\n",
      "Epoch 27/50\n",
      "219/219 [==============================] - 40s 179ms/step - loss: 0.6089 - accuracy: 0.7634 - val_loss: 1.2383 - val_accuracy: 0.6474\n",
      "Epoch 28/50\n",
      "219/219 [==============================] - 40s 178ms/step - loss: 0.6206 - accuracy: 0.7501 - val_loss: 1.6027 - val_accuracy: 0.6623\n",
      "Epoch 29/50\n",
      "219/219 [==============================] - 40s 181ms/step - loss: 0.6141 - accuracy: 0.7536 - val_loss: 1.6279 - val_accuracy: 0.6400\n",
      "Epoch 30/50\n",
      "219/219 [==============================] - 40s 181ms/step - loss: 0.5914 - accuracy: 0.7614 - val_loss: 1.3145 - val_accuracy: 0.6520\n",
      "Epoch 31/50\n",
      "219/219 [==============================] - 41s 182ms/step - loss: 0.5929 - accuracy: 0.7591 - val_loss: 1.5058 - val_accuracy: 0.6577\n",
      "Epoch 32/50\n",
      "219/219 [==============================] - 40s 180ms/step - loss: 0.5930 - accuracy: 0.7619 - val_loss: 1.5663 - val_accuracy: 0.5977\n",
      "Epoch 33/50\n",
      "219/219 [==============================] - 40s 181ms/step - loss: 0.5675 - accuracy: 0.7689 - val_loss: 1.3643 - val_accuracy: 0.6320\n",
      "Epoch 34/50\n",
      "219/219 [==============================] - 40s 180ms/step - loss: 0.5821 - accuracy: 0.7657 - val_loss: 1.4925 - val_accuracy: 0.6429\n",
      "Epoch 35/50\n",
      "219/219 [==============================] - 40s 180ms/step - loss: 0.5830 - accuracy: 0.7660 - val_loss: 1.8989 - val_accuracy: 0.6274\n",
      "Epoch 36/50\n",
      "219/219 [==============================] - 40s 180ms/step - loss: 0.5909 - accuracy: 0.7656 - val_loss: 1.6831 - val_accuracy: 0.6377\n",
      "Epoch 37/50\n",
      "219/219 [==============================] - 40s 180ms/step - loss: 0.5562 - accuracy: 0.7739 - val_loss: 1.7346 - val_accuracy: 0.6469\n",
      "Epoch 38/50\n",
      "219/219 [==============================] - 40s 181ms/step - loss: 0.5596 - accuracy: 0.7729 - val_loss: 1.8166 - val_accuracy: 0.5994\n",
      "Epoch 39/50\n",
      "219/219 [==============================] - 40s 180ms/step - loss: 0.5553 - accuracy: 0.7711 - val_loss: 1.9015 - val_accuracy: 0.6560\n",
      "Epoch 40/50\n",
      "219/219 [==============================] - ETA: 0s - loss: 0.5736 - accuracy: 0.7657Restoring model weights from the end of the best epoch: 8.\n",
      "219/219 [==============================] - 41s 186ms/step - loss: 0.5736 - accuracy: 0.7657 - val_loss: 1.8873 - val_accuracy: 0.6194\n",
      "Epoch 40: early stopping\n"
     ]
    }
   ],
   "source": [
    "history = new_model.fit(\n",
    "    train_ds_p,\n",
    "    validation_data=val_ds_p,\n",
    "    epochs=50,\n",
    "    callbacks=earlystopping\n",
    ")"
   ]
  },
  {
   "cell_type": "code",
   "execution_count": 117,
   "metadata": {},
   "outputs": [
    {
     "data": {
      "image/png": "[encoded data removed]",
      "text/plain": [
       "<Figure size 576x576 with 2 Axes>"
      ]
     },
     "metadata": {
      "needs_background": "light"
     },
     "output_type": "display_data"
    }
   ],
   "source": [
    "history_plot(history)"
   ]
  },
  {
   "cell_type": "code",
   "execution_count": 119,
   "metadata": {},
   "outputs": [
    {
     "name": "stdout",
     "output_type": "stream",
     "text": [
      "1/1 [==============================] - 0s 72ms/step\n",
      "1/1 [==============================] - 0s 50ms/step\n",
      "1/1 [==============================] - 0s 66ms/step\n",
      "1/1 [==============================] - 0s 134ms/step\n",
      "1/1 [==============================] - 0s 52ms/step\n",
      "1/1 [==============================] - 0s 62ms/step\n",
      "1/1 [==============================] - 0s 77ms/step\n",
      "1/1 [==============================] - 0s 44ms/step\n",
      "1/1 [==============================] - 0s 59ms/step\n",
      "1/1 [==============================] - 0s 51ms/step\n",
      "1/1 [==============================] - 0s 48ms/step\n",
      "1/1 [==============================] - 0s 39ms/step\n",
      "1/1 [==============================] - 0s 49ms/step\n",
      "1/1 [==============================] - 0s 35ms/step\n",
      "1/1 [==============================] - 0s 35ms/step\n",
      "1/1 [==============================] - 0s 68ms/step\n",
      "1/1 [==============================] - 0s 70ms/step\n",
      "1/1 [==============================] - 0s 47ms/step\n",
      "1/1 [==============================] - 0s 51ms/step\n",
      "1/1 [==============================] - 0s 45ms/step\n",
      "1/1 [==============================] - 0s 36ms/step\n",
      "1/1 [==============================] - 0s 61ms/step\n",
      "1/1 [==============================] - 0s 46ms/step\n",
      "1/1 [==============================] - 0s 80ms/step\n",
      "1/1 [==============================] - 0s 67ms/step\n",
      "1/1 [==============================] - 0s 67ms/step\n",
      "1/1 [==============================] - 0s 45ms/step\n",
      "1/1 [==============================] - 0s 58ms/step\n",
      "1/1 [==============================] - 0s 32ms/step\n",
      "1/1 [==============================] - 0s 42ms/step\n",
      "1/1 [==============================] - 0s 51ms/step\n",
      "1/1 [==============================] - 0s 31ms/step\n",
      "1/1 [==============================] - 0s 46ms/step\n",
      "1/1 [==============================] - 0s 52ms/step\n",
      "1/1 [==============================] - 0s 60ms/step\n",
      "1/1 [==============================] - 0s 51ms/step\n",
      "1/1 [==============================] - 0s 53ms/step\n",
      "1/1 [==============================] - 0s 42ms/step\n",
      "1/1 [==============================] - 0s 55ms/step\n",
      "1/1 [==============================] - 0s 62ms/step\n",
      "1/1 [==============================] - 0s 43ms/step\n",
      "1/1 [==============================] - 0s 33ms/step\n",
      "1/1 [==============================] - 0s 29ms/step\n",
      "1/1 [==============================] - 0s 28ms/step\n",
      "1/1 [==============================] - 0s 49ms/step\n",
      "1/1 [==============================] - 0s 37ms/step\n",
      "1/1 [==============================] - 0s 42ms/step\n",
      "1/1 [==============================] - 0s 29ms/step\n",
      "1/1 [==============================] - 0s 37ms/step\n",
      "1/1 [==============================] - 0s 34ms/step\n",
      "1/1 [==============================] - 0s 32ms/step\n",
      "1/1 [==============================] - 0s 32ms/step\n",
      "1/1 [==============================] - 0s 35ms/step\n",
      "1/1 [==============================] - 0s 29ms/step\n",
      "1/1 [==============================] - 0s 28ms/step\n"
     ]
    }
   ],
   "source": [
    "y_true = []\n",
    "y_pred = []\n",
    "for images, labels in val_ds_p:\n",
    "    y_true.append(np.argmax(labels, axis=1)) \n",
    "    y_pred.append(np.argmax(new_model.predict(images), axis=1))\n",
    "y_true = np.hstack(y_true) \n",
    "y_pred = np.hstack(y_pred) "
   ]
  },
  {
   "cell_type": "code",
   "execution_count": 120,
   "metadata": {},
   "outputs": [
    {
     "name": "stdout",
     "output_type": "stream",
     "text": [
      "              precision    recall  f1-score   support\n",
      "\n",
      "           0       0.69      0.51      0.59       250\n",
      "           1       0.56      0.76      0.65       250\n",
      "           2       0.72      0.52      0.61       250\n",
      "           3       0.94      0.80      0.87       250\n",
      "           4       0.43      0.72      0.54       250\n",
      "           5       0.70      0.68      0.69       250\n",
      "           6       0.95      0.65      0.77       250\n",
      "\n",
      "    accuracy                           0.66      1750\n",
      "   macro avg       0.71      0.66      0.67      1750\n",
      "weighted avg       0.71      0.66      0.67      1750\n",
      "\n"
     ]
    },
    {
     "data": {
      "text/plain": [
       "array([[127,  41,  23,   0,  55,   4,   0],\n",
       "       [ 24, 190,   6,   6,  21,   0,   3],\n",
       "       [ 17,  20, 131,   3,  68,   9,   2],\n",
       "       [  0,  24,   0, 201,  25,   0,   0],\n",
       "       [  5,  24,  17,   3, 179,  20,   2],\n",
       "       [  0,  11,   6,   1,  61, 170,   1],\n",
       "       [ 10,  29,   0,   0,  10,  39, 162]], dtype=int64)"
      ]
     },
     "execution_count": 120,
     "metadata": {},
     "output_type": "execute_result"
    }
   ],
   "source": [
    "print(classification_report(y_true, y_pred))\n",
    "conf = confusion_matrix(y_true, y_pred)\n",
    "conf"
   ]
  },
  {
   "cell_type": "code",
   "execution_count": 45,
   "metadata": {},
   "outputs": [
    {
     "name": "stdout",
     "output_type": "stream",
     "text": [
      "WARNING:tensorflow:Using a while_loop for converting RngReadAndSkip\n",
      "WARNING:tensorflow:Using a while_loop for converting Bitcast\n",
      "WARNING:tensorflow:Using a while_loop for converting Bitcast\n",
      "WARNING:tensorflow:Using a while_loop for converting StatelessRandomUniformV2\n",
      "WARNING:tensorflow:Using a while_loop for converting RngReadAndSkip\n",
      "WARNING:tensorflow:Using a while_loop for converting Bitcast\n",
      "WARNING:tensorflow:Using a while_loop for converting Bitcast\n",
      "WARNING:tensorflow:Using a while_loop for converting StatelessRandomUniformV2\n",
      "WARNING:tensorflow:Using a while_loop for converting ImageProjectiveTransformV3\n",
      "WARNING:tensorflow:Using a while_loop for converting RngReadAndSkip\n",
      "WARNING:tensorflow:Using a while_loop for converting Bitcast\n",
      "WARNING:tensorflow:Using a while_loop for converting Bitcast\n",
      "WARNING:tensorflow:Using a while_loop for converting StatelessRandomUniformV2\n",
      "WARNING:tensorflow:Using a while_loop for converting RngReadAndSkip\n",
      "WARNING:tensorflow:Using a while_loop for converting Bitcast\n",
      "WARNING:tensorflow:Using a while_loop for converting Bitcast\n",
      "WARNING:tensorflow:Using a while_loop for converting StatelessRandomUniformV2\n",
      "WARNING:tensorflow:Using a while_loop for converting ImageProjectiveTransformV3\n",
      "WARNING:tensorflow:Using a while_loop for converting RngReadAndSkip\n",
      "WARNING:tensorflow:Using a while_loop for converting Bitcast\n",
      "WARNING:tensorflow:Using a while_loop for converting Bitcast\n",
      "WARNING:tensorflow:Using a while_loop for converting StatelessRandomUniformV2\n",
      "WARNING:tensorflow:Using a while_loop for converting RngReadAndSkip\n",
      "WARNING:tensorflow:Using a while_loop for converting Bitcast\n",
      "WARNING:tensorflow:Using a while_loop for converting Bitcast\n",
      "WARNING:tensorflow:Using a while_loop for converting StatelessRandomUniformV2\n",
      "WARNING:tensorflow:Using a while_loop for converting ImageProjectiveTransformV3\n"
     ]
    },
    {
     "name": "stderr",
     "output_type": "stream",
     "text": [
      "WARNING:absl:Found untraced functions such as _jit_compiled_convolution_op, _jit_compiled_convolution_op, _jit_compiled_convolution_op, _jit_compiled_convolution_op, _jit_compiled_convolution_op while saving (showing 5 of 53). These functions will not be directly callable after loading.\n"
     ]
    },
    {
     "name": "stdout",
     "output_type": "stream",
     "text": [
      "INFO:tensorflow:Assets written to: ./models/transfer_model\\assets\n"
     ]
    },
    {
     "name": "stderr",
     "output_type": "stream",
     "text": [
      "INFO:tensorflow:Assets written to: ./models/transfer_model\\assets\n"
     ]
    }
   ],
   "source": [
    "new_model.save('./models/transfer_model')"
   ]
  },
  {
   "cell_type": "code",
   "execution_count": 124,
   "metadata": {},
   "outputs": [],
   "source": [
    "test_ds_p = test_ds.map(lambda x,y : (preprocess_input(x), y))"
   ]
  },
  {
   "cell_type": "code",
   "execution_count": 126,
   "metadata": {},
   "outputs": [
    {
     "name": "stdout",
     "output_type": "stream",
     "text": [
      "55/55 [==============================] - 8s 129ms/step - loss: 1.1112 - accuracy: 0.6629\n"
     ]
    },
    {
     "data": {
      "text/plain": [
       "[1.1111738681793213, 0.6628571152687073]"
      ]
     },
     "execution_count": 126,
     "metadata": {},
     "output_type": "execute_result"
    }
   ],
   "source": [
    "new_model.evaluate(val_ds_p)"
   ]
  },
  {
   "cell_type": "code",
   "execution_count": 127,
   "metadata": {},
   "outputs": [
    {
     "name": "stdout",
     "output_type": "stream",
     "text": [
      "32/32 [==============================] - 5s 123ms/step - loss: 0.9444 - accuracy: 0.6038\n"
     ]
    },
    {
     "data": {
      "text/plain": [
       "[0.9443709850311279, 0.6037924289703369]"
      ]
     },
     "execution_count": 127,
     "metadata": {},
     "output_type": "execute_result"
    }
   ],
   "source": [
    "new_model.evaluate(test_ds_p)"
   ]
  },
  {
   "cell_type": "markdown",
   "metadata": {},
   "source": [
    "# AlexNet"
   ]
  },
  {
   "cell_type": "markdown",
   "metadata": {},
   "source": [
    "We create a model based on the architecture of AlexNet."
   ]
  },
  {
   "cell_type": "code",
   "execution_count": 30,
   "metadata": {},
   "outputs": [],
   "source": [
    "alexnet = Sequential([\n",
    "    layers.RandomRotation(factor=1, input_shape=(im_size[0], im_size[1], 3)),\n",
    "    layers.RandomFlip(mode='horizontal'),\n",
    "    layers.RandomZoom(0.1),\n",
    "    layers.RandomTranslation(height_factor=0.1, width_factor=0.1),\n",
    "    layers.Conv2D(96, kernel_size=(11, 11), strides=(4,4)),\n",
    "    layers.BatchNormalization(),\n",
    "    layers.MaxPool2D((3,3), strides=2),\n",
    "    layers.Conv2D(128, kernel_size=(5, 5), padding = 'same'),\n",
    "    layers.BatchNormalization(),\n",
    "    layers.MaxPool2D((3,3), strides=2),\n",
    "    layers.Conv2D(384, kernel_size=(3, 3), padding = 'same', activation='relu'),\n",
    "    layers.Conv2D(384, kernel_size=(3, 3), padding = 'same', activation='relu'),\n",
    "    layers.Conv2D(128, kernel_size=(3, 3), padding = 'same'),\n",
    "    layers.BatchNormalization(),\n",
    "    layers.MaxPool2D((3,3), strides=2),\n",
    "    layers.Flatten(),\n",
    "    layers.Dense(128, activation='relu'),\n",
    "    layers.Dropout(0.5),\n",
    "    layers.Dense(128, activation='relu'),\n",
    "    layers.Dropout(0.5),\n",
    "    layers.Dense(7, activation='softmax')\n",
    "])"
   ]
  },
  {
   "cell_type": "code",
   "execution_count": 31,
   "metadata": {},
   "outputs": [
    {
     "name": "stdout",
     "output_type": "stream",
     "text": [
      "Model: \"sequential_3\"\n",
      "_________________________________________________________________\n",
      " Layer (type)                Output Shape              Param #   \n",
      "=================================================================\n",
      " random_rotation_3 (RandomRo  (None, 224, 224, 3)      0         \n",
      " tation)                                                         \n",
      "                                                                 \n",
      " random_flip_3 (RandomFlip)  (None, 224, 224, 3)       0         \n",
      "                                                                 \n",
      " random_zoom_3 (RandomZoom)  (None, 224, 224, 3)       0         \n",
      "                                                                 \n",
      " random_translation_2 (Rando  (None, 224, 224, 3)      0         \n",
      " mTranslation)                                                   \n",
      "                                                                 \n",
      " conv2d_15 (Conv2D)          (None, 54, 54, 96)        34944     \n",
      "                                                                 \n",
      " batch_normalization_9 (Batc  (None, 54, 54, 96)       384       \n",
      " hNormalization)                                                 \n",
      "                                                                 \n",
      " max_pooling2d_9 (MaxPooling  (None, 26, 26, 96)       0         \n",
      " 2D)                                                             \n",
      "                                                                 \n",
      " conv2d_16 (Conv2D)          (None, 26, 26, 128)       307328    \n",
      "                                                                 \n",
      " batch_normalization_10 (Bat  (None, 26, 26, 128)      512       \n",
      " chNormalization)                                                \n",
      "                                                                 \n",
      " max_pooling2d_10 (MaxPoolin  (None, 12, 12, 128)      0         \n",
      " g2D)                                                            \n",
      "                                                                 \n",
      " conv2d_17 (Conv2D)          (None, 12, 12, 384)       442752    \n",
      "                                                                 \n",
      " conv2d_18 (Conv2D)          (None, 12, 12, 384)       1327488   \n",
      "                                                                 \n",
      " conv2d_19 (Conv2D)          (None, 12, 12, 128)       442496    \n",
      "                                                                 \n",
      " batch_normalization_11 (Bat  (None, 12, 12, 128)      512       \n",
      " chNormalization)                                                \n",
      "                                                                 \n",
      " max_pooling2d_11 (MaxPoolin  (None, 5, 5, 128)        0         \n",
      " g2D)                                                            \n",
      "                                                                 \n",
      " flatten_3 (Flatten)         (None, 3200)              0         \n",
      "                                                                 \n",
      " dense_9 (Dense)             (None, 128)               409728    \n",
      "                                                                 \n",
      " dropout_6 (Dropout)         (None, 128)               0         \n",
      "                                                                 \n",
      " dense_10 (Dense)            (None, 128)               16512     \n",
      "                                                                 \n",
      " dropout_7 (Dropout)         (None, 128)               0         \n",
      "                                                                 \n",
      " dense_11 (Dense)            (None, 7)                 903       \n",
      "                                                                 \n",
      "=================================================================\n",
      "Total params: 2,983,559\n",
      "Trainable params: 2,982,855\n",
      "Non-trainable params: 704\n",
      "_________________________________________________________________\n"
     ]
    }
   ],
   "source": [
    "alexnet.summary()"
   ]
  },
  {
   "cell_type": "code",
   "execution_count": 32,
   "metadata": {},
   "outputs": [],
   "source": [
    "alexnet.compile(optimizer='adam',\n",
    "              loss='categorical_crossentropy',\n",
    "              metrics=['accuracy'])"
   ]
  },
  {
   "cell_type": "code",
   "execution_count": 33,
   "metadata": {},
   "outputs": [],
   "source": [
    "early = keras.callbacks.EarlyStopping(\n",
    "    monitor=\"val_accuracy\",\n",
    "    min_delta=0,\n",
    "    patience=8,\n",
    "    verbose=2,\n",
    "    mode=\"max\",\n",
    "    baseline=None,\n",
    "    restore_best_weights=True,\n",
    ")\n"
   ]
  },
  {
   "cell_type": "code",
   "execution_count": 39,
   "metadata": {},
   "outputs": [
    {
     "name": "stdout",
     "output_type": "stream",
     "text": [
      "Epoch 1/15\n",
      "1174/1174 [==============================] - 473s 402ms/step - loss: 1.2422 - accuracy: 0.5011 - val_loss: 1.2015 - val_accuracy: 0.5358\n",
      "Epoch 2/15\n",
      "1174/1174 [==============================] - 467s 398ms/step - loss: 1.1382 - accuracy: 0.5583 - val_loss: 1.5335 - val_accuracy: 0.4544\n",
      "Epoch 3/15\n",
      "1174/1174 [==============================] - 474s 403ms/step - loss: 1.0348 - accuracy: 0.6038 - val_loss: 1.4491 - val_accuracy: 0.5299\n",
      "Epoch 4/15\n",
      "1174/1174 [==============================] - 474s 403ms/step - loss: 0.9591 - accuracy: 0.6414 - val_loss: 1.4868 - val_accuracy: 0.5593\n",
      "Epoch 5/15\n",
      "1174/1174 [==============================] - 474s 403ms/step - loss: 0.8666 - accuracy: 0.6805 - val_loss: 2.3472 - val_accuracy: 0.5704\n",
      "Epoch 6/15\n",
      "1174/1174 [==============================] - 476s 405ms/step - loss: 0.8004 - accuracy: 0.7043 - val_loss: 1.0794 - val_accuracy: 0.6665\n",
      "Epoch 7/15\n",
      "1174/1174 [==============================] - 474s 403ms/step - loss: 0.7499 - accuracy: 0.7296 - val_loss: 1.6821 - val_accuracy: 0.5041\n",
      "Epoch 8/15\n",
      "1174/1174 [==============================] - 475s 404ms/step - loss: 0.7054 - accuracy: 0.7445 - val_loss: 1.0579 - val_accuracy: 0.6633\n",
      "Epoch 9/15\n",
      "1174/1174 [==============================] - 474s 403ms/step - loss: 0.6598 - accuracy: 0.7629 - val_loss: 4.1185 - val_accuracy: 0.4923\n",
      "Epoch 10/15\n",
      "1174/1174 [==============================] - 465s 396ms/step - loss: 0.6172 - accuracy: 0.7783 - val_loss: 1.8672 - val_accuracy: 0.5998\n",
      "Epoch 11/15\n",
      "1174/1174 [==============================] - 458s 389ms/step - loss: 0.5883 - accuracy: 0.7864 - val_loss: 1.5012 - val_accuracy: 0.6181\n",
      "Epoch 12/15\n",
      "1174/1174 [==============================] - 437s 372ms/step - loss: 0.5601 - accuracy: 0.7963 - val_loss: 1.7660 - val_accuracy: 0.6776\n",
      "Epoch 13/15\n",
      "1174/1174 [==============================] - 416s 354ms/step - loss: 0.5285 - accuracy: 0.8092 - val_loss: 1.7828 - val_accuracy: 0.6972\n",
      "Epoch 14/15\n",
      "1174/1174 [==============================] - 447s 380ms/step - loss: 0.5082 - accuracy: 0.8156 - val_loss: 1.5166 - val_accuracy: 0.7058\n",
      "Epoch 15/15\n",
      "1174/1174 [==============================] - 494s 420ms/step - loss: 0.4859 - accuracy: 0.8241 - val_loss: 1.1013 - val_accuracy: 0.6757\n"
     ]
    }
   ],
   "source": [
    "history = alexnet.fit(\n",
    "    train_ds,\n",
    "    validation_data=val_ds,\n",
    "    epochs=15,\n",
    "    callbacks=early\n",
    ")"
   ]
  },
  {
   "cell_type": "code",
   "execution_count": 40,
   "metadata": {},
   "outputs": [
    {
     "name": "stdout",
     "output_type": "stream",
     "text": [
      "WARNING:tensorflow:Using a while_loop for converting RngReadAndSkip\n",
      "WARNING:tensorflow:Using a while_loop for converting Bitcast\n",
      "WARNING:tensorflow:Using a while_loop for converting Bitcast\n",
      "WARNING:tensorflow:Using a while_loop for converting StatelessRandomUniformV2\n",
      "WARNING:tensorflow:Using a while_loop for converting RngReadAndSkip\n",
      "WARNING:tensorflow:Using a while_loop for converting Bitcast\n",
      "WARNING:tensorflow:Using a while_loop for converting Bitcast\n",
      "WARNING:tensorflow:Using a while_loop for converting StatelessRandomUniformV2\n",
      "WARNING:tensorflow:Using a while_loop for converting ImageProjectiveTransformV3\n",
      "WARNING:tensorflow:Using a while_loop for converting RngReadAndSkip\n",
      "WARNING:tensorflow:Using a while_loop for converting Bitcast\n",
      "WARNING:tensorflow:Using a while_loop for converting Bitcast\n",
      "WARNING:tensorflow:Using a while_loop for converting StatelessRandomUniformV2\n",
      "WARNING:tensorflow:Using a while_loop for converting RngReadAndSkip\n",
      "WARNING:tensorflow:Using a while_loop for converting Bitcast\n",
      "WARNING:tensorflow:Using a while_loop for converting Bitcast\n",
      "WARNING:tensorflow:Using a while_loop for converting StatelessRandomUniformV2\n",
      "WARNING:tensorflow:Using a while_loop for converting ImageProjectiveTransformV3\n",
      "WARNING:tensorflow:Using a while_loop for converting RngReadAndSkip\n",
      "WARNING:tensorflow:Using a while_loop for converting Bitcast\n",
      "WARNING:tensorflow:Using a while_loop for converting Bitcast\n",
      "WARNING:tensorflow:Using a while_loop for converting StatelessRandomUniformV2\n",
      "WARNING:tensorflow:Using a while_loop for converting RngReadAndSkip\n",
      "WARNING:tensorflow:Using a while_loop for converting Bitcast\n",
      "WARNING:tensorflow:Using a while_loop for converting Bitcast\n",
      "WARNING:tensorflow:Using a while_loop for converting StatelessRandomUniformV2\n",
      "WARNING:tensorflow:Using a while_loop for converting ImageProjectiveTransformV3\n"
     ]
    },
    {
     "name": "stderr",
     "output_type": "stream",
     "text": [
      "WARNING:absl:Found untraced functions such as _jit_compiled_convolution_op, _jit_compiled_convolution_op, _jit_compiled_convolution_op, _jit_compiled_convolution_op, _jit_compiled_convolution_op while saving (showing 5 of 5). These functions will not be directly callable after loading.\n"
     ]
    },
    {
     "name": "stdout",
     "output_type": "stream",
     "text": [
      "INFO:tensorflow:Assets written to: ./models/alexnet\\assets\n"
     ]
    },
    {
     "name": "stderr",
     "output_type": "stream",
     "text": [
      "INFO:tensorflow:Assets written to: ./models/alexnet\\assets\n"
     ]
    }
   ],
   "source": [
    "alexnet.save('./models/alexnet')"
   ]
  },
  {
   "cell_type": "code",
   "execution_count": 41,
   "metadata": {},
   "outputs": [
    {
     "data": {
      "image/png": "[encoded data removed]",
      "text/plain": [
       "<Figure size 576x576 with 2 Axes>"
      ]
     },
     "metadata": {
      "needs_background": "light"
     },
     "output_type": "display_data"
    }
   ],
   "source": [
    "history_plot(history)"
   ]
  },
  {
   "cell_type": "code",
   "execution_count": 42,
   "metadata": {},
   "outputs": [
    {
     "name": "stdout",
     "output_type": "stream",
     "text": [
      "1/1 [==============================] - 0s 28ms/step\n",
      "1/1 [==============================] - 0s 47ms/step\n",
      "1/1 [==============================] - 0s 91ms/step\n",
      "1/1 [==============================] - 0s 78ms/step\n",
      "1/1 [==============================] - 0s 49ms/step\n",
      "1/1 [==============================] - 0s 45ms/step\n",
      "1/1 [==============================] - 0s 64ms/step\n",
      "1/1 [==============================] - 0s 59ms/step\n",
      "1/1 [==============================] - 0s 69ms/step\n",
      "1/1 [==============================] - 0s 52ms/step\n",
      "1/1 [==============================] - 0s 33ms/step\n",
      "1/1 [==============================] - 0s 65ms/step\n",
      "1/1 [==============================] - 0s 45ms/step\n",
      "1/1 [==============================] - 0s 46ms/step\n",
      "1/1 [==============================] - 0s 25ms/step\n",
      "1/1 [==============================] - 0s 123ms/step\n",
      "1/1 [==============================] - 0s 66ms/step\n",
      "1/1 [==============================] - 0s 39ms/step\n",
      "1/1 [==============================] - 0s 58ms/step\n",
      "1/1 [==============================] - 0s 29ms/step\n",
      "1/1 [==============================] - 0s 26ms/step\n",
      "1/1 [==============================] - 0s 35ms/step\n",
      "1/1 [==============================] - 0s 55ms/step\n",
      "1/1 [==============================] - 0s 54ms/step\n",
      "1/1 [==============================] - 0s 45ms/step\n",
      "1/1 [==============================] - 0s 40ms/step\n",
      "1/1 [==============================] - 0s 57ms/step\n",
      "1/1 [==============================] - 0s 59ms/step\n",
      "1/1 [==============================] - 0s 53ms/step\n",
      "1/1 [==============================] - 0s 42ms/step\n",
      "1/1 [==============================] - 0s 23ms/step\n",
      "1/1 [==============================] - 0s 25ms/step\n",
      "1/1 [==============================] - 0s 45ms/step\n",
      "1/1 [==============================] - 0s 59ms/step\n",
      "1/1 [==============================] - 0s 31ms/step\n",
      "1/1 [==============================] - 0s 61ms/step\n",
      "1/1 [==============================] - 0s 54ms/step\n",
      "1/1 [==============================] - 0s 27ms/step\n",
      "1/1 [==============================] - 0s 24ms/step\n",
      "1/1 [==============================] - 0s 50ms/step\n",
      "1/1 [==============================] - 0s 35ms/step\n",
      "1/1 [==============================] - 0s 60ms/step\n",
      "1/1 [==============================] - 0s 31ms/step\n",
      "1/1 [==============================] - 0s 49ms/step\n",
      "1/1 [==============================] - 0s 61ms/step\n",
      "1/1 [==============================] - 0s 58ms/step\n",
      "1/1 [==============================] - 0s 37ms/step\n",
      "1/1 [==============================] - 0s 22ms/step\n",
      "1/1 [==============================] - 0s 56ms/step\n",
      "1/1 [==============================] - 0s 39ms/step\n",
      "1/1 [==============================] - 0s 27ms/step\n",
      "1/1 [==============================] - 0s 37ms/step\n",
      "1/1 [==============================] - 0s 28ms/step\n",
      "1/1 [==============================] - 0s 47ms/step\n",
      "1/1 [==============================] - 0s 49ms/step\n",
      "1/1 [==============================] - 0s 47ms/step\n",
      "1/1 [==============================] - 0s 58ms/step\n",
      "1/1 [==============================] - 0s 46ms/step\n",
      "1/1 [==============================] - 0s 36ms/step\n",
      "1/1 [==============================] - 0s 37ms/step\n",
      "1/1 [==============================] - 0s 75ms/step\n",
      "1/1 [==============================] - 0s 57ms/step\n",
      "1/1 [==============================] - 0s 28ms/step\n",
      "1/1 [==============================] - 0s 54ms/step\n",
      "1/1 [==============================] - 0s 46ms/step\n",
      "1/1 [==============================] - 0s 40ms/step\n",
      "1/1 [==============================] - 0s 43ms/step\n",
      "1/1 [==============================] - 0s 95ms/step\n",
      "1/1 [==============================] - 0s 75ms/step\n",
      "1/1 [==============================] - 0s 45ms/step\n",
      "1/1 [==============================] - 0s 49ms/step\n",
      "1/1 [==============================] - 0s 43ms/step\n",
      "1/1 [==============================] - 0s 61ms/step\n",
      "1/1 [==============================] - 0s 31ms/step\n",
      "1/1 [==============================] - 0s 146ms/step\n",
      "1/1 [==============================] - 0s 57ms/step\n",
      "1/1 [==============================] - 0s 49ms/step\n",
      "1/1 [==============================] - 0s 58ms/step\n",
      "1/1 [==============================] - 0s 63ms/step\n",
      "1/1 [==============================] - 0s 51ms/step\n",
      "1/1 [==============================] - 0s 30ms/step\n",
      "1/1 [==============================] - 0s 25ms/step\n",
      "1/1 [==============================] - 0s 47ms/step\n",
      "1/1 [==============================] - 0s 26ms/step\n",
      "1/1 [==============================] - 0s 51ms/step\n",
      "1/1 [==============================] - 0s 51ms/step\n",
      "1/1 [==============================] - 0s 25ms/step\n",
      "1/1 [==============================] - 0s 58ms/step\n",
      "1/1 [==============================] - 0s 55ms/step\n",
      "1/1 [==============================] - 0s 41ms/step\n",
      "1/1 [==============================] - 0s 49ms/step\n",
      "1/1 [==============================] - 0s 30ms/step\n",
      "1/1 [==============================] - 0s 29ms/step\n",
      "1/1 [==============================] - 0s 44ms/step\n",
      "1/1 [==============================] - 0s 26ms/step\n",
      "1/1 [==============================] - 0s 53ms/step\n",
      "1/1 [==============================] - 0s 34ms/step\n",
      "1/1 [==============================] - 0s 31ms/step\n",
      "1/1 [==============================] - 0s 47ms/step\n",
      "1/1 [==============================] - 0s 59ms/step\n",
      "1/1 [==============================] - 0s 48ms/step\n",
      "1/1 [==============================] - 0s 76ms/step\n",
      "1/1 [==============================] - 0s 62ms/step\n",
      "1/1 [==============================] - 0s 49ms/step\n",
      "1/1 [==============================] - 0s 26ms/step\n",
      "1/1 [==============================] - 0s 54ms/step\n",
      "1/1 [==============================] - 0s 63ms/step\n",
      "1/1 [==============================] - 0s 81ms/step\n",
      "1/1 [==============================] - 0s 60ms/step\n",
      "1/1 [==============================] - 0s 53ms/step\n",
      "1/1 [==============================] - 0s 44ms/step\n",
      "1/1 [==============================] - 0s 32ms/step\n",
      "1/1 [==============================] - 0s 61ms/step\n",
      "1/1 [==============================] - 0s 35ms/step\n",
      "1/1 [==============================] - 0s 104ms/step\n",
      "1/1 [==============================] - 0s 30ms/step\n",
      "1/1 [==============================] - 0s 39ms/step\n",
      "1/1 [==============================] - 0s 41ms/step\n",
      "1/1 [==============================] - 0s 53ms/step\n",
      "1/1 [==============================] - 0s 50ms/step\n",
      "1/1 [==============================] - 0s 52ms/step\n",
      "1/1 [==============================] - 0s 37ms/step\n",
      "1/1 [==============================] - 0s 38ms/step\n",
      "1/1 [==============================] - 0s 24ms/step\n",
      "1/1 [==============================] - 0s 26ms/step\n",
      "1/1 [==============================] - 0s 43ms/step\n",
      "1/1 [==============================] - 0s 25ms/step\n",
      "1/1 [==============================] - 0s 25ms/step\n",
      "1/1 [==============================] - 0s 54ms/step\n",
      "1/1 [==============================] - 0s 51ms/step\n",
      "1/1 [==============================] - 0s 54ms/step\n",
      "1/1 [==============================] - 0s 40ms/step\n",
      "1/1 [==============================] - 0s 23ms/step\n",
      "1/1 [==============================] - 0s 27ms/step\n",
      "1/1 [==============================] - 0s 40ms/step\n",
      "1/1 [==============================] - 0s 39ms/step\n",
      "1/1 [==============================] - 0s 27ms/step\n",
      "1/1 [==============================] - 0s 26ms/step\n",
      "1/1 [==============================] - 0s 25ms/step\n",
      "1/1 [==============================] - 0s 62ms/step\n",
      "1/1 [==============================] - 0s 29ms/step\n",
      "1/1 [==============================] - 0s 23ms/step\n",
      "1/1 [==============================] - 0s 30ms/step\n",
      "1/1 [==============================] - 0s 33ms/step\n",
      "1/1 [==============================] - 0s 26ms/step\n",
      "1/1 [==============================] - 0s 33ms/step\n",
      "1/1 [==============================] - 0s 28ms/step\n"
     ]
    }
   ],
   "source": [
    "y_true = []\n",
    "y_pred = []\n",
    "for images, labels in val_ds:\n",
    "    y_true.append(np.argmax(labels, axis=1)) \n",
    "    y_pred.append(np.argmax(alexnet.predict(images), axis=1))\n",
    "y_true = np.hstack(y_true) \n",
    "y_pred = np.hstack(y_pred) "
   ]
  },
  {
   "cell_type": "code",
   "execution_count": 43,
   "metadata": {},
   "outputs": [
    {
     "name": "stdout",
     "output_type": "stream",
     "text": [
      "              precision    recall  f1-score   support\n",
      "\n",
      "           0       0.65      0.39      0.49       670\n",
      "           1       0.66      0.75      0.70       670\n",
      "           2       0.45      0.62      0.52       670\n",
      "           3       0.98      0.58      0.73       670\n",
      "           4       0.50      0.75      0.60       670\n",
      "           5       0.88      0.64      0.74       670\n",
      "           6       0.94      1.00      0.97       670\n",
      "\n",
      "    accuracy                           0.68      4690\n",
      "   macro avg       0.72      0.68      0.68      4690\n",
      "weighted avg       0.72      0.68      0.68      4690\n",
      "\n"
     ]
    },
    {
     "data": {
      "text/plain": [
       "array([[261, 101, 247,   0,  61,   0,   0],\n",
       "       [ 13, 500,  53,   0,  65,  26,  13],\n",
       "       [ 36,  36, 414,   0, 159,  19,   6],\n",
       "       [ 55, 112,  56, 391,  56,   0,   0],\n",
       "       [ 30,   6, 102,   6, 502,  12,  12],\n",
       "       [  6,   6,  51,   1, 165, 431,  10],\n",
       "       [  0,   0,   0,   0,   0,   0, 670]], dtype=int64)"
      ]
     },
     "execution_count": 43,
     "metadata": {},
     "output_type": "execute_result"
    }
   ],
   "source": [
    "print(classification_report(y_true, y_pred))\n",
    "conf = confusion_matrix(y_true, y_pred)\n",
    "conf"
   ]
  },
  {
   "cell_type": "code",
   "execution_count": 53,
   "metadata": {},
   "outputs": [
    {
     "data": {
      "text/plain": [
       "<sklearn.metrics._plot.confusion_matrix.ConfusionMatrixDisplay at 0x27d2f5ff310>"
      ]
     },
     "execution_count": 53,
     "metadata": {},
     "output_type": "execute_result"
    },
    {
     "data": {
      "image/png": "[encoded data removed]",
      "text/plain": [
       "<Figure size 432x288 with 2 Axes>"
      ]
     },
     "metadata": {
      "needs_background": "light"
     },
     "output_type": "display_data"
    }
   ],
   "source": [
    "ConfusionMatrixDisplay(conf, display_labels=cls).plot()"
   ]
  },
  {
   "cell_type": "code",
   "execution_count": 52,
   "metadata": {},
   "outputs": [
    {
     "data": {
      "text/plain": [
       "['akiec', 'bcc', 'bkl', 'df', 'mel', 'nv', 'vasc']"
      ]
     },
     "execution_count": 52,
     "metadata": {},
     "output_type": "execute_result"
    }
   ],
   "source": [
    "cls"
   ]
  },
  {
   "cell_type": "code",
   "execution_count": 3,
   "metadata": {},
   "outputs": [
    {
     "name": "stdout",
     "output_type": "stream",
     "text": [
      "Found 1002 files belonging to 7 classes.\n"
     ]
    }
   ],
   "source": [
    "test_ds = keras.preprocessing.image_dataset_from_directory(\n",
    "  './sampled_classes/test/', \n",
    "  labels='inferred',\n",
    "  label_mode='categorical', \n",
    "  seed=123, \n",
    "  batch_size=32, \n",
    "  image_size=(224,224)\n",
    ")"
   ]
  },
  {
   "cell_type": "code",
   "execution_count": 45,
   "metadata": {},
   "outputs": [
    {
     "name": "stdout",
     "output_type": "stream",
     "text": [
      "32/32 [==============================] - 4s 103ms/step - loss: 0.9056 - accuracy: 0.6427\n"
     ]
    },
    {
     "data": {
      "text/plain": [
       "[0.9056447148323059, 0.6427145600318909]"
      ]
     },
     "execution_count": 45,
     "metadata": {},
     "output_type": "execute_result"
    }
   ],
   "source": [
    "alexnet.evaluate(test_ds)"
   ]
  },
  {
   "cell_type": "code",
   "execution_count": 46,
   "metadata": {},
   "outputs": [],
   "source": [
    "alexnet.save('./models/alexnet_small.h5' )"
   ]
  },
  {
   "cell_type": "code",
   "execution_count": 2,
   "metadata": {},
   "outputs": [
    {
     "name": "stderr",
     "output_type": "stream",
     "text": [
      "2022-05-25 10:31:07.711792: I tensorflow/core/platform/cpu_feature_guard.cc:142] This TensorFlow binary is optimized with oneAPI Deep Neural Network Library (oneDNN) to use the following CPU instructions in performance-critical operations:  SSE4.1 SSE4.2 AVX AVX2 FMA\n",
      "To enable them in other operations, rebuild TensorFlow with the appropriate compiler flags.\n"
     ]
    }
   ],
   "source": [
    "alex = keras.models.load_model('./models/alexnet_small.h5')"
   ]
  },
  {
   "cell_type": "code",
   "execution_count": 4,
   "metadata": {},
   "outputs": [
    {
     "name": "stderr",
     "output_type": "stream",
     "text": [
      "2022-05-25 10:31:29.001143: I tensorflow/compiler/mlir/mlir_graph_optimization_pass.cc:185] None of the MLIR Optimization Passes are enabled (registered 2)\n"
     ]
    },
    {
     "name": "stdout",
     "output_type": "stream",
     "text": [
      "32/32 [==============================] - 29s 825ms/step - loss: 0.9073 - accuracy: 0.6447\n"
     ]
    },
    {
     "data": {
      "text/plain": [
       "[0.9072831273078918, 0.6447106003761292]"
      ]
     },
     "execution_count": 4,
     "metadata": {},
     "output_type": "execute_result"
    }
   ],
   "source": [
    "alex.evaluate(test_ds)"
   ]
  },
  {
   "cell_type": "code",
   "execution_count": 5,
   "metadata": {},
   "outputs": [],
   "source": [
    "y_true = []\n",
    "y_pred = []\n",
    "for images, labels in test_ds:\n",
    "    y_true.append(np.argmax(labels, axis=1)) \n",
    "    y_pred.append(np.argmax(alex.predict(images), axis=1))\n",
    "y_true = np.hstack(y_true) \n",
    "y_pred = np.hstack(y_pred)"
   ]
  },
  {
   "cell_type": "code",
   "execution_count": 19,
   "metadata": {},
   "outputs": [
    {
     "name": "stdout",
     "output_type": "stream",
     "text": [
      "              precision    recall  f1-score   support\n",
      "\n",
      "       akiec       0.46      0.50      0.48        32\n",
      "         bcc       0.59      0.63      0.61        52\n",
      "         bkl       0.45      0.63      0.53       110\n",
      "          df       0.37      0.64      0.47        11\n",
      "         mel       0.29      0.68      0.41       112\n",
      "          nv       0.96      0.64      0.77       671\n",
      "        vasc       0.42      0.93      0.58        14\n",
      "\n",
      "    accuracy                           0.64      1002\n",
      "   macro avg       0.51      0.66      0.55      1002\n",
      "weighted avg       0.78      0.64      0.68      1002\n",
      "\n"
     ]
    },
    {
     "data": {
      "text/plain": [
       "array([[ 16,   7,   7,   1,   1,   0,   0],\n",
       "       [  4,  33,   2,   0,   6,   3,   4],\n",
       "       [  6,   4,  69,   3,  22,   5,   1],\n",
       "       [  0,   1,   2,   7,   1,   0,   0],\n",
       "       [  5,   2,  15,   2,  76,  10,   2],\n",
       "       [  4,   9,  57,   6, 152, 432,  11],\n",
       "       [  0,   0,   0,   0,   0,   1,  13]])"
      ]
     },
     "execution_count": 19,
     "metadata": {},
     "output_type": "execute_result"
    }
   ],
   "source": [
    "print(classification_report(y_true, y_pred, target_names = test_ds.class_names))\n",
    "conf = confusion_matrix(y_true, y_pred)\n",
    "conf"
   ]
  },
  {
   "cell_type": "code",
   "execution_count": 22,
   "metadata": {},
   "outputs": [
    {
     "data": {
      "text/plain": [
       "<sklearn.metrics._plot.confusion_matrix.ConfusionMatrixDisplay at 0x7fde97e9fca0>"
      ]
     },
     "execution_count": 22,
     "metadata": {},
     "output_type": "execute_result"
    },
    {
     "data": {
      "image/png": "[encoded data removed]",
      "text/plain": [
       "<Figure size 432x288 with 2 Axes>"
      ]
     },
     "metadata": {
      "needs_background": "light"
     },
     "output_type": "display_data"
    }
   ],
   "source": [
    "ConfusionMatrixDisplay(conf, display_labels=test_ds.class_names).plot()"
   ]
  },
  {
   "cell_type": "code",
   "execution_count": 27,
   "metadata": {},
   "outputs": [],
   "source": [
    "conf_n = confusion_matrix(y_true, y_pred, normalize='pred')\n"
   ]
  },
  {
   "cell_type": "code",
   "execution_count": 33,
   "metadata": {},
   "outputs": [
    {
     "data": {
      "text/plain": [
       "<sklearn.metrics._plot.confusion_matrix.ConfusionMatrixDisplay at 0x7fde982a5220>"
      ]
     },
     "execution_count": 33,
     "metadata": {},
     "output_type": "execute_result"
    },
    {
     "data": {
      "image/png": "[encoded data removed]",
      "text/plain": [
       "<Figure size 432x288 with 2 Axes>"
      ]
     },
     "metadata": {
      "needs_background": "light"
     },
     "output_type": "display_data"
    }
   ],
   "source": [
    "conf_n = confusion_matrix(y_true, y_pred, normalize='true')\n",
    "ConfusionMatrixDisplay(np.round(conf_n,2), display_labels=test_ds.class_names).plot()"
   ]
  },
  {
   "cell_type": "code",
   "execution_count": 30,
   "metadata": {},
   "outputs": [
    {
     "data": {
      "text/plain": [
       "<sklearn.metrics._plot.confusion_matrix.ConfusionMatrixDisplay at 0x7fde982a5dc0>"
      ]
     },
     "execution_count": 30,
     "metadata": {},
     "output_type": "execute_result"
    },
    {
     "data": {
      "image/png": "[encoded data removed]",
      "text/plain": [
       "<Figure size 432x288 with 2 Axes>"
      ]
     },
     "metadata": {
      "needs_background": "light"
     },
     "output_type": "display_data"
    }
   ],
   "source": [
    "conf_t = confusion_matrix(y_true, y_pred, normalize='pred')\n",
    "ConfusionMatrixDisplay(np.round(conf_t,2), display_labels=test_ds.class_names).plot()"
   ]
  },
  {
   "cell_type": "code",
   "execution_count": null,
   "metadata": {},
   "outputs": [],
   "source": []
  }
 ],
 "metadata": {
  "interpreter": {
   "hash": "85b35dbaecfeb6324bfd2b102a4649f8303ec36695a758fff5bf73890cbd2cad"
  },
  "kernelspec": {
   "display_name": "Python 3.8.13 ('tf')",
   "language": "python",
   "name": "python3"
  },
  "language_info": {
   "codemirror_mode": {
    "name": "ipython",
    "version": 3
   },
   "file_extension": ".py",
   "mimetype": "text/x-python",
   "name": "python",
   "nbconvert_exporter": "python",
   "pygments_lexer": "ipython3",
   "version": "3.8.13"
  },
  "orig_nbformat": 4
 },
 "nbformat": 4,
 "nbformat_minor": 2
}
